{
  "nbformat": 4,
  "nbformat_minor": 0,
  "metadata": {
    "colab": {
      "provenance": [],
      "authorship_tag": "ABX9TyOEP5/iOZZf87zNsJbPfDqK",
      "include_colab_link": true
    },
    "kernelspec": {
      "name": "python3",
      "display_name": "Python 3"
    },
    "language_info": {
      "name": "python"
    }
  },
  "cells": [
    {
      "cell_type": "markdown",
      "metadata": {
        "id": "view-in-github",
        "colab_type": "text"
      },
      "source": [
        "<a href=\"https://colab.research.google.com/github/EldaCalderon/DataWork/blob/main/Pricing_Test.ipynb\" target=\"_parent\"><img src=\"https://colab.research.google.com/assets/colab-badge.svg\" alt=\"Open In Colab\"/></a>"
      ]
    },
    {
      "cell_type": "markdown",
      "source": [
        "# PRICING TEST"
      ],
      "metadata": {
        "id": "J2xRC_GbBtyu"
      }
    },
    {
      "cell_type": "code",
      "source": [
        "import pandas as pd\n",
        "from sklearn import preprocessing \n",
        "from sklearn.preprocessing import OneHotEncoder\n",
        "import matplotlib.pyplot as plt\n",
        "import seaborn as sns"
      ],
      "metadata": {
        "id": "bz9GKmhaCffu"
      },
      "execution_count": 35,
      "outputs": []
    },
    {
      "cell_type": "code",
      "source": [
        "data = pd.read_csv(\"/content/dataset.csv\", sep=\";\")"
      ],
      "metadata": {
        "id": "n1yFpa8NBz22"
      },
      "execution_count": 36,
      "outputs": []
    },
    {
      "cell_type": "markdown",
      "source": [
        "# Cleaning & Transfomations"
      ],
      "metadata": {
        "id": "K2SZt1YdWiL3"
      }
    },
    {
      "cell_type": "code",
      "source": [
        "data.info()"
      ],
      "metadata": {
        "colab": {
          "base_uri": "https://localhost:8080/"
        },
        "id": "tkrS2fMLDRnO",
        "outputId": "49a0178f-b611-4401-9ce6-9abeb958a680"
      },
      "execution_count": 37,
      "outputs": [
        {
          "output_type": "stream",
          "name": "stdout",
          "text": [
            "<class 'pandas.core.frame.DataFrame'>\n",
            "RangeIndex: 14204 entries, 0 to 14203\n",
            "Data columns (total 12 columns):\n",
            " #   Column                     Non-Null Count  Dtype  \n",
            "---  ------                     --------------  -----  \n",
            " 0   Item_Identifier            14204 non-null  object \n",
            " 1   Item_Weight                11765 non-null  float64\n",
            " 2   Item_Fat_Content           14204 non-null  object \n",
            " 3   Item_Visibility            14204 non-null  float64\n",
            " 4   Item_Type                  14204 non-null  object \n",
            " 5   Item_MRP                   14204 non-null  float64\n",
            " 6   Outlet_Identifier          14204 non-null  object \n",
            " 7   Outlet_Establishment_Year  14204 non-null  int64  \n",
            " 8   Outlet_Size                10188 non-null  object \n",
            " 9   Outlet_Location_Type       14204 non-null  object \n",
            " 10  Outlet_Type                14204 non-null  object \n",
            " 11  Item_Outlet_Sales          14204 non-null  float64\n",
            "dtypes: float64(4), int64(1), object(7)\n",
            "memory usage: 1.3+ MB\n"
          ]
        }
      ]
    },
    {
      "cell_type": "code",
      "source": [
        "data.describe()"
      ],
      "metadata": {
        "colab": {
          "base_uri": "https://localhost:8080/",
          "height": 300
        },
        "id": "ovm58vK3Dk99",
        "outputId": "0ef12fba-69ef-4e90-9516-7c826a13859d"
      },
      "execution_count": 38,
      "outputs": [
        {
          "output_type": "execute_result",
          "data": {
            "text/plain": [
              "        Item_Weight  Item_Visibility      Item_MRP  Outlet_Establishment_Year  \\\n",
              "count  11765.000000     14204.000000  14204.000000               14204.000000   \n",
              "mean      12.792854         0.065953    141.004977                1997.830681   \n",
              "std        4.652502         0.051459     62.086938                   8.371664   \n",
              "min        4.555000         0.000000     31.290000                1985.000000   \n",
              "25%        8.710000         0.027036     94.012000                1987.000000   \n",
              "50%       12.600000         0.054021    142.247000                1999.000000   \n",
              "75%       16.750000         0.094037    185.855600                2004.000000   \n",
              "max       21.350000         0.328391    266.888400                2009.000000   \n",
              "\n",
              "       Item_Outlet_Sales  \n",
              "count       14204.000000  \n",
              "mean         2099.333529  \n",
              "std          1542.432736  \n",
              "min            33.290000  \n",
              "25%           878.856000  \n",
              "50%          1828.273367  \n",
              "75%          2949.298043  \n",
              "max         13086.964800  "
            ],
            "text/html": [
              "\n",
              "  <div id=\"df-b8a2804f-c0f2-4237-8611-8cc6288f6541\">\n",
              "    <div class=\"colab-df-container\">\n",
              "      <div>\n",
              "<style scoped>\n",
              "    .dataframe tbody tr th:only-of-type {\n",
              "        vertical-align: middle;\n",
              "    }\n",
              "\n",
              "    .dataframe tbody tr th {\n",
              "        vertical-align: top;\n",
              "    }\n",
              "\n",
              "    .dataframe thead th {\n",
              "        text-align: right;\n",
              "    }\n",
              "</style>\n",
              "<table border=\"1\" class=\"dataframe\">\n",
              "  <thead>\n",
              "    <tr style=\"text-align: right;\">\n",
              "      <th></th>\n",
              "      <th>Item_Weight</th>\n",
              "      <th>Item_Visibility</th>\n",
              "      <th>Item_MRP</th>\n",
              "      <th>Outlet_Establishment_Year</th>\n",
              "      <th>Item_Outlet_Sales</th>\n",
              "    </tr>\n",
              "  </thead>\n",
              "  <tbody>\n",
              "    <tr>\n",
              "      <th>count</th>\n",
              "      <td>11765.000000</td>\n",
              "      <td>14204.000000</td>\n",
              "      <td>14204.000000</td>\n",
              "      <td>14204.000000</td>\n",
              "      <td>14204.000000</td>\n",
              "    </tr>\n",
              "    <tr>\n",
              "      <th>mean</th>\n",
              "      <td>12.792854</td>\n",
              "      <td>0.065953</td>\n",
              "      <td>141.004977</td>\n",
              "      <td>1997.830681</td>\n",
              "      <td>2099.333529</td>\n",
              "    </tr>\n",
              "    <tr>\n",
              "      <th>std</th>\n",
              "      <td>4.652502</td>\n",
              "      <td>0.051459</td>\n",
              "      <td>62.086938</td>\n",
              "      <td>8.371664</td>\n",
              "      <td>1542.432736</td>\n",
              "    </tr>\n",
              "    <tr>\n",
              "      <th>min</th>\n",
              "      <td>4.555000</td>\n",
              "      <td>0.000000</td>\n",
              "      <td>31.290000</td>\n",
              "      <td>1985.000000</td>\n",
              "      <td>33.290000</td>\n",
              "    </tr>\n",
              "    <tr>\n",
              "      <th>25%</th>\n",
              "      <td>8.710000</td>\n",
              "      <td>0.027036</td>\n",
              "      <td>94.012000</td>\n",
              "      <td>1987.000000</td>\n",
              "      <td>878.856000</td>\n",
              "    </tr>\n",
              "    <tr>\n",
              "      <th>50%</th>\n",
              "      <td>12.600000</td>\n",
              "      <td>0.054021</td>\n",
              "      <td>142.247000</td>\n",
              "      <td>1999.000000</td>\n",
              "      <td>1828.273367</td>\n",
              "    </tr>\n",
              "    <tr>\n",
              "      <th>75%</th>\n",
              "      <td>16.750000</td>\n",
              "      <td>0.094037</td>\n",
              "      <td>185.855600</td>\n",
              "      <td>2004.000000</td>\n",
              "      <td>2949.298043</td>\n",
              "    </tr>\n",
              "    <tr>\n",
              "      <th>max</th>\n",
              "      <td>21.350000</td>\n",
              "      <td>0.328391</td>\n",
              "      <td>266.888400</td>\n",
              "      <td>2009.000000</td>\n",
              "      <td>13086.964800</td>\n",
              "    </tr>\n",
              "  </tbody>\n",
              "</table>\n",
              "</div>\n",
              "      <button class=\"colab-df-convert\" onclick=\"convertToInteractive('df-b8a2804f-c0f2-4237-8611-8cc6288f6541')\"\n",
              "              title=\"Convert this dataframe to an interactive table.\"\n",
              "              style=\"display:none;\">\n",
              "        \n",
              "  <svg xmlns=\"http://www.w3.org/2000/svg\" height=\"24px\"viewBox=\"0 0 24 24\"\n",
              "       width=\"24px\">\n",
              "    <path d=\"M0 0h24v24H0V0z\" fill=\"none\"/>\n",
              "    <path d=\"M18.56 5.44l.94 2.06.94-2.06 2.06-.94-2.06-.94-.94-2.06-.94 2.06-2.06.94zm-11 1L8.5 8.5l.94-2.06 2.06-.94-2.06-.94L8.5 2.5l-.94 2.06-2.06.94zm10 10l.94 2.06.94-2.06 2.06-.94-2.06-.94-.94-2.06-.94 2.06-2.06.94z\"/><path d=\"M17.41 7.96l-1.37-1.37c-.4-.4-.92-.59-1.43-.59-.52 0-1.04.2-1.43.59L10.3 9.45l-7.72 7.72c-.78.78-.78 2.05 0 2.83L4 21.41c.39.39.9.59 1.41.59.51 0 1.02-.2 1.41-.59l7.78-7.78 2.81-2.81c.8-.78.8-2.07 0-2.86zM5.41 20L4 18.59l7.72-7.72 1.47 1.35L5.41 20z\"/>\n",
              "  </svg>\n",
              "      </button>\n",
              "      \n",
              "  <style>\n",
              "    .colab-df-container {\n",
              "      display:flex;\n",
              "      flex-wrap:wrap;\n",
              "      gap: 12px;\n",
              "    }\n",
              "\n",
              "    .colab-df-convert {\n",
              "      background-color: #E8F0FE;\n",
              "      border: none;\n",
              "      border-radius: 50%;\n",
              "      cursor: pointer;\n",
              "      display: none;\n",
              "      fill: #1967D2;\n",
              "      height: 32px;\n",
              "      padding: 0 0 0 0;\n",
              "      width: 32px;\n",
              "    }\n",
              "\n",
              "    .colab-df-convert:hover {\n",
              "      background-color: #E2EBFA;\n",
              "      box-shadow: 0px 1px 2px rgba(60, 64, 67, 0.3), 0px 1px 3px 1px rgba(60, 64, 67, 0.15);\n",
              "      fill: #174EA6;\n",
              "    }\n",
              "\n",
              "    [theme=dark] .colab-df-convert {\n",
              "      background-color: #3B4455;\n",
              "      fill: #D2E3FC;\n",
              "    }\n",
              "\n",
              "    [theme=dark] .colab-df-convert:hover {\n",
              "      background-color: #434B5C;\n",
              "      box-shadow: 0px 1px 3px 1px rgba(0, 0, 0, 0.15);\n",
              "      filter: drop-shadow(0px 1px 2px rgba(0, 0, 0, 0.3));\n",
              "      fill: #FFFFFF;\n",
              "    }\n",
              "  </style>\n",
              "\n",
              "      <script>\n",
              "        const buttonEl =\n",
              "          document.querySelector('#df-b8a2804f-c0f2-4237-8611-8cc6288f6541 button.colab-df-convert');\n",
              "        buttonEl.style.display =\n",
              "          google.colab.kernel.accessAllowed ? 'block' : 'none';\n",
              "\n",
              "        async function convertToInteractive(key) {\n",
              "          const element = document.querySelector('#df-b8a2804f-c0f2-4237-8611-8cc6288f6541');\n",
              "          const dataTable =\n",
              "            await google.colab.kernel.invokeFunction('convertToInteractive',\n",
              "                                                     [key], {});\n",
              "          if (!dataTable) return;\n",
              "\n",
              "          const docLinkHtml = 'Like what you see? Visit the ' +\n",
              "            '<a target=\"_blank\" href=https://colab.research.google.com/notebooks/data_table.ipynb>data table notebook</a>'\n",
              "            + ' to learn more about interactive tables.';\n",
              "          element.innerHTML = '';\n",
              "          dataTable['output_type'] = 'display_data';\n",
              "          await google.colab.output.renderOutput(dataTable, element);\n",
              "          const docLink = document.createElement('div');\n",
              "          docLink.innerHTML = docLinkHtml;\n",
              "          element.appendChild(docLink);\n",
              "        }\n",
              "      </script>\n",
              "    </div>\n",
              "  </div>\n",
              "  "
            ]
          },
          "metadata": {},
          "execution_count": 38
        }
      ]
    },
    {
      "cell_type": "markdown",
      "source": [
        "### Null Values"
      ],
      "metadata": {
        "id": "6bfmhpfiDzsW"
      }
    },
    {
      "cell_type": "code",
      "source": [
        "data.isnull().sum()"
      ],
      "metadata": {
        "colab": {
          "base_uri": "https://localhost:8080/"
        },
        "id": "Y56BjXjfD6IZ",
        "outputId": "e1193b39-e933-49b9-8c04-143ac88ac30e"
      },
      "execution_count": 39,
      "outputs": [
        {
          "output_type": "execute_result",
          "data": {
            "text/plain": [
              "Item_Identifier                 0\n",
              "Item_Weight                  2439\n",
              "Item_Fat_Content                0\n",
              "Item_Visibility                 0\n",
              "Item_Type                       0\n",
              "Item_MRP                        0\n",
              "Outlet_Identifier               0\n",
              "Outlet_Establishment_Year       0\n",
              "Outlet_Size                  4016\n",
              "Outlet_Location_Type            0\n",
              "Outlet_Type                     0\n",
              "Item_Outlet_Sales               0\n",
              "dtype: int64"
            ]
          },
          "metadata": {},
          "execution_count": 39
        }
      ]
    },
    {
      "cell_type": "code",
      "source": [
        "2439 / data[\"Item_Weight\"].shape[0]"
      ],
      "metadata": {
        "colab": {
          "base_uri": "https://localhost:8080/"
        },
        "id": "Kj1i6hVaEbRo",
        "outputId": "078af64e-98f3-4885-9615-eaef4844e67d"
      },
      "execution_count": 40,
      "outputs": [
        {
          "output_type": "execute_result",
          "data": {
            "text/plain": [
              "0.17171219374823993"
            ]
          },
          "metadata": {},
          "execution_count": 40
        }
      ]
    },
    {
      "cell_type": "code",
      "source": [
        "4016 / data[\"Outlet_Size\"].shape[0]"
      ],
      "metadata": {
        "colab": {
          "base_uri": "https://localhost:8080/"
        },
        "id": "vDq4mLU7EuoB",
        "outputId": "eefe8bbf-cbab-45e2-f346-409a897b1f52"
      },
      "execution_count": 41,
      "outputs": [
        {
          "output_type": "execute_result",
          "data": {
            "text/plain": [
              "0.28273725711067305"
            ]
          },
          "metadata": {},
          "execution_count": 41
        }
      ]
    },
    {
      "cell_type": "code",
      "source": [
        "data"
      ],
      "metadata": {
        "colab": {
          "base_uri": "https://localhost:8080/",
          "height": 661
        },
        "id": "QyOmyT22En0R",
        "outputId": "efe85df0-95a6-4104-c999-7d09c7b97aab"
      },
      "execution_count": 42,
      "outputs": [
        {
          "output_type": "execute_result",
          "data": {
            "text/plain": [
              "      Item_Identifier  Item_Weight Item_Fat_Content  Item_Visibility  \\\n",
              "0               FDA15         9.30          Low Fat         0.016047   \n",
              "1               DRC01         5.92          Regular         0.019278   \n",
              "2               FDN15        17.50          Low Fat         0.016760   \n",
              "3               FDX07        19.20          Regular         0.000000   \n",
              "4               NCD19         8.93          Low Fat         0.000000   \n",
              "...               ...          ...              ...              ...   \n",
              "14199           FDB58        10.50          Regular         0.013496   \n",
              "14200           FDD47         7.60          Regular         0.142991   \n",
              "14201           NCO17        10.00          Low Fat         0.073529   \n",
              "14202           FDJ26        15.30          Regular         0.000000   \n",
              "14203           FDU37         9.50          Regular         0.104720   \n",
              "\n",
              "                   Item_Type  Item_MRP Outlet_Identifier  \\\n",
              "0                      Dairy  249.8092            OUT049   \n",
              "1                Soft Drinks   48.2692            OUT018   \n",
              "2                       Meat  141.6180            OUT049   \n",
              "3      Fruits and Vegetables  182.0950            OUT010   \n",
              "4                  Household   53.8614            OUT013   \n",
              "...                      ...       ...               ...   \n",
              "14199            Snack Foods  141.3154            OUT046   \n",
              "14200          Starchy Foods  169.1448            OUT018   \n",
              "14201     Health and Hygiene  118.7440            OUT045   \n",
              "14202                 Canned  214.6218            OUT017   \n",
              "14203                 Canned   79.7960            OUT045   \n",
              "\n",
              "       Outlet_Establishment_Year Outlet_Size Outlet_Location_Type  \\\n",
              "0                           1999      Medium               Tier 1   \n",
              "1                           2009      Medium               Tier 3   \n",
              "2                           1999      Medium               Tier 1   \n",
              "3                           1998         NaN               Tier 3   \n",
              "4                           1987        High               Tier 3   \n",
              "...                          ...         ...                  ...   \n",
              "14199                       1997       Small               Tier 1   \n",
              "14200                       2009      Medium               Tier 3   \n",
              "14201                       2002         NaN               Tier 2   \n",
              "14202                       2007         NaN               Tier 2   \n",
              "14203                       2002         NaN               Tier 2   \n",
              "\n",
              "             Outlet_Type  Item_Outlet_Sales  \n",
              "0      Supermarket Type1        3735.138000  \n",
              "1      Supermarket Type2         443.422800  \n",
              "2      Supermarket Type1        2097.270000  \n",
              "3          Grocery Store         732.380000  \n",
              "4      Supermarket Type1         994.705200  \n",
              "...                  ...                ...  \n",
              "14199  Supermarket Type1        2213.476465  \n",
              "14200  Supermarket Type2        2349.547110  \n",
              "14201  Supermarket Type1        1892.981544  \n",
              "14202  Supermarket Type1        4533.564958  \n",
              "14203  Supermarket Type1        1302.235520  \n",
              "\n",
              "[14204 rows x 12 columns]"
            ],
            "text/html": [
              "\n",
              "  <div id=\"df-cfa05fc5-d598-421d-9b4b-63469034599d\">\n",
              "    <div class=\"colab-df-container\">\n",
              "      <div>\n",
              "<style scoped>\n",
              "    .dataframe tbody tr th:only-of-type {\n",
              "        vertical-align: middle;\n",
              "    }\n",
              "\n",
              "    .dataframe tbody tr th {\n",
              "        vertical-align: top;\n",
              "    }\n",
              "\n",
              "    .dataframe thead th {\n",
              "        text-align: right;\n",
              "    }\n",
              "</style>\n",
              "<table border=\"1\" class=\"dataframe\">\n",
              "  <thead>\n",
              "    <tr style=\"text-align: right;\">\n",
              "      <th></th>\n",
              "      <th>Item_Identifier</th>\n",
              "      <th>Item_Weight</th>\n",
              "      <th>Item_Fat_Content</th>\n",
              "      <th>Item_Visibility</th>\n",
              "      <th>Item_Type</th>\n",
              "      <th>Item_MRP</th>\n",
              "      <th>Outlet_Identifier</th>\n",
              "      <th>Outlet_Establishment_Year</th>\n",
              "      <th>Outlet_Size</th>\n",
              "      <th>Outlet_Location_Type</th>\n",
              "      <th>Outlet_Type</th>\n",
              "      <th>Item_Outlet_Sales</th>\n",
              "    </tr>\n",
              "  </thead>\n",
              "  <tbody>\n",
              "    <tr>\n",
              "      <th>0</th>\n",
              "      <td>FDA15</td>\n",
              "      <td>9.30</td>\n",
              "      <td>Low Fat</td>\n",
              "      <td>0.016047</td>\n",
              "      <td>Dairy</td>\n",
              "      <td>249.8092</td>\n",
              "      <td>OUT049</td>\n",
              "      <td>1999</td>\n",
              "      <td>Medium</td>\n",
              "      <td>Tier 1</td>\n",
              "      <td>Supermarket Type1</td>\n",
              "      <td>3735.138000</td>\n",
              "    </tr>\n",
              "    <tr>\n",
              "      <th>1</th>\n",
              "      <td>DRC01</td>\n",
              "      <td>5.92</td>\n",
              "      <td>Regular</td>\n",
              "      <td>0.019278</td>\n",
              "      <td>Soft Drinks</td>\n",
              "      <td>48.2692</td>\n",
              "      <td>OUT018</td>\n",
              "      <td>2009</td>\n",
              "      <td>Medium</td>\n",
              "      <td>Tier 3</td>\n",
              "      <td>Supermarket Type2</td>\n",
              "      <td>443.422800</td>\n",
              "    </tr>\n",
              "    <tr>\n",
              "      <th>2</th>\n",
              "      <td>FDN15</td>\n",
              "      <td>17.50</td>\n",
              "      <td>Low Fat</td>\n",
              "      <td>0.016760</td>\n",
              "      <td>Meat</td>\n",
              "      <td>141.6180</td>\n",
              "      <td>OUT049</td>\n",
              "      <td>1999</td>\n",
              "      <td>Medium</td>\n",
              "      <td>Tier 1</td>\n",
              "      <td>Supermarket Type1</td>\n",
              "      <td>2097.270000</td>\n",
              "    </tr>\n",
              "    <tr>\n",
              "      <th>3</th>\n",
              "      <td>FDX07</td>\n",
              "      <td>19.20</td>\n",
              "      <td>Regular</td>\n",
              "      <td>0.000000</td>\n",
              "      <td>Fruits and Vegetables</td>\n",
              "      <td>182.0950</td>\n",
              "      <td>OUT010</td>\n",
              "      <td>1998</td>\n",
              "      <td>NaN</td>\n",
              "      <td>Tier 3</td>\n",
              "      <td>Grocery Store</td>\n",
              "      <td>732.380000</td>\n",
              "    </tr>\n",
              "    <tr>\n",
              "      <th>4</th>\n",
              "      <td>NCD19</td>\n",
              "      <td>8.93</td>\n",
              "      <td>Low Fat</td>\n",
              "      <td>0.000000</td>\n",
              "      <td>Household</td>\n",
              "      <td>53.8614</td>\n",
              "      <td>OUT013</td>\n",
              "      <td>1987</td>\n",
              "      <td>High</td>\n",
              "      <td>Tier 3</td>\n",
              "      <td>Supermarket Type1</td>\n",
              "      <td>994.705200</td>\n",
              "    </tr>\n",
              "    <tr>\n",
              "      <th>...</th>\n",
              "      <td>...</td>\n",
              "      <td>...</td>\n",
              "      <td>...</td>\n",
              "      <td>...</td>\n",
              "      <td>...</td>\n",
              "      <td>...</td>\n",
              "      <td>...</td>\n",
              "      <td>...</td>\n",
              "      <td>...</td>\n",
              "      <td>...</td>\n",
              "      <td>...</td>\n",
              "      <td>...</td>\n",
              "    </tr>\n",
              "    <tr>\n",
              "      <th>14199</th>\n",
              "      <td>FDB58</td>\n",
              "      <td>10.50</td>\n",
              "      <td>Regular</td>\n",
              "      <td>0.013496</td>\n",
              "      <td>Snack Foods</td>\n",
              "      <td>141.3154</td>\n",
              "      <td>OUT046</td>\n",
              "      <td>1997</td>\n",
              "      <td>Small</td>\n",
              "      <td>Tier 1</td>\n",
              "      <td>Supermarket Type1</td>\n",
              "      <td>2213.476465</td>\n",
              "    </tr>\n",
              "    <tr>\n",
              "      <th>14200</th>\n",
              "      <td>FDD47</td>\n",
              "      <td>7.60</td>\n",
              "      <td>Regular</td>\n",
              "      <td>0.142991</td>\n",
              "      <td>Starchy Foods</td>\n",
              "      <td>169.1448</td>\n",
              "      <td>OUT018</td>\n",
              "      <td>2009</td>\n",
              "      <td>Medium</td>\n",
              "      <td>Tier 3</td>\n",
              "      <td>Supermarket Type2</td>\n",
              "      <td>2349.547110</td>\n",
              "    </tr>\n",
              "    <tr>\n",
              "      <th>14201</th>\n",
              "      <td>NCO17</td>\n",
              "      <td>10.00</td>\n",
              "      <td>Low Fat</td>\n",
              "      <td>0.073529</td>\n",
              "      <td>Health and Hygiene</td>\n",
              "      <td>118.7440</td>\n",
              "      <td>OUT045</td>\n",
              "      <td>2002</td>\n",
              "      <td>NaN</td>\n",
              "      <td>Tier 2</td>\n",
              "      <td>Supermarket Type1</td>\n",
              "      <td>1892.981544</td>\n",
              "    </tr>\n",
              "    <tr>\n",
              "      <th>14202</th>\n",
              "      <td>FDJ26</td>\n",
              "      <td>15.30</td>\n",
              "      <td>Regular</td>\n",
              "      <td>0.000000</td>\n",
              "      <td>Canned</td>\n",
              "      <td>214.6218</td>\n",
              "      <td>OUT017</td>\n",
              "      <td>2007</td>\n",
              "      <td>NaN</td>\n",
              "      <td>Tier 2</td>\n",
              "      <td>Supermarket Type1</td>\n",
              "      <td>4533.564958</td>\n",
              "    </tr>\n",
              "    <tr>\n",
              "      <th>14203</th>\n",
              "      <td>FDU37</td>\n",
              "      <td>9.50</td>\n",
              "      <td>Regular</td>\n",
              "      <td>0.104720</td>\n",
              "      <td>Canned</td>\n",
              "      <td>79.7960</td>\n",
              "      <td>OUT045</td>\n",
              "      <td>2002</td>\n",
              "      <td>NaN</td>\n",
              "      <td>Tier 2</td>\n",
              "      <td>Supermarket Type1</td>\n",
              "      <td>1302.235520</td>\n",
              "    </tr>\n",
              "  </tbody>\n",
              "</table>\n",
              "<p>14204 rows × 12 columns</p>\n",
              "</div>\n",
              "      <button class=\"colab-df-convert\" onclick=\"convertToInteractive('df-cfa05fc5-d598-421d-9b4b-63469034599d')\"\n",
              "              title=\"Convert this dataframe to an interactive table.\"\n",
              "              style=\"display:none;\">\n",
              "        \n",
              "  <svg xmlns=\"http://www.w3.org/2000/svg\" height=\"24px\"viewBox=\"0 0 24 24\"\n",
              "       width=\"24px\">\n",
              "    <path d=\"M0 0h24v24H0V0z\" fill=\"none\"/>\n",
              "    <path d=\"M18.56 5.44l.94 2.06.94-2.06 2.06-.94-2.06-.94-.94-2.06-.94 2.06-2.06.94zm-11 1L8.5 8.5l.94-2.06 2.06-.94-2.06-.94L8.5 2.5l-.94 2.06-2.06.94zm10 10l.94 2.06.94-2.06 2.06-.94-2.06-.94-.94-2.06-.94 2.06-2.06.94z\"/><path d=\"M17.41 7.96l-1.37-1.37c-.4-.4-.92-.59-1.43-.59-.52 0-1.04.2-1.43.59L10.3 9.45l-7.72 7.72c-.78.78-.78 2.05 0 2.83L4 21.41c.39.39.9.59 1.41.59.51 0 1.02-.2 1.41-.59l7.78-7.78 2.81-2.81c.8-.78.8-2.07 0-2.86zM5.41 20L4 18.59l7.72-7.72 1.47 1.35L5.41 20z\"/>\n",
              "  </svg>\n",
              "      </button>\n",
              "      \n",
              "  <style>\n",
              "    .colab-df-container {\n",
              "      display:flex;\n",
              "      flex-wrap:wrap;\n",
              "      gap: 12px;\n",
              "    }\n",
              "\n",
              "    .colab-df-convert {\n",
              "      background-color: #E8F0FE;\n",
              "      border: none;\n",
              "      border-radius: 50%;\n",
              "      cursor: pointer;\n",
              "      display: none;\n",
              "      fill: #1967D2;\n",
              "      height: 32px;\n",
              "      padding: 0 0 0 0;\n",
              "      width: 32px;\n",
              "    }\n",
              "\n",
              "    .colab-df-convert:hover {\n",
              "      background-color: #E2EBFA;\n",
              "      box-shadow: 0px 1px 2px rgba(60, 64, 67, 0.3), 0px 1px 3px 1px rgba(60, 64, 67, 0.15);\n",
              "      fill: #174EA6;\n",
              "    }\n",
              "\n",
              "    [theme=dark] .colab-df-convert {\n",
              "      background-color: #3B4455;\n",
              "      fill: #D2E3FC;\n",
              "    }\n",
              "\n",
              "    [theme=dark] .colab-df-convert:hover {\n",
              "      background-color: #434B5C;\n",
              "      box-shadow: 0px 1px 3px 1px rgba(0, 0, 0, 0.15);\n",
              "      filter: drop-shadow(0px 1px 2px rgba(0, 0, 0, 0.3));\n",
              "      fill: #FFFFFF;\n",
              "    }\n",
              "  </style>\n",
              "\n",
              "      <script>\n",
              "        const buttonEl =\n",
              "          document.querySelector('#df-cfa05fc5-d598-421d-9b4b-63469034599d button.colab-df-convert');\n",
              "        buttonEl.style.display =\n",
              "          google.colab.kernel.accessAllowed ? 'block' : 'none';\n",
              "\n",
              "        async function convertToInteractive(key) {\n",
              "          const element = document.querySelector('#df-cfa05fc5-d598-421d-9b4b-63469034599d');\n",
              "          const dataTable =\n",
              "            await google.colab.kernel.invokeFunction('convertToInteractive',\n",
              "                                                     [key], {});\n",
              "          if (!dataTable) return;\n",
              "\n",
              "          const docLinkHtml = 'Like what you see? Visit the ' +\n",
              "            '<a target=\"_blank\" href=https://colab.research.google.com/notebooks/data_table.ipynb>data table notebook</a>'\n",
              "            + ' to learn more about interactive tables.';\n",
              "          element.innerHTML = '';\n",
              "          dataTable['output_type'] = 'display_data';\n",
              "          await google.colab.output.renderOutput(dataTable, element);\n",
              "          const docLink = document.createElement('div');\n",
              "          docLink.innerHTML = docLinkHtml;\n",
              "          element.appendChild(docLink);\n",
              "        }\n",
              "      </script>\n",
              "    </div>\n",
              "  </div>\n",
              "  "
            ]
          },
          "metadata": {},
          "execution_count": 42
        }
      ]
    },
    {
      "cell_type": "code",
      "source": [
        "data.hist(column = \"Item_Weight\")"
      ],
      "metadata": {
        "colab": {
          "base_uri": "https://localhost:8080/",
          "height": 298
        },
        "id": "U8ezH-JPTWFx",
        "outputId": "988119c3-327e-494a-8913-45f1fcc0f418"
      },
      "execution_count": 43,
      "outputs": [
        {
          "output_type": "execute_result",
          "data": {
            "text/plain": [
              "array([[<AxesSubplot:title={'center':'Item_Weight'}>]], dtype=object)"
            ]
          },
          "metadata": {},
          "execution_count": 43
        },
        {
          "output_type": "display_data",
          "data": {
            "text/plain": [
              "<Figure size 432x288 with 1 Axes>"
            ],
            "image/png": "[encoded data removed]"
          },
          "metadata": {
            "needs_background": "light"
          }
        }
      ]
    },
    {
      "cell_type": "markdown",
      "source": [
        "17% of missing values at Item Weight. I will apply imputation with mean\n",
        "28% of missing values at Outlet Size. Due it is almost a third of missing values I won't consider this variable in the analysis"
      ],
      "metadata": {
        "id": "-I8ysgM5G3za"
      }
    },
    {
      "cell_type": "code",
      "source": [
        "# Applying imputation\n",
        "\n",
        "data['Item_Weight'].fillna(data['Item_Weight'].mean(), inplace = True)\n"
      ],
      "metadata": {
        "id": "9o41n6yQUh7T"
      },
      "execution_count": 44,
      "outputs": []
    },
    {
      "cell_type": "code",
      "source": [
        "data2 = data.drop(\"Outlet_Size\", axis='columns')\n",
        "\n",
        "data2.info()"
      ],
      "metadata": {
        "colab": {
          "base_uri": "https://localhost:8080/"
        },
        "id": "PXSFVQxoVzab",
        "outputId": "54ef39df-94bc-450b-f9c9-9c2102521fc1"
      },
      "execution_count": 45,
      "outputs": [
        {
          "output_type": "stream",
          "name": "stdout",
          "text": [
            "<class 'pandas.core.frame.DataFrame'>\n",
            "RangeIndex: 14204 entries, 0 to 14203\n",
            "Data columns (total 11 columns):\n",
            " #   Column                     Non-Null Count  Dtype  \n",
            "---  ------                     --------------  -----  \n",
            " 0   Item_Identifier            14204 non-null  object \n",
            " 1   Item_Weight                14204 non-null  float64\n",
            " 2   Item_Fat_Content           14204 non-null  object \n",
            " 3   Item_Visibility            14204 non-null  float64\n",
            " 4   Item_Type                  14204 non-null  object \n",
            " 5   Item_MRP                   14204 non-null  float64\n",
            " 6   Outlet_Identifier          14204 non-null  object \n",
            " 7   Outlet_Establishment_Year  14204 non-null  int64  \n",
            " 8   Outlet_Location_Type       14204 non-null  object \n",
            " 9   Outlet_Type                14204 non-null  object \n",
            " 10  Item_Outlet_Sales          14204 non-null  float64\n",
            "dtypes: float64(4), int64(1), object(6)\n",
            "memory usage: 1.2+ MB\n"
          ]
        }
      ]
    },
    {
      "cell_type": "markdown",
      "source": [
        "## Categorical Variables Transformations"
      ],
      "metadata": {
        "id": "uSa-HGbDW-qL"
      }
    },
    {
      "cell_type": "code",
      "source": [
        "# Fat Content\n",
        "# It's possible identify 2 categories in Item Fat: Low Fat and Regular\n",
        "data2[\"Item_Fat_Content\"].unique()"
      ],
      "metadata": {
        "colab": {
          "base_uri": "https://localhost:8080/"
        },
        "id": "YAL_W9P6WS6M",
        "outputId": "950c2aff-d8a9-4485-8004-12da0b6c5d2f"
      },
      "execution_count": 46,
      "outputs": [
        {
          "output_type": "execute_result",
          "data": {
            "text/plain": [
              "array(['Low Fat', 'Regular', 'low fat', 'LF', 'reg'], dtype=object)"
            ]
          },
          "metadata": {},
          "execution_count": 46
        }
      ]
    },
    {
      "cell_type": "code",
      "source": [
        "data2[\"Item_Fat_Content\"][data2[\"Item_Fat_Content\"] == 'low fat'] = 'Low Fat'"
      ],
      "metadata": {
        "colab": {
          "base_uri": "https://localhost:8080/"
        },
        "id": "QaI9faIhXV_v",
        "outputId": "94cc2592-b10a-4903-889c-b78be4a8859a"
      },
      "execution_count": 47,
      "outputs": [
        {
          "output_type": "stream",
          "name": "stderr",
          "text": [
            "<ipython-input-47-f94bb8a34bdf>:1: SettingWithCopyWarning: \n",
            "A value is trying to be set on a copy of a slice from a DataFrame\n",
            "\n",
            "See the caveats in the documentation: https://pandas.pydata.org/pandas-docs/stable/user_guide/indexing.html#returning-a-view-versus-a-copy\n",
            "  data2[\"Item_Fat_Content\"][data2[\"Item_Fat_Content\"] == 'low fat'] = 'Low Fat'\n"
          ]
        }
      ]
    },
    {
      "cell_type": "code",
      "source": [
        "data2[\"Item_Fat_Content\"][data2[\"Item_Fat_Content\"] == 'LF'] = 'Low Fat'"
      ],
      "metadata": {
        "colab": {
          "base_uri": "https://localhost:8080/"
        },
        "id": "P0ZDfZmZXtHT",
        "outputId": "106093ac-6cf8-40e7-e3ec-ff2200aa19fe"
      },
      "execution_count": 48,
      "outputs": [
        {
          "output_type": "stream",
          "name": "stderr",
          "text": [
            "<ipython-input-48-3057a5222d32>:1: SettingWithCopyWarning: \n",
            "A value is trying to be set on a copy of a slice from a DataFrame\n",
            "\n",
            "See the caveats in the documentation: https://pandas.pydata.org/pandas-docs/stable/user_guide/indexing.html#returning-a-view-versus-a-copy\n",
            "  data2[\"Item_Fat_Content\"][data2[\"Item_Fat_Content\"] == 'LF'] = 'Low Fat'\n"
          ]
        }
      ]
    },
    {
      "cell_type": "code",
      "source": [
        "data2[\"Item_Fat_Content\"][data2[\"Item_Fat_Content\"] == 'reg'] = 'Regular'"
      ],
      "metadata": {
        "colab": {
          "base_uri": "https://localhost:8080/"
        },
        "id": "LnUHAhcxX8Bp",
        "outputId": "bed701a2-60b5-43a2-fc7e-daa984e7923e"
      },
      "execution_count": 49,
      "outputs": [
        {
          "output_type": "stream",
          "name": "stderr",
          "text": [
            "<ipython-input-49-61029166ddcc>:1: SettingWithCopyWarning: \n",
            "A value is trying to be set on a copy of a slice from a DataFrame\n",
            "\n",
            "See the caveats in the documentation: https://pandas.pydata.org/pandas-docs/stable/user_guide/indexing.html#returning-a-view-versus-a-copy\n",
            "  data2[\"Item_Fat_Content\"][data2[\"Item_Fat_Content\"] == 'reg'] = 'Regular'\n"
          ]
        }
      ]
    },
    {
      "cell_type": "code",
      "source": [
        "data2[\"Item_Fat_Content\"].unique()"
      ],
      "metadata": {
        "colab": {
          "base_uri": "https://localhost:8080/"
        },
        "id": "EGlXgauLYC79",
        "outputId": "5ff5ab54-6e08-44ef-ff33-6d7dc2b66395"
      },
      "execution_count": 50,
      "outputs": [
        {
          "output_type": "execute_result",
          "data": {
            "text/plain": [
              "array(['Low Fat', 'Regular'], dtype=object)"
            ]
          },
          "metadata": {},
          "execution_count": 50
        }
      ]
    },
    {
      "cell_type": "code",
      "source": [
        "# Item Type\n",
        "data2[\"Item_Type\"].unique()"
      ],
      "metadata": {
        "colab": {
          "base_uri": "https://localhost:8080/"
        },
        "id": "F8skhkGlYMHi",
        "outputId": "5f45f939-ec05-44af-ca4b-99f573ebe458"
      },
      "execution_count": 51,
      "outputs": [
        {
          "output_type": "execute_result",
          "data": {
            "text/plain": [
              "array(['Dairy', 'Soft Drinks', 'Meat', 'Fruits and Vegetables',\n",
              "       'Household', 'Baking Goods', 'Snack Foods', 'Frozen Foods',\n",
              "       'Breakfast', 'Health and Hygiene', 'Hard Drinks', 'Canned',\n",
              "       'Breads', 'Starchy Foods', 'Others', 'Seafood'], dtype=object)"
            ]
          },
          "metadata": {},
          "execution_count": 51
        }
      ]
    },
    {
      "cell_type": "code",
      "source": [
        "# Outlet_Location_Type\n",
        "data2[\"Outlet_Location_Type\"].unique()"
      ],
      "metadata": {
        "colab": {
          "base_uri": "https://localhost:8080/"
        },
        "id": "0rn7_3-zZRTr",
        "outputId": "9fe9bb3e-51b3-4e4e-e1eb-f11a8998a131"
      },
      "execution_count": 52,
      "outputs": [
        {
          "output_type": "execute_result",
          "data": {
            "text/plain": [
              "array(['Tier 1', 'Tier 3', 'Tier 2'], dtype=object)"
            ]
          },
          "metadata": {},
          "execution_count": 52
        }
      ]
    },
    {
      "cell_type": "code",
      "source": [
        "# Outlet_Type\n",
        "data2[\"Outlet_Type\"].unique()"
      ],
      "metadata": {
        "colab": {
          "base_uri": "https://localhost:8080/"
        },
        "id": "y9H2-r7WZY4i",
        "outputId": "f68b3c45-608e-4299-c0fd-d1d39e126ba6"
      },
      "execution_count": 53,
      "outputs": [
        {
          "output_type": "execute_result",
          "data": {
            "text/plain": [
              "array(['Supermarket Type1', 'Supermarket Type2', 'Grocery Store',\n",
              "       'Supermarket Type3'], dtype=object)"
            ]
          },
          "metadata": {},
          "execution_count": 53
        }
      ]
    },
    {
      "cell_type": "code",
      "source": [
        "# Categorical transformation in variables Item Fat Content, Item Type, Outlet Location Type, Outlet Type\n",
        "\n",
        "label_encoder = preprocessing.LabelEncoder()\n",
        "label_encoder.fit_transform(data2[\"Item_Fat_Content\"])"
      ],
      "metadata": {
        "colab": {
          "base_uri": "https://localhost:8080/"
        },
        "id": "C5t7rcxYY02S",
        "outputId": "22f222b5-c0c2-4420-d01c-4f8b2668b709"
      },
      "execution_count": 54,
      "outputs": [
        {
          "output_type": "execute_result",
          "data": {
            "text/plain": [
              "array([0, 1, 0, ..., 0, 1, 1])"
            ]
          },
          "metadata": {},
          "execution_count": 54
        }
      ]
    },
    {
      "cell_type": "code",
      "source": [
        "data3 = pd.get_dummies(data2, columns = [\"Item_Fat_Content\", \"Item_Type\"])"
      ],
      "metadata": {
        "id": "brUwiyL9Z8xU"
      },
      "execution_count": 55,
      "outputs": []
    },
    {
      "cell_type": "code",
      "source": [
        "data4 = data3\n",
        "data4[\"Outlet_Location_Type\"] = label_encoder.fit_transform(data3[\"Outlet_Location_Type\"])"
      ],
      "metadata": {
        "id": "TJB1XJP2dvqa"
      },
      "execution_count": 56,
      "outputs": []
    },
    {
      "cell_type": "code",
      "source": [
        "data4[\"Outlet_Type\"] = label_encoder.fit_transform(data4[\"Outlet_Type\"])"
      ],
      "metadata": {
        "id": "khr-usB-eH1b"
      },
      "execution_count": 57,
      "outputs": []
    },
    {
      "cell_type": "code",
      "source": [
        "data4.head()"
      ],
      "metadata": {
        "colab": {
          "base_uri": "https://localhost:8080/",
          "height": 317
        },
        "id": "4nyfCkahe9zs",
        "outputId": "36a7c891-c57b-4d6c-9f63-1c5283bdf1d3"
      },
      "execution_count": 58,
      "outputs": [
        {
          "output_type": "execute_result",
          "data": {
            "text/plain": [
              "  Item_Identifier  Item_Weight  Item_Visibility  Item_MRP Outlet_Identifier  \\\n",
              "0           FDA15         9.30         0.016047  249.8092            OUT049   \n",
              "1           DRC01         5.92         0.019278   48.2692            OUT018   \n",
              "2           FDN15        17.50         0.016760  141.6180            OUT049   \n",
              "3           FDX07        19.20         0.000000  182.0950            OUT010   \n",
              "4           NCD19         8.93         0.000000   53.8614            OUT013   \n",
              "\n",
              "   Outlet_Establishment_Year  Outlet_Location_Type  Outlet_Type  \\\n",
              "0                       1999                     0            1   \n",
              "1                       2009                     2            2   \n",
              "2                       1999                     0            1   \n",
              "3                       1998                     2            0   \n",
              "4                       1987                     2            1   \n",
              "\n",
              "   Item_Outlet_Sales  Item_Fat_Content_Low Fat  ...  \\\n",
              "0          3735.1380                         1  ...   \n",
              "1           443.4228                         0  ...   \n",
              "2          2097.2700                         1  ...   \n",
              "3           732.3800                         0  ...   \n",
              "4           994.7052                         1  ...   \n",
              "\n",
              "   Item_Type_Fruits and Vegetables  Item_Type_Hard Drinks  \\\n",
              "0                                0                      0   \n",
              "1                                0                      0   \n",
              "2                                0                      0   \n",
              "3                                1                      0   \n",
              "4                                0                      0   \n",
              "\n",
              "   Item_Type_Health and Hygiene  Item_Type_Household  Item_Type_Meat  \\\n",
              "0                             0                    0               0   \n",
              "1                             0                    0               0   \n",
              "2                             0                    0               1   \n",
              "3                             0                    0               0   \n",
              "4                             0                    1               0   \n",
              "\n",
              "   Item_Type_Others  Item_Type_Seafood  Item_Type_Snack Foods  \\\n",
              "0                 0                  0                      0   \n",
              "1                 0                  0                      0   \n",
              "2                 0                  0                      0   \n",
              "3                 0                  0                      0   \n",
              "4                 0                  0                      0   \n",
              "\n",
              "   Item_Type_Soft Drinks  Item_Type_Starchy Foods  \n",
              "0                      0                        0  \n",
              "1                      1                        0  \n",
              "2                      0                        0  \n",
              "3                      0                        0  \n",
              "4                      0                        0  \n",
              "\n",
              "[5 rows x 27 columns]"
            ],
            "text/html": [
              "\n",
              "  <div id=\"df-c8ae816e-d8c0-4726-9840-44aa3edd61aa\">\n",
              "    <div class=\"colab-df-container\">\n",
              "      <div>\n",
              "<style scoped>\n",
              "    .dataframe tbody tr th:only-of-type {\n",
              "        vertical-align: middle;\n",
              "    }\n",
              "\n",
              "    .dataframe tbody tr th {\n",
              "        vertical-align: top;\n",
              "    }\n",
              "\n",
              "    .dataframe thead th {\n",
              "        text-align: right;\n",
              "    }\n",
              "</style>\n",
              "<table border=\"1\" class=\"dataframe\">\n",
              "  <thead>\n",
              "    <tr style=\"text-align: right;\">\n",
              "      <th></th>\n",
              "      <th>Item_Identifier</th>\n",
              "      <th>Item_Weight</th>\n",
              "      <th>Item_Visibility</th>\n",
              "      <th>Item_MRP</th>\n",
              "      <th>Outlet_Identifier</th>\n",
              "      <th>Outlet_Establishment_Year</th>\n",
              "      <th>Outlet_Location_Type</th>\n",
              "      <th>Outlet_Type</th>\n",
              "      <th>Item_Outlet_Sales</th>\n",
              "      <th>Item_Fat_Content_Low Fat</th>\n",
              "      <th>...</th>\n",
              "      <th>Item_Type_Fruits and Vegetables</th>\n",
              "      <th>Item_Type_Hard Drinks</th>\n",
              "      <th>Item_Type_Health and Hygiene</th>\n",
              "      <th>Item_Type_Household</th>\n",
              "      <th>Item_Type_Meat</th>\n",
              "      <th>Item_Type_Others</th>\n",
              "      <th>Item_Type_Seafood</th>\n",
              "      <th>Item_Type_Snack Foods</th>\n",
              "      <th>Item_Type_Soft Drinks</th>\n",
              "      <th>Item_Type_Starchy Foods</th>\n",
              "    </tr>\n",
              "  </thead>\n",
              "  <tbody>\n",
              "    <tr>\n",
              "      <th>0</th>\n",
              "      <td>FDA15</td>\n",
              "      <td>9.30</td>\n",
              "      <td>0.016047</td>\n",
              "      <td>249.8092</td>\n",
              "      <td>OUT049</td>\n",
              "      <td>1999</td>\n",
              "      <td>0</td>\n",
              "      <td>1</td>\n",
              "      <td>3735.1380</td>\n",
              "      <td>1</td>\n",
              "      <td>...</td>\n",
              "      <td>0</td>\n",
              "      <td>0</td>\n",
              "      <td>0</td>\n",
              "      <td>0</td>\n",
              "      <td>0</td>\n",
              "      <td>0</td>\n",
              "      <td>0</td>\n",
              "      <td>0</td>\n",
              "      <td>0</td>\n",
              "      <td>0</td>\n",
              "    </tr>\n",
              "    <tr>\n",
              "      <th>1</th>\n",
              "      <td>DRC01</td>\n",
              "      <td>5.92</td>\n",
              "      <td>0.019278</td>\n",
              "      <td>48.2692</td>\n",
              "      <td>OUT018</td>\n",
              "      <td>2009</td>\n",
              "      <td>2</td>\n",
              "      <td>2</td>\n",
              "      <td>443.4228</td>\n",
              "      <td>0</td>\n",
              "      <td>...</td>\n",
              "      <td>0</td>\n",
              "      <td>0</td>\n",
              "      <td>0</td>\n",
              "      <td>0</td>\n",
              "      <td>0</td>\n",
              "      <td>0</td>\n",
              "      <td>0</td>\n",
              "      <td>0</td>\n",
              "      <td>1</td>\n",
              "      <td>0</td>\n",
              "    </tr>\n",
              "    <tr>\n",
              "      <th>2</th>\n",
              "      <td>FDN15</td>\n",
              "      <td>17.50</td>\n",
              "      <td>0.016760</td>\n",
              "      <td>141.6180</td>\n",
              "      <td>OUT049</td>\n",
              "      <td>1999</td>\n",
              "      <td>0</td>\n",
              "      <td>1</td>\n",
              "      <td>2097.2700</td>\n",
              "      <td>1</td>\n",
              "      <td>...</td>\n",
              "      <td>0</td>\n",
              "      <td>0</td>\n",
              "      <td>0</td>\n",
              "      <td>0</td>\n",
              "      <td>1</td>\n",
              "      <td>0</td>\n",
              "      <td>0</td>\n",
              "      <td>0</td>\n",
              "      <td>0</td>\n",
              "      <td>0</td>\n",
              "    </tr>\n",
              "    <tr>\n",
              "      <th>3</th>\n",
              "      <td>FDX07</td>\n",
              "      <td>19.20</td>\n",
              "      <td>0.000000</td>\n",
              "      <td>182.0950</td>\n",
              "      <td>OUT010</td>\n",
              "      <td>1998</td>\n",
              "      <td>2</td>\n",
              "      <td>0</td>\n",
              "      <td>732.3800</td>\n",
              "      <td>0</td>\n",
              "      <td>...</td>\n",
              "      <td>1</td>\n",
              "      <td>0</td>\n",
              "      <td>0</td>\n",
              "      <td>0</td>\n",
              "      <td>0</td>\n",
              "      <td>0</td>\n",
              "      <td>0</td>\n",
              "      <td>0</td>\n",
              "      <td>0</td>\n",
              "      <td>0</td>\n",
              "    </tr>\n",
              "    <tr>\n",
              "      <th>4</th>\n",
              "      <td>NCD19</td>\n",
              "      <td>8.93</td>\n",
              "      <td>0.000000</td>\n",
              "      <td>53.8614</td>\n",
              "      <td>OUT013</td>\n",
              "      <td>1987</td>\n",
              "      <td>2</td>\n",
              "      <td>1</td>\n",
              "      <td>994.7052</td>\n",
              "      <td>1</td>\n",
              "      <td>...</td>\n",
              "      <td>0</td>\n",
              "      <td>0</td>\n",
              "      <td>0</td>\n",
              "      <td>1</td>\n",
              "      <td>0</td>\n",
              "      <td>0</td>\n",
              "      <td>0</td>\n",
              "      <td>0</td>\n",
              "      <td>0</td>\n",
              "      <td>0</td>\n",
              "    </tr>\n",
              "  </tbody>\n",
              "</table>\n",
              "<p>5 rows × 27 columns</p>\n",
              "</div>\n",
              "      <button class=\"colab-df-convert\" onclick=\"convertToInteractive('df-c8ae816e-d8c0-4726-9840-44aa3edd61aa')\"\n",
              "              title=\"Convert this dataframe to an interactive table.\"\n",
              "              style=\"display:none;\">\n",
              "        \n",
              "  <svg xmlns=\"http://www.w3.org/2000/svg\" height=\"24px\"viewBox=\"0 0 24 24\"\n",
              "       width=\"24px\">\n",
              "    <path d=\"M0 0h24v24H0V0z\" fill=\"none\"/>\n",
              "    <path d=\"M18.56 5.44l.94 2.06.94-2.06 2.06-.94-2.06-.94-.94-2.06-.94 2.06-2.06.94zm-11 1L8.5 8.5l.94-2.06 2.06-.94-2.06-.94L8.5 2.5l-.94 2.06-2.06.94zm10 10l.94 2.06.94-2.06 2.06-.94-2.06-.94-.94-2.06-.94 2.06-2.06.94z\"/><path d=\"M17.41 7.96l-1.37-1.37c-.4-.4-.92-.59-1.43-.59-.52 0-1.04.2-1.43.59L10.3 9.45l-7.72 7.72c-.78.78-.78 2.05 0 2.83L4 21.41c.39.39.9.59 1.41.59.51 0 1.02-.2 1.41-.59l7.78-7.78 2.81-2.81c.8-.78.8-2.07 0-2.86zM5.41 20L4 18.59l7.72-7.72 1.47 1.35L5.41 20z\"/>\n",
              "  </svg>\n",
              "      </button>\n",
              "      \n",
              "  <style>\n",
              "    .colab-df-container {\n",
              "      display:flex;\n",
              "      flex-wrap:wrap;\n",
              "      gap: 12px;\n",
              "    }\n",
              "\n",
              "    .colab-df-convert {\n",
              "      background-color: #E8F0FE;\n",
              "      border: none;\n",
              "      border-radius: 50%;\n",
              "      cursor: pointer;\n",
              "      display: none;\n",
              "      fill: #1967D2;\n",
              "      height: 32px;\n",
              "      padding: 0 0 0 0;\n",
              "      width: 32px;\n",
              "    }\n",
              "\n",
              "    .colab-df-convert:hover {\n",
              "      background-color: #E2EBFA;\n",
              "      box-shadow: 0px 1px 2px rgba(60, 64, 67, 0.3), 0px 1px 3px 1px rgba(60, 64, 67, 0.15);\n",
              "      fill: #174EA6;\n",
              "    }\n",
              "\n",
              "    [theme=dark] .colab-df-convert {\n",
              "      background-color: #3B4455;\n",
              "      fill: #D2E3FC;\n",
              "    }\n",
              "\n",
              "    [theme=dark] .colab-df-convert:hover {\n",
              "      background-color: #434B5C;\n",
              "      box-shadow: 0px 1px 3px 1px rgba(0, 0, 0, 0.15);\n",
              "      filter: drop-shadow(0px 1px 2px rgba(0, 0, 0, 0.3));\n",
              "      fill: #FFFFFF;\n",
              "    }\n",
              "  </style>\n",
              "\n",
              "      <script>\n",
              "        const buttonEl =\n",
              "          document.querySelector('#df-c8ae816e-d8c0-4726-9840-44aa3edd61aa button.colab-df-convert');\n",
              "        buttonEl.style.display =\n",
              "          google.colab.kernel.accessAllowed ? 'block' : 'none';\n",
              "\n",
              "        async function convertToInteractive(key) {\n",
              "          const element = document.querySelector('#df-c8ae816e-d8c0-4726-9840-44aa3edd61aa');\n",
              "          const dataTable =\n",
              "            await google.colab.kernel.invokeFunction('convertToInteractive',\n",
              "                                                     [key], {});\n",
              "          if (!dataTable) return;\n",
              "\n",
              "          const docLinkHtml = 'Like what you see? Visit the ' +\n",
              "            '<a target=\"_blank\" href=https://colab.research.google.com/notebooks/data_table.ipynb>data table notebook</a>'\n",
              "            + ' to learn more about interactive tables.';\n",
              "          element.innerHTML = '';\n",
              "          dataTable['output_type'] = 'display_data';\n",
              "          await google.colab.output.renderOutput(dataTable, element);\n",
              "          const docLink = document.createElement('div');\n",
              "          docLink.innerHTML = docLinkHtml;\n",
              "          element.appendChild(docLink);\n",
              "        }\n",
              "      </script>\n",
              "    </div>\n",
              "  </div>\n",
              "  "
            ]
          },
          "metadata": {},
          "execution_count": 58
        }
      ]
    },
    {
      "cell_type": "markdown",
      "source": [
        "# Exploratory Analysis"
      ],
      "metadata": {
        "id": "nbQOSZ8yfaE_"
      }
    },
    {
      "cell_type": "code",
      "source": [
        "plt.hist(data4[\"Item_Weight\"])"
      ],
      "metadata": {
        "colab": {
          "base_uri": "https://localhost:8080/",
          "height": 352
        },
        "id": "8p6VjvDcfds5",
        "outputId": "4645b019-78ce-40d8-fc90-8c47c7c14c7b"
      },
      "execution_count": 59,
      "outputs": [
        {
          "output_type": "execute_result",
          "data": {
            "text/plain": [
              "(array([ 820., 1496., 1440., 1176., 3683., 1022., 1275., 1189., 1094.,\n",
              "        1009.]),\n",
              " array([ 4.555 ,  6.2345,  7.914 ,  9.5935, 11.273 , 12.9525, 14.632 ,\n",
              "        16.3115, 17.991 , 19.6705, 21.35  ]),\n",
              " <BarContainer object of 10 artists>)"
            ]
          },
          "metadata": {},
          "execution_count": 59
        },
        {
          "output_type": "display_data",
          "data": {
            "text/plain": [
              "<Figure size 432x288 with 1 Axes>"
            ],
            "image/png": "[encoded data removed]"
          },
          "metadata": {
            "needs_background": "light"
          }
        }
      ]
    },
    {
      "cell_type": "code",
      "source": [
        "sns.histplot(data=data4, x=\"Item_Weight\")"
      ],
      "metadata": {
        "colab": {
          "base_uri": "https://localhost:8080/",
          "height": 297
        },
        "id": "dmO-1zMOIlCL",
        "outputId": "23548a53-8d5f-4a48-9a7e-2259a90e6074"
      },
      "execution_count": 60,
      "outputs": [
        {
          "output_type": "execute_result",
          "data": {
            "text/plain": [
              "<AxesSubplot:xlabel='Item_Weight', ylabel='Count'>"
            ]
          },
          "metadata": {},
          "execution_count": 60
        },
        {
          "output_type": "display_data",
          "data": {
            "text/plain": [
              "<Figure size 432x288 with 1 Axes>"
            ],
            "image/png": "[encoded data removed]"
          },
          "metadata": {
            "needs_background": "light"
          }
        }
      ]
    },
    {
      "cell_type": "code",
      "source": [
        "data4[\"Item_Weight\"].plot.density()"
      ],
      "metadata": {
        "colab": {
          "base_uri": "https://localhost:8080/",
          "height": 282
        },
        "id": "_n0_YK7di2DI",
        "outputId": "a3241d95-2f7d-491f-fd12-694143d250a7"
      },
      "execution_count": 61,
      "outputs": [
        {
          "output_type": "execute_result",
          "data": {
            "text/plain": [
              "<AxesSubplot:ylabel='Density'>"
            ]
          },
          "metadata": {},
          "execution_count": 61
        },
        {
          "output_type": "display_data",
          "data": {
            "text/plain": [
              "<Figure size 432x288 with 1 Axes>"
            ],
            "image/png": "[encoded data removed]"
          },
          "metadata": {
            "needs_background": "light"
          }
        }
      ]
    },
    {
      "cell_type": "code",
      "source": [
        "data4[\"Item_Visibility\"].plot.density()"
      ],
      "metadata": {
        "id": "pH7wJwTIjIQe",
        "colab": {
          "base_uri": "https://localhost:8080/",
          "height": 282
        },
        "outputId": "6b651dba-9e5c-468c-ebf9-0c760d1c3bb1"
      },
      "execution_count": 62,
      "outputs": [
        {
          "output_type": "execute_result",
          "data": {
            "text/plain": [
              "<AxesSubplot:ylabel='Density'>"
            ]
          },
          "metadata": {},
          "execution_count": 62
        },
        {
          "output_type": "display_data",
          "data": {
            "text/plain": [
              "<Figure size 432x288 with 1 Axes>"
            ],
            "image/png": "[encoded data removed]"
          },
          "metadata": {
            "needs_background": "light"
          }
        }
      ]
    },
    {
      "cell_type": "code",
      "source": [
        "sns.displot(data4, x=\"Item_Visibility\", kind=\"kde\")"
      ],
      "metadata": {
        "colab": {
          "base_uri": "https://localhost:8080/",
          "height": 386
        },
        "id": "cQI3MVC-MuBe",
        "outputId": "2bf7a61f-4ede-4a5c-ddcb-ed8f4c9300ad"
      },
      "execution_count": 99,
      "outputs": [
        {
          "output_type": "execute_result",
          "data": {
            "text/plain": [
              "<seaborn.axisgrid.FacetGrid at 0x7fe55fb3c160>"
            ]
          },
          "metadata": {},
          "execution_count": 99
        },
        {
          "output_type": "display_data",
          "data": {
            "text/plain": [
              "<Figure size 360x360 with 1 Axes>"
            ],
            "image/png": "[encoded data removed]"
          },
          "metadata": {
            "needs_background": "light"
          }
        }
      ]
    },
    {
      "cell_type": "code",
      "source": [
        "sns.histplot(data=data4, x=\"Item_MRP\")"
      ],
      "metadata": {
        "id": "pwswPWpDjYbD",
        "colab": {
          "base_uri": "https://localhost:8080/",
          "height": 297
        },
        "outputId": "d0566040-35ef-453d-e5de-862c0a90bd44"
      },
      "execution_count": 100,
      "outputs": [
        {
          "output_type": "execute_result",
          "data": {
            "text/plain": [
              "<AxesSubplot:xlabel='Item_MRP', ylabel='Count'>"
            ]
          },
          "metadata": {},
          "execution_count": 100
        },
        {
          "output_type": "display_data",
          "data": {
            "text/plain": [
              "<Figure size 432x288 with 1 Axes>"
            ],
            "image/png": "[encoded data removed]"
          },
          "metadata": {
            "needs_background": "light"
          }
        }
      ]
    },
    {
      "cell_type": "code",
      "source": [
        "sns.displot(data4, x=\"Item_MRP\", kind=\"kde\")"
      ],
      "metadata": {
        "colab": {
          "base_uri": "https://localhost:8080/",
          "height": 386
        },
        "id": "dsLC9GuZNxu2",
        "outputId": "1d280a3b-3c77-4b71-ff80-f9cfdb06366c"
      },
      "execution_count": 101,
      "outputs": [
        {
          "output_type": "execute_result",
          "data": {
            "text/plain": [
              "<seaborn.axisgrid.FacetGrid at 0x7fe563345190>"
            ]
          },
          "metadata": {},
          "execution_count": 101
        },
        {
          "output_type": "display_data",
          "data": {
            "text/plain": [
              "<Figure size 360x360 with 1 Axes>"
            ],
            "image/png": "[encoded data removed]"
          },
          "metadata": {
            "needs_background": "light"
          }
        }
      ]
    },
    {
      "cell_type": "code",
      "source": [
        "data4[\"Item_MRP\"].plot.density()"
      ],
      "metadata": {
        "id": "7n_mysyajOIQ",
        "colab": {
          "base_uri": "https://localhost:8080/",
          "height": 282
        },
        "outputId": "63a9a67b-3165-4546-c08b-9da50bf56ed3"
      },
      "execution_count": 64,
      "outputs": [
        {
          "output_type": "execute_result",
          "data": {
            "text/plain": [
              "<AxesSubplot:ylabel='Density'>"
            ]
          },
          "metadata": {},
          "execution_count": 64
        },
        {
          "output_type": "display_data",
          "data": {
            "text/plain": [
              "<Figure size 432x288 with 1 Axes>"
            ],
            "image/png": "[encoded data removed]"
          },
          "metadata": {
            "needs_background": "light"
          }
        }
      ]
    },
    {
      "cell_type": "code",
      "source": [
        "sns.histplot(data=data4, x=\"Outlet_Establishment_Year\", bins = 9)"
      ],
      "metadata": {
        "id": "GN9THTcqjt7X",
        "colab": {
          "base_uri": "https://localhost:8080/",
          "height": 297
        },
        "outputId": "ce88a4a6-f7c2-4f59-bc53-4c03ffc6c653"
      },
      "execution_count": 110,
      "outputs": [
        {
          "output_type": "execute_result",
          "data": {
            "text/plain": [
              "<AxesSubplot:xlabel='Outlet_Establishment_Year', ylabel='Count'>"
            ]
          },
          "metadata": {},
          "execution_count": 110
        },
        {
          "output_type": "display_data",
          "data": {
            "text/plain": [
              "<Figure size 432x288 with 1 Axes>"
            ],
            "image/png": "[encoded data removed]"
          },
          "metadata": {
            "needs_background": "light"
          }
        }
      ]
    },
    {
      "cell_type": "code",
      "source": [
        "data.groupby('Outlet_Location_Type')['Outlet_Identifier'].count().unique().sort_values(ascending=False).plot(kind='bar')"
      ],
      "metadata": {
        "id": "hlY82szRj2X-",
        "colab": {
          "base_uri": "https://localhost:8080/",
          "height": 166
        },
        "outputId": "f8496681-da58-43fb-8235-2ba7e783ee08"
      },
      "execution_count": 125,
      "outputs": [
        {
          "output_type": "error",
          "ename": "AttributeError",
          "evalue": "ignored",
          "traceback": [
            "\u001b[0;31m---------------------------------------------------------------------------\u001b[0m",
            "\u001b[0;31mAttributeError\u001b[0m                            Traceback (most recent call last)",
            "\u001b[0;32m<ipython-input-125-1f4336ee4c36>\u001b[0m in \u001b[0;36m<module>\u001b[0;34m\u001b[0m\n\u001b[0;32m----> 1\u001b[0;31m \u001b[0mdata\u001b[0m\u001b[0;34m.\u001b[0m\u001b[0mgroupby\u001b[0m\u001b[0;34m(\u001b[0m\u001b[0;34m'Outlet_Location_Type'\u001b[0m\u001b[0;34m)\u001b[0m\u001b[0;34m[\u001b[0m\u001b[0;34m'Outlet_Identifier'\u001b[0m\u001b[0;34m]\u001b[0m\u001b[0;34m.\u001b[0m\u001b[0mcount\u001b[0m\u001b[0;34m(\u001b[0m\u001b[0;34m)\u001b[0m\u001b[0;34m.\u001b[0m\u001b[0munique\u001b[0m\u001b[0;34m(\u001b[0m\u001b[0;34m)\u001b[0m\u001b[0;34m.\u001b[0m\u001b[0msort_values\u001b[0m\u001b[0;34m(\u001b[0m\u001b[0mascending\u001b[0m\u001b[0;34m=\u001b[0m\u001b[0;32mFalse\u001b[0m\u001b[0;34m)\u001b[0m\u001b[0;34m.\u001b[0m\u001b[0mplot\u001b[0m\u001b[0;34m(\u001b[0m\u001b[0mkind\u001b[0m\u001b[0;34m=\u001b[0m\u001b[0;34m'bar'\u001b[0m\u001b[0;34m)\u001b[0m\u001b[0;34m\u001b[0m\u001b[0;34m\u001b[0m\u001b[0m\n\u001b[0m",
            "\u001b[0;31mAttributeError\u001b[0m: 'numpy.ndarray' object has no attribute 'sort_values'"
          ]
        }
      ]
    },
    {
      "cell_type": "code",
      "source": [
        "data.groupby('Outlet_Location_Type')['Outlet_Identifier'].nunique().plot(kind='bar')\n"
      ],
      "metadata": {
        "colab": {
          "base_uri": "https://localhost:8080/",
          "height": 316
        },
        "id": "FNraYfOVSLp6",
        "outputId": "1436d521-abf3-4b19-8261-d9174217c96c"
      },
      "execution_count": 138,
      "outputs": [
        {
          "output_type": "execute_result",
          "data": {
            "text/plain": [
              "<AxesSubplot:xlabel='Outlet_Location_Type'>"
            ]
          },
          "metadata": {},
          "execution_count": 138
        },
        {
          "output_type": "display_data",
          "data": {
            "text/plain": [
              "<Figure size 432x288 with 1 Axes>"
            ],
            "image/png": "[encoded data removed]"
          },
          "metadata": {
            "needs_background": "light"
          }
        }
      ]
    },
    {
      "cell_type": "code",
      "source": [
        "plt.hist(data2[\"Outlet_Type\"])\n",
        "plt.title(\"Transactions by Outlet type\")"
      ],
      "metadata": {
        "id": "bhknCVNvkBc9",
        "colab": {
          "base_uri": "https://localhost:8080/",
          "height": 298
        },
        "outputId": "d236f34d-8c28-46d0-d782-0ea1cc044af9"
      },
      "execution_count": 144,
      "outputs": [
        {
          "output_type": "execute_result",
          "data": {
            "text/plain": [
              "Text(0.5, 1.0, 'Transactions by Outlet type')"
            ]
          },
          "metadata": {},
          "execution_count": 144
        },
        {
          "output_type": "display_data",
          "data": {
            "text/plain": [
              "<Figure size 432x288 with 1 Axes>"
            ],
            "image/png": "[encoded data removed]"
          },
          "metadata": {
            "needs_background": "light"
          }
        }
      ]
    },
    {
      "cell_type": "code",
      "source": [
        "9294 / 14204"
      ],
      "metadata": {
        "colab": {
          "base_uri": "https://localhost:8080/"
        },
        "id": "dovhRGA4UX5l",
        "outputId": "c5eb6a2b-1f87-4fe8-cf1b-0b6f52fbff58"
      },
      "execution_count": 140,
      "outputs": [
        {
          "output_type": "execute_result",
          "data": {
            "text/plain": [
              "0.6543227259926782"
            ]
          },
          "metadata": {},
          "execution_count": 140
        }
      ]
    },
    {
      "cell_type": "code",
      "source": [
        "data.groupby('Outlet_Type')['Outlet_Identifier'].nunique().plot(kind='bar')"
      ],
      "metadata": {
        "colab": {
          "base_uri": "https://localhost:8080/",
          "height": 384
        },
        "id": "Xqg-eJXaTds5",
        "outputId": "82fc9acb-699b-4b68-9ac3-c737511ca263"
      },
      "execution_count": 139,
      "outputs": [
        {
          "output_type": "execute_result",
          "data": {
            "text/plain": [
              "<AxesSubplot:xlabel='Outlet_Type'>"
            ]
          },
          "metadata": {},
          "execution_count": 139
        },
        {
          "output_type": "display_data",
          "data": {
            "text/plain": [
              "<Figure size 432x288 with 1 Axes>"
            ],
            "image/png": "[encoded data removed]"
          },
          "metadata": {
            "needs_background": "light"
          }
        }
      ]
    },
    {
      "cell_type": "code",
      "source": [
        "data4[\"Item_Outlet_Sales\"].plot.density(title=\"Item_Outlet_Sales\")"
      ],
      "metadata": {
        "id": "f2VPspcekF_E",
        "colab": {
          "base_uri": "https://localhost:8080/",
          "height": 298
        },
        "outputId": "44725097-f203-4730-fe60-57da11de009f"
      },
      "execution_count": 150,
      "outputs": [
        {
          "output_type": "execute_result",
          "data": {
            "text/plain": [
              "<AxesSubplot:title={'center':'Item_Outlet_Sales'}, ylabel='Density'>"
            ]
          },
          "metadata": {},
          "execution_count": 150
        },
        {
          "output_type": "display_data",
          "data": {
            "text/plain": [
              "<Figure size 432x288 with 1 Axes>"
            ],
            "image/png": "[encoded data removed]"
          },
          "metadata": {
            "needs_background": "light"
          }
        }
      ]
    },
    {
      "cell_type": "code",
      "source": [
        "data4"
      ],
      "metadata": {
        "id": "4I4Mqs7UkSw-",
        "colab": {
          "base_uri": "https://localhost:8080/",
          "height": 505
        },
        "outputId": "bac3783e-3905-4e0a-9865-43ce37ff7c86"
      },
      "execution_count": 69,
      "outputs": [
        {
          "output_type": "execute_result",
          "data": {
            "text/plain": [
              "      Item_Identifier  Item_Weight  Item_Visibility  Item_MRP  \\\n",
              "0               FDA15         9.30         0.016047  249.8092   \n",
              "1               DRC01         5.92         0.019278   48.2692   \n",
              "2               FDN15        17.50         0.016760  141.6180   \n",
              "3               FDX07        19.20         0.000000  182.0950   \n",
              "4               NCD19         8.93         0.000000   53.8614   \n",
              "...               ...          ...              ...       ...   \n",
              "14199           FDB58        10.50         0.013496  141.3154   \n",
              "14200           FDD47         7.60         0.142991  169.1448   \n",
              "14201           NCO17        10.00         0.073529  118.7440   \n",
              "14202           FDJ26        15.30         0.000000  214.6218   \n",
              "14203           FDU37         9.50         0.104720   79.7960   \n",
              "\n",
              "      Outlet_Identifier  Outlet_Establishment_Year  Outlet_Location_Type  \\\n",
              "0                OUT049                       1999                     0   \n",
              "1                OUT018                       2009                     2   \n",
              "2                OUT049                       1999                     0   \n",
              "3                OUT010                       1998                     2   \n",
              "4                OUT013                       1987                     2   \n",
              "...                 ...                        ...                   ...   \n",
              "14199            OUT046                       1997                     0   \n",
              "14200            OUT018                       2009                     2   \n",
              "14201            OUT045                       2002                     1   \n",
              "14202            OUT017                       2007                     1   \n",
              "14203            OUT045                       2002                     1   \n",
              "\n",
              "       Outlet_Type  Item_Outlet_Sales  Item_Fat_Content_Low Fat  ...  \\\n",
              "0                1        3735.138000                         1  ...   \n",
              "1                2         443.422800                         0  ...   \n",
              "2                1        2097.270000                         1  ...   \n",
              "3                0         732.380000                         0  ...   \n",
              "4                1         994.705200                         1  ...   \n",
              "...            ...                ...                       ...  ...   \n",
              "14199            1        2213.476465                         0  ...   \n",
              "14200            2        2349.547110                         0  ...   \n",
              "14201            1        1892.981544                         1  ...   \n",
              "14202            1        4533.564958                         0  ...   \n",
              "14203            1        1302.235520                         0  ...   \n",
              "\n",
              "       Item_Type_Fruits and Vegetables  Item_Type_Hard Drinks  \\\n",
              "0                                    0                      0   \n",
              "1                                    0                      0   \n",
              "2                                    0                      0   \n",
              "3                                    1                      0   \n",
              "4                                    0                      0   \n",
              "...                                ...                    ...   \n",
              "14199                                0                      0   \n",
              "14200                                0                      0   \n",
              "14201                                0                      0   \n",
              "14202                                0                      0   \n",
              "14203                                0                      0   \n",
              "\n",
              "       Item_Type_Health and Hygiene  Item_Type_Household  Item_Type_Meat  \\\n",
              "0                                 0                    0               0   \n",
              "1                                 0                    0               0   \n",
              "2                                 0                    0               1   \n",
              "3                                 0                    0               0   \n",
              "4                                 0                    1               0   \n",
              "...                             ...                  ...             ...   \n",
              "14199                             0                    0               0   \n",
              "14200                             0                    0               0   \n",
              "14201                             1                    0               0   \n",
              "14202                             0                    0               0   \n",
              "14203                             0                    0               0   \n",
              "\n",
              "       Item_Type_Others  Item_Type_Seafood  Item_Type_Snack Foods  \\\n",
              "0                     0                  0                      0   \n",
              "1                     0                  0                      0   \n",
              "2                     0                  0                      0   \n",
              "3                     0                  0                      0   \n",
              "4                     0                  0                      0   \n",
              "...                 ...                ...                    ...   \n",
              "14199                 0                  0                      1   \n",
              "14200                 0                  0                      0   \n",
              "14201                 0                  0                      0   \n",
              "14202                 0                  0                      0   \n",
              "14203                 0                  0                      0   \n",
              "\n",
              "       Item_Type_Soft Drinks  Item_Type_Starchy Foods  \n",
              "0                          0                        0  \n",
              "1                          1                        0  \n",
              "2                          0                        0  \n",
              "3                          0                        0  \n",
              "4                          0                        0  \n",
              "...                      ...                      ...  \n",
              "14199                      0                        0  \n",
              "14200                      0                        1  \n",
              "14201                      0                        0  \n",
              "14202                      0                        0  \n",
              "14203                      0                        0  \n",
              "\n",
              "[14204 rows x 27 columns]"
            ],
            "text/html": [
              "\n",
              "  <div id=\"df-7b6e0002-04b5-485a-80d4-fe93856af76a\">\n",
              "    <div class=\"colab-df-container\">\n",
              "      <div>\n",
              "<style scoped>\n",
              "    .dataframe tbody tr th:only-of-type {\n",
              "        vertical-align: middle;\n",
              "    }\n",
              "\n",
              "    .dataframe tbody tr th {\n",
              "        vertical-align: top;\n",
              "    }\n",
              "\n",
              "    .dataframe thead th {\n",
              "        text-align: right;\n",
              "    }\n",
              "</style>\n",
              "<table border=\"1\" class=\"dataframe\">\n",
              "  <thead>\n",
              "    <tr style=\"text-align: right;\">\n",
              "      <th></th>\n",
              "      <th>Item_Identifier</th>\n",
              "      <th>Item_Weight</th>\n",
              "      <th>Item_Visibility</th>\n",
              "      <th>Item_MRP</th>\n",
              "      <th>Outlet_Identifier</th>\n",
              "      <th>Outlet_Establishment_Year</th>\n",
              "      <th>Outlet_Location_Type</th>\n",
              "      <th>Outlet_Type</th>\n",
              "      <th>Item_Outlet_Sales</th>\n",
              "      <th>Item_Fat_Content_Low Fat</th>\n",
              "      <th>...</th>\n",
              "      <th>Item_Type_Fruits and Vegetables</th>\n",
              "      <th>Item_Type_Hard Drinks</th>\n",
              "      <th>Item_Type_Health and Hygiene</th>\n",
              "      <th>Item_Type_Household</th>\n",
              "      <th>Item_Type_Meat</th>\n",
              "      <th>Item_Type_Others</th>\n",
              "      <th>Item_Type_Seafood</th>\n",
              "      <th>Item_Type_Snack Foods</th>\n",
              "      <th>Item_Type_Soft Drinks</th>\n",
              "      <th>Item_Type_Starchy Foods</th>\n",
              "    </tr>\n",
              "  </thead>\n",
              "  <tbody>\n",
              "    <tr>\n",
              "      <th>0</th>\n",
              "      <td>FDA15</td>\n",
              "      <td>9.30</td>\n",
              "      <td>0.016047</td>\n",
              "      <td>249.8092</td>\n",
              "      <td>OUT049</td>\n",
              "      <td>1999</td>\n",
              "      <td>0</td>\n",
              "      <td>1</td>\n",
              "      <td>3735.138000</td>\n",
              "      <td>1</td>\n",
              "      <td>...</td>\n",
              "      <td>0</td>\n",
              "      <td>0</td>\n",
              "      <td>0</td>\n",
              "      <td>0</td>\n",
              "      <td>0</td>\n",
              "      <td>0</td>\n",
              "      <td>0</td>\n",
              "      <td>0</td>\n",
              "      <td>0</td>\n",
              "      <td>0</td>\n",
              "    </tr>\n",
              "    <tr>\n",
              "      <th>1</th>\n",
              "      <td>DRC01</td>\n",
              "      <td>5.92</td>\n",
              "      <td>0.019278</td>\n",
              "      <td>48.2692</td>\n",
              "      <td>OUT018</td>\n",
              "      <td>2009</td>\n",
              "      <td>2</td>\n",
              "      <td>2</td>\n",
              "      <td>443.422800</td>\n",
              "      <td>0</td>\n",
              "      <td>...</td>\n",
              "      <td>0</td>\n",
              "      <td>0</td>\n",
              "      <td>0</td>\n",
              "      <td>0</td>\n",
              "      <td>0</td>\n",
              "      <td>0</td>\n",
              "      <td>0</td>\n",
              "      <td>0</td>\n",
              "      <td>1</td>\n",
              "      <td>0</td>\n",
              "    </tr>\n",
              "    <tr>\n",
              "      <th>2</th>\n",
              "      <td>FDN15</td>\n",
              "      <td>17.50</td>\n",
              "      <td>0.016760</td>\n",
              "      <td>141.6180</td>\n",
              "      <td>OUT049</td>\n",
              "      <td>1999</td>\n",
              "      <td>0</td>\n",
              "      <td>1</td>\n",
              "      <td>2097.270000</td>\n",
              "      <td>1</td>\n",
              "      <td>...</td>\n",
              "      <td>0</td>\n",
              "      <td>0</td>\n",
              "      <td>0</td>\n",
              "      <td>0</td>\n",
              "      <td>1</td>\n",
              "      <td>0</td>\n",
              "      <td>0</td>\n",
              "      <td>0</td>\n",
              "      <td>0</td>\n",
              "      <td>0</td>\n",
              "    </tr>\n",
              "    <tr>\n",
              "      <th>3</th>\n",
              "      <td>FDX07</td>\n",
              "      <td>19.20</td>\n",
              "      <td>0.000000</td>\n",
              "      <td>182.0950</td>\n",
              "      <td>OUT010</td>\n",
              "      <td>1998</td>\n",
              "      <td>2</td>\n",
              "      <td>0</td>\n",
              "      <td>732.380000</td>\n",
              "      <td>0</td>\n",
              "      <td>...</td>\n",
              "      <td>1</td>\n",
              "      <td>0</td>\n",
              "      <td>0</td>\n",
              "      <td>0</td>\n",
              "      <td>0</td>\n",
              "      <td>0</td>\n",
              "      <td>0</td>\n",
              "      <td>0</td>\n",
              "      <td>0</td>\n",
              "      <td>0</td>\n",
              "    </tr>\n",
              "    <tr>\n",
              "      <th>4</th>\n",
              "      <td>NCD19</td>\n",
              "      <td>8.93</td>\n",
              "      <td>0.000000</td>\n",
              "      <td>53.8614</td>\n",
              "      <td>OUT013</td>\n",
              "      <td>1987</td>\n",
              "      <td>2</td>\n",
              "      <td>1</td>\n",
              "      <td>994.705200</td>\n",
              "      <td>1</td>\n",
              "      <td>...</td>\n",
              "      <td>0</td>\n",
              "      <td>0</td>\n",
              "      <td>0</td>\n",
              "      <td>1</td>\n",
              "      <td>0</td>\n",
              "      <td>0</td>\n",
              "      <td>0</td>\n",
              "      <td>0</td>\n",
              "      <td>0</td>\n",
              "      <td>0</td>\n",
              "    </tr>\n",
              "    <tr>\n",
              "      <th>...</th>\n",
              "      <td>...</td>\n",
              "      <td>...</td>\n",
              "      <td>...</td>\n",
              "      <td>...</td>\n",
              "      <td>...</td>\n",
              "      <td>...</td>\n",
              "      <td>...</td>\n",
              "      <td>...</td>\n",
              "      <td>...</td>\n",
              "      <td>...</td>\n",
              "      <td>...</td>\n",
              "      <td>...</td>\n",
              "      <td>...</td>\n",
              "      <td>...</td>\n",
              "      <td>...</td>\n",
              "      <td>...</td>\n",
              "      <td>...</td>\n",
              "      <td>...</td>\n",
              "      <td>...</td>\n",
              "      <td>...</td>\n",
              "      <td>...</td>\n",
              "    </tr>\n",
              "    <tr>\n",
              "      <th>14199</th>\n",
              "      <td>FDB58</td>\n",
              "      <td>10.50</td>\n",
              "      <td>0.013496</td>\n",
              "      <td>141.3154</td>\n",
              "      <td>OUT046</td>\n",
              "      <td>1997</td>\n",
              "      <td>0</td>\n",
              "      <td>1</td>\n",
              "      <td>2213.476465</td>\n",
              "      <td>0</td>\n",
              "      <td>...</td>\n",
              "      <td>0</td>\n",
              "      <td>0</td>\n",
              "      <td>0</td>\n",
              "      <td>0</td>\n",
              "      <td>0</td>\n",
              "      <td>0</td>\n",
              "      <td>0</td>\n",
              "      <td>1</td>\n",
              "      <td>0</td>\n",
              "      <td>0</td>\n",
              "    </tr>\n",
              "    <tr>\n",
              "      <th>14200</th>\n",
              "      <td>FDD47</td>\n",
              "      <td>7.60</td>\n",
              "      <td>0.142991</td>\n",
              "      <td>169.1448</td>\n",
              "      <td>OUT018</td>\n",
              "      <td>2009</td>\n",
              "      <td>2</td>\n",
              "      <td>2</td>\n",
              "      <td>2349.547110</td>\n",
              "      <td>0</td>\n",
              "      <td>...</td>\n",
              "      <td>0</td>\n",
              "      <td>0</td>\n",
              "      <td>0</td>\n",
              "      <td>0</td>\n",
              "      <td>0</td>\n",
              "      <td>0</td>\n",
              "      <td>0</td>\n",
              "      <td>0</td>\n",
              "      <td>0</td>\n",
              "      <td>1</td>\n",
              "    </tr>\n",
              "    <tr>\n",
              "      <th>14201</th>\n",
              "      <td>NCO17</td>\n",
              "      <td>10.00</td>\n",
              "      <td>0.073529</td>\n",
              "      <td>118.7440</td>\n",
              "      <td>OUT045</td>\n",
              "      <td>2002</td>\n",
              "      <td>1</td>\n",
              "      <td>1</td>\n",
              "      <td>1892.981544</td>\n",
              "      <td>1</td>\n",
              "      <td>...</td>\n",
              "      <td>0</td>\n",
              "      <td>0</td>\n",
              "      <td>1</td>\n",
              "      <td>0</td>\n",
              "      <td>0</td>\n",
              "      <td>0</td>\n",
              "      <td>0</td>\n",
              "      <td>0</td>\n",
              "      <td>0</td>\n",
              "      <td>0</td>\n",
              "    </tr>\n",
              "    <tr>\n",
              "      <th>14202</th>\n",
              "      <td>FDJ26</td>\n",
              "      <td>15.30</td>\n",
              "      <td>0.000000</td>\n",
              "      <td>214.6218</td>\n",
              "      <td>OUT017</td>\n",
              "      <td>2007</td>\n",
              "      <td>1</td>\n",
              "      <td>1</td>\n",
              "      <td>4533.564958</td>\n",
              "      <td>0</td>\n",
              "      <td>...</td>\n",
              "      <td>0</td>\n",
              "      <td>0</td>\n",
              "      <td>0</td>\n",
              "      <td>0</td>\n",
              "      <td>0</td>\n",
              "      <td>0</td>\n",
              "      <td>0</td>\n",
              "      <td>0</td>\n",
              "      <td>0</td>\n",
              "      <td>0</td>\n",
              "    </tr>\n",
              "    <tr>\n",
              "      <th>14203</th>\n",
              "      <td>FDU37</td>\n",
              "      <td>9.50</td>\n",
              "      <td>0.104720</td>\n",
              "      <td>79.7960</td>\n",
              "      <td>OUT045</td>\n",
              "      <td>2002</td>\n",
              "      <td>1</td>\n",
              "      <td>1</td>\n",
              "      <td>1302.235520</td>\n",
              "      <td>0</td>\n",
              "      <td>...</td>\n",
              "      <td>0</td>\n",
              "      <td>0</td>\n",
              "      <td>0</td>\n",
              "      <td>0</td>\n",
              "      <td>0</td>\n",
              "      <td>0</td>\n",
              "      <td>0</td>\n",
              "      <td>0</td>\n",
              "      <td>0</td>\n",
              "      <td>0</td>\n",
              "    </tr>\n",
              "  </tbody>\n",
              "</table>\n",
              "<p>14204 rows × 27 columns</p>\n",
              "</div>\n",
              "      <button class=\"colab-df-convert\" onclick=\"convertToInteractive('df-7b6e0002-04b5-485a-80d4-fe93856af76a')\"\n",
              "              title=\"Convert this dataframe to an interactive table.\"\n",
              "              style=\"display:none;\">\n",
              "        \n",
              "  <svg xmlns=\"http://www.w3.org/2000/svg\" height=\"24px\"viewBox=\"0 0 24 24\"\n",
              "       width=\"24px\">\n",
              "    <path d=\"M0 0h24v24H0V0z\" fill=\"none\"/>\n",
              "    <path d=\"M18.56 5.44l.94 2.06.94-2.06 2.06-.94-2.06-.94-.94-2.06-.94 2.06-2.06.94zm-11 1L8.5 8.5l.94-2.06 2.06-.94-2.06-.94L8.5 2.5l-.94 2.06-2.06.94zm10 10l.94 2.06.94-2.06 2.06-.94-2.06-.94-.94-2.06-.94 2.06-2.06.94z\"/><path d=\"M17.41 7.96l-1.37-1.37c-.4-.4-.92-.59-1.43-.59-.52 0-1.04.2-1.43.59L10.3 9.45l-7.72 7.72c-.78.78-.78 2.05 0 2.83L4 21.41c.39.39.9.59 1.41.59.51 0 1.02-.2 1.41-.59l7.78-7.78 2.81-2.81c.8-.78.8-2.07 0-2.86zM5.41 20L4 18.59l7.72-7.72 1.47 1.35L5.41 20z\"/>\n",
              "  </svg>\n",
              "      </button>\n",
              "      \n",
              "  <style>\n",
              "    .colab-df-container {\n",
              "      display:flex;\n",
              "      flex-wrap:wrap;\n",
              "      gap: 12px;\n",
              "    }\n",
              "\n",
              "    .colab-df-convert {\n",
              "      background-color: #E8F0FE;\n",
              "      border: none;\n",
              "      border-radius: 50%;\n",
              "      cursor: pointer;\n",
              "      display: none;\n",
              "      fill: #1967D2;\n",
              "      height: 32px;\n",
              "      padding: 0 0 0 0;\n",
              "      width: 32px;\n",
              "    }\n",
              "\n",
              "    .colab-df-convert:hover {\n",
              "      background-color: #E2EBFA;\n",
              "      box-shadow: 0px 1px 2px rgba(60, 64, 67, 0.3), 0px 1px 3px 1px rgba(60, 64, 67, 0.15);\n",
              "      fill: #174EA6;\n",
              "    }\n",
              "\n",
              "    [theme=dark] .colab-df-convert {\n",
              "      background-color: #3B4455;\n",
              "      fill: #D2E3FC;\n",
              "    }\n",
              "\n",
              "    [theme=dark] .colab-df-convert:hover {\n",
              "      background-color: #434B5C;\n",
              "      box-shadow: 0px 1px 3px 1px rgba(0, 0, 0, 0.15);\n",
              "      filter: drop-shadow(0px 1px 2px rgba(0, 0, 0, 0.3));\n",
              "      fill: #FFFFFF;\n",
              "    }\n",
              "  </style>\n",
              "\n",
              "      <script>\n",
              "        const buttonEl =\n",
              "          document.querySelector('#df-7b6e0002-04b5-485a-80d4-fe93856af76a button.colab-df-convert');\n",
              "        buttonEl.style.display =\n",
              "          google.colab.kernel.accessAllowed ? 'block' : 'none';\n",
              "\n",
              "        async function convertToInteractive(key) {\n",
              "          const element = document.querySelector('#df-7b6e0002-04b5-485a-80d4-fe93856af76a');\n",
              "          const dataTable =\n",
              "            await google.colab.kernel.invokeFunction('convertToInteractive',\n",
              "                                                     [key], {});\n",
              "          if (!dataTable) return;\n",
              "\n",
              "          const docLinkHtml = 'Like what you see? Visit the ' +\n",
              "            '<a target=\"_blank\" href=https://colab.research.google.com/notebooks/data_table.ipynb>data table notebook</a>'\n",
              "            + ' to learn more about interactive tables.';\n",
              "          element.innerHTML = '';\n",
              "          dataTable['output_type'] = 'display_data';\n",
              "          await google.colab.output.renderOutput(dataTable, element);\n",
              "          const docLink = document.createElement('div');\n",
              "          docLink.innerHTML = docLinkHtml;\n",
              "          element.appendChild(docLink);\n",
              "        }\n",
              "      </script>\n",
              "    </div>\n",
              "  </div>\n",
              "  "
            ]
          },
          "metadata": {},
          "execution_count": 69
        }
      ]
    },
    {
      "cell_type": "markdown",
      "source": [
        "## Correlation"
      ],
      "metadata": {
        "id": "gzA9gkhfke29"
      }
    },
    {
      "cell_type": "code",
      "source": [
        "data5 = data4.drop([\"Item_Identifier\", \"Outlet_Identifier\"], axis='columns')\n"
      ],
      "metadata": {
        "id": "SUML3U9AkeU-"
      },
      "execution_count": 70,
      "outputs": []
    },
    {
      "cell_type": "code",
      "source": [
        "data4.corr()"
      ],
      "metadata": {
        "id": "PdPz_a7bkuSJ",
        "colab": {
          "base_uri": "https://localhost:8080/",
          "height": 978
        },
        "outputId": "f9c0ffff-5d0f-4290-dbd6-8a5dca5c2840"
      },
      "execution_count": 71,
      "outputs": [
        {
          "output_type": "execute_result",
          "data": {
            "text/plain": [
              "                                 Item_Weight  Item_Visibility  Item_MRP  \\\n",
              "Item_Weight                         1.000000        -0.013641  0.033002   \n",
              "Item_Visibility                    -0.013641         1.000000 -0.006351   \n",
              "Item_MRP                            0.033002        -0.006351  1.000000   \n",
              "Outlet_Establishment_Year           0.000462        -0.083678  0.000141   \n",
              "Outlet_Location_Type               -0.002104        -0.017362  0.000838   \n",
              "Outlet_Type                         0.001699        -0.165726  0.000136   \n",
              "Item_Outlet_Sales                   0.021600        -0.134118  0.602297   \n",
              "Item_Fat_Content_Low Fat            0.030101        -0.044274  0.004019   \n",
              "Item_Fat_Content_Regular           -0.030101         0.044274 -0.004019   \n",
              "Item_Type_Baking Goods             -0.029152         0.010875 -0.062781   \n",
              "Item_Type_Breads                   -0.055490         0.012154  0.001077   \n",
              "Item_Type_Breakfast                 0.008587         0.036960 -0.005602   \n",
              "Item_Type_Canned                   -0.025421         0.010522 -0.011038   \n",
              "Item_Type_Dairy                     0.025697         0.031959  0.029567   \n",
              "Item_Type_Frozen Foods             -0.014532         0.008926 -0.024416   \n",
              "Item_Type_Fruits and Vegetables     0.031914         0.020672  0.021594   \n",
              "Item_Type_Hard Drinks              -0.038895        -0.000757 -0.009664   \n",
              "Item_Type_Health and Hygiene        0.018775        -0.047416 -0.032251   \n",
              "Item_Type_Household                 0.037377        -0.042387  0.043553   \n",
              "Item_Type_Meat                     -0.001218        -0.029327 -0.002688   \n",
              "Item_Type_Others                    0.030623        -0.024617 -0.016582   \n",
              "Item_Type_Seafood                  -0.000501         0.007884  0.000363   \n",
              "Item_Type_Snack Foods               0.005772         0.010374  0.035457   \n",
              "Item_Type_Soft Drinks              -0.045730        -0.003016 -0.020939   \n",
              "Item_Type_Starchy Foods             0.024005         0.003616  0.019575   \n",
              "\n",
              "                                 Outlet_Establishment_Year  \\\n",
              "Item_Weight                                       0.000462   \n",
              "Item_Visibility                                  -0.083678   \n",
              "Item_MRP                                          0.000141   \n",
              "Outlet_Establishment_Year                         1.000000   \n",
              "Outlet_Location_Type                             -0.089328   \n",
              "Outlet_Type                                      -0.122519   \n",
              "Item_Outlet_Sales                                -0.054176   \n",
              "Item_Fat_Content_Low Fat                         -0.000137   \n",
              "Item_Fat_Content_Regular                          0.000137   \n",
              "Item_Type_Baking Goods                           -0.000162   \n",
              "Item_Type_Breads                                 -0.001574   \n",
              "Item_Type_Breakfast                              -0.002257   \n",
              "Item_Type_Canned                                  0.000809   \n",
              "Item_Type_Dairy                                   0.000817   \n",
              "Item_Type_Frozen Foods                           -0.002534   \n",
              "Item_Type_Fruits and Vegetables                  -0.001161   \n",
              "Item_Type_Hard Drinks                             0.002364   \n",
              "Item_Type_Health and Hygiene                     -0.001367   \n",
              "Item_Type_Household                               0.001541   \n",
              "Item_Type_Meat                                   -0.002291   \n",
              "Item_Type_Others                                 -0.003545   \n",
              "Item_Type_Seafood                                -0.001272   \n",
              "Item_Type_Snack Foods                             0.002854   \n",
              "Item_Type_Soft Drinks                             0.001334   \n",
              "Item_Type_Starchy Foods                           0.004291   \n",
              "\n",
              "                                 Outlet_Location_Type  Outlet_Type  \\\n",
              "Item_Weight                                 -0.002104     0.001699   \n",
              "Item_Visibility                             -0.017362    -0.165726   \n",
              "Item_MRP                                     0.000838     0.000136   \n",
              "Outlet_Establishment_Year                   -0.089328    -0.122519   \n",
              "Outlet_Location_Type                         1.000000     0.467251   \n",
              "Outlet_Type                                  0.467251     1.000000   \n",
              "Item_Outlet_Sales                            0.100386     0.435849   \n",
              "Item_Fat_Content_Low Fat                    -0.001373     0.000228   \n",
              "Item_Fat_Content_Regular                     0.001373    -0.000228   \n",
              "Item_Type_Baking Goods                       0.000469    -0.000197   \n",
              "Item_Type_Breads                             0.000541    -0.003530   \n",
              "Item_Type_Breakfast                         -0.002279    -0.002673   \n",
              "Item_Type_Canned                            -0.001414     0.002933   \n",
              "Item_Type_Dairy                             -0.000704     0.001416   \n",
              "Item_Type_Frozen Foods                      -0.002575    -0.003537   \n",
              "Item_Type_Fruits and Vegetables              0.000949    -0.002326   \n",
              "Item_Type_Hard Drinks                        0.002829     0.001198   \n",
              "Item_Type_Health and Hygiene                -0.001393     0.000483   \n",
              "Item_Type_Household                          0.001473    -0.000166   \n",
              "Item_Type_Meat                              -0.000024    -0.004443   \n",
              "Item_Type_Others                            -0.003489    -0.004043   \n",
              "Item_Type_Seafood                           -0.002244     0.002337   \n",
              "Item_Type_Snack Foods                        0.001630     0.005005   \n",
              "Item_Type_Soft Drinks                        0.000813     0.001954   \n",
              "Item_Type_Starchy Foods                      0.002950     0.004445   \n",
              "\n",
              "                                 Item_Outlet_Sales  Item_Fat_Content_Low Fat  \\\n",
              "Item_Weight                               0.021600                  0.030101   \n",
              "Item_Visibility                          -0.134118                 -0.044274   \n",
              "Item_MRP                                  0.602297                  0.004019   \n",
              "Outlet_Establishment_Year                -0.054176                 -0.000137   \n",
              "Outlet_Location_Type                      0.100386                 -0.001373   \n",
              "Outlet_Type                               0.435849                  0.000228   \n",
              "Item_Outlet_Sales                         1.000000                 -0.011056   \n",
              "Item_Fat_Content_Low Fat                 -0.011056                  1.000000   \n",
              "Item_Fat_Content_Regular                  0.011056                 -1.000000   \n",
              "Item_Type_Baking Goods                   -0.037788                 -0.088826   \n",
              "Item_Type_Breads                          0.002283                 -0.041060   \n",
              "Item_Type_Breakfast                      -0.005058                 -0.070320   \n",
              "Item_Type_Canned                          0.003014                 -0.084301   \n",
              "Item_Type_Dairy                           0.009006                 -0.023669   \n",
              "Item_Type_Frozen Foods                   -0.021253                 -0.093666   \n",
              "Item_Type_Fruits and Vegetables           0.021320                 -0.091092   \n",
              "Item_Type_Hard Drinks                    -0.009703                  0.119543   \n",
              "Item_Type_Health and Hygiene             -0.018764                  0.187429   \n",
              "Item_Type_Household                       0.018474                  0.258527   \n",
              "Item_Type_Meat                            0.001423                 -0.128862   \n",
              "Item_Type_Others                         -0.014852                  0.104825   \n",
              "Item_Type_Seafood                         0.012828                 -0.008496   \n",
              "Item_Type_Snack Foods                     0.022922                 -0.061620   \n",
              "Item_Type_Soft Drinks                    -0.014586                  0.098667   \n",
              "Item_Type_Starchy Foods                   0.015971                 -0.018313   \n",
              "\n",
              "                                 Item_Fat_Content_Regular  \\\n",
              "Item_Weight                                     -0.030101   \n",
              "Item_Visibility                                  0.044274   \n",
              "Item_MRP                                        -0.004019   \n",
              "Outlet_Establishment_Year                        0.000137   \n",
              "Outlet_Location_Type                             0.001373   \n",
              "Outlet_Type                                     -0.000228   \n",
              "Item_Outlet_Sales                                0.011056   \n",
              "Item_Fat_Content_Low Fat                        -1.000000   \n",
              "Item_Fat_Content_Regular                         1.000000   \n",
              "Item_Type_Baking Goods                           0.088826   \n",
              "Item_Type_Breads                                 0.041060   \n",
              "Item_Type_Breakfast                              0.070320   \n",
              "Item_Type_Canned                                 0.084301   \n",
              "Item_Type_Dairy                                  0.023669   \n",
              "Item_Type_Frozen Foods                           0.093666   \n",
              "Item_Type_Fruits and Vegetables                  0.091092   \n",
              "Item_Type_Hard Drinks                           -0.119543   \n",
              "Item_Type_Health and Hygiene                    -0.187429   \n",
              "Item_Type_Household                             -0.258527   \n",
              "Item_Type_Meat                                   0.128862   \n",
              "Item_Type_Others                                -0.104825   \n",
              "Item_Type_Seafood                                0.008496   \n",
              "Item_Type_Snack Foods                            0.061620   \n",
              "Item_Type_Soft Drinks                           -0.098667   \n",
              "Item_Type_Starchy Foods                          0.018313   \n",
              "\n",
              "                                 Item_Type_Baking Goods  ...  \\\n",
              "Item_Weight                                   -0.029152  ...   \n",
              "Item_Visibility                                0.010875  ...   \n",
              "Item_MRP                                      -0.062781  ...   \n",
              "Outlet_Establishment_Year                     -0.000162  ...   \n",
              "Outlet_Location_Type                           0.000469  ...   \n",
              "Outlet_Type                                   -0.000197  ...   \n",
              "Item_Outlet_Sales                             -0.037788  ...   \n",
              "Item_Fat_Content_Low Fat                      -0.088826  ...   \n",
              "Item_Fat_Content_Regular                       0.088826  ...   \n",
              "Item_Type_Baking Goods                         1.000000  ...   \n",
              "Item_Type_Breads                              -0.049978  ...   \n",
              "Item_Type_Breakfast                           -0.033143  ...   \n",
              "Item_Type_Canned                              -0.082704  ...   \n",
              "Item_Type_Dairy                               -0.084833  ...   \n",
              "Item_Type_Frozen Foods                        -0.096119  ...   \n",
              "Item_Type_Fruits and Vegetables               -0.116919  ...   \n",
              "Item_Type_Hard Drinks                         -0.046530  ...   \n",
              "Item_Type_Health and Hygiene                  -0.072954  ...   \n",
              "Item_Type_Household                           -0.100628  ...   \n",
              "Item_Type_Meat                                -0.067262  ...   \n",
              "Item_Type_Others                              -0.040802  ...   \n",
              "Item_Type_Seafood                             -0.022847  ...   \n",
              "Item_Type_Snack Foods                         -0.116105  ...   \n",
              "Item_Type_Soft Drinks                         -0.066779  ...   \n",
              "Item_Type_Starchy Foods                       -0.039976  ...   \n",
              "\n",
              "                                 Item_Type_Fruits and Vegetables  \\\n",
              "Item_Weight                                             0.031914   \n",
              "Item_Visibility                                         0.020672   \n",
              "Item_MRP                                                0.021594   \n",
              "Outlet_Establishment_Year                              -0.001161   \n",
              "Outlet_Location_Type                                    0.000949   \n",
              "Outlet_Type                                            -0.002326   \n",
              "Item_Outlet_Sales                                       0.021320   \n",
              "Item_Fat_Content_Low Fat                               -0.091092   \n",
              "Item_Fat_Content_Regular                                0.091092   \n",
              "Item_Type_Baking Goods                                 -0.116919   \n",
              "Item_Type_Breads                                       -0.070583   \n",
              "Item_Type_Breakfast                                    -0.046808   \n",
              "Item_Type_Canned                                       -0.116802   \n",
              "Item_Type_Dairy                                        -0.119808   \n",
              "Item_Type_Frozen Foods                                 -0.135747   \n",
              "Item_Type_Fruits and Vegetables                         1.000000   \n",
              "Item_Type_Hard Drinks                                  -0.065714   \n",
              "Item_Type_Health and Hygiene                           -0.103032   \n",
              "Item_Type_Household                                    -0.142115   \n",
              "Item_Type_Meat                                         -0.094993   \n",
              "Item_Type_Others                                       -0.057623   \n",
              "Item_Type_Seafood                                      -0.032267   \n",
              "Item_Type_Snack Foods                                  -0.163973   \n",
              "Item_Type_Soft Drinks                                  -0.094310   \n",
              "Item_Type_Starchy Foods                                -0.056458   \n",
              "\n",
              "                                 Item_Type_Hard Drinks  \\\n",
              "Item_Weight                                  -0.038895   \n",
              "Item_Visibility                              -0.000757   \n",
              "Item_MRP                                     -0.009664   \n",
              "Outlet_Establishment_Year                     0.002364   \n",
              "Outlet_Location_Type                          0.002829   \n",
              "Outlet_Type                                   0.001198   \n",
              "Item_Outlet_Sales                            -0.009703   \n",
              "Item_Fat_Content_Low Fat                      0.119543   \n",
              "Item_Fat_Content_Regular                     -0.119543   \n",
              "Item_Type_Baking Goods                       -0.046530   \n",
              "Item_Type_Breads                             -0.028090   \n",
              "Item_Type_Breakfast                          -0.018628   \n",
              "Item_Type_Canned                             -0.046484   \n",
              "Item_Type_Dairy                              -0.047680   \n",
              "Item_Type_Frozen Foods                       -0.054024   \n",
              "Item_Type_Fruits and Vegetables              -0.065714   \n",
              "Item_Type_Hard Drinks                         1.000000   \n",
              "Item_Type_Health and Hygiene                 -0.041004   \n",
              "Item_Type_Household                          -0.056558   \n",
              "Item_Type_Meat                               -0.037804   \n",
              "Item_Type_Others                             -0.022933   \n",
              "Item_Type_Seafood                            -0.012841   \n",
              "Item_Type_Snack Foods                        -0.065257   \n",
              "Item_Type_Soft Drinks                        -0.037533   \n",
              "Item_Type_Starchy Foods                      -0.022469   \n",
              "\n",
              "                                 Item_Type_Health and Hygiene  \\\n",
              "Item_Weight                                          0.018775   \n",
              "Item_Visibility                                     -0.047416   \n",
              "Item_MRP                                            -0.032251   \n",
              "Outlet_Establishment_Year                           -0.001367   \n",
              "Outlet_Location_Type                                -0.001393   \n",
              "Outlet_Type                                          0.000483   \n",
              "Item_Outlet_Sales                                   -0.018764   \n",
              "Item_Fat_Content_Low Fat                             0.187429   \n",
              "Item_Fat_Content_Regular                            -0.187429   \n",
              "Item_Type_Baking Goods                              -0.072954   \n",
              "Item_Type_Breads                                    -0.044042   \n",
              "Item_Type_Breakfast                                 -0.029207   \n",
              "Item_Type_Canned                                    -0.072881   \n",
              "Item_Type_Dairy                                     -0.074757   \n",
              "Item_Type_Frozen Foods                              -0.084703   \n",
              "Item_Type_Fruits and Vegetables                     -0.103032   \n",
              "Item_Type_Hard Drinks                               -0.041004   \n",
              "Item_Type_Health and Hygiene                         1.000000   \n",
              "Item_Type_Household                                 -0.088676   \n",
              "Item_Type_Meat                                      -0.059273   \n",
              "Item_Type_Others                                    -0.035955   \n",
              "Item_Type_Seafood                                   -0.020134   \n",
              "Item_Type_Snack Foods                               -0.102315   \n",
              "Item_Type_Soft Drinks                               -0.058847   \n",
              "Item_Type_Starchy Foods                             -0.035228   \n",
              "\n",
              "                                 Item_Type_Household  Item_Type_Meat  \\\n",
              "Item_Weight                                 0.037377       -0.001218   \n",
              "Item_Visibility                            -0.042387       -0.029327   \n",
              "Item_MRP                                    0.043553       -0.002688   \n",
              "Outlet_Establishment_Year                   0.001541       -0.002291   \n",
              "Outlet_Location_Type                        0.001473       -0.000024   \n",
              "Outlet_Type                                -0.000166       -0.004443   \n",
              "Item_Outlet_Sales                           0.018474        0.001423   \n",
              "Item_Fat_Content_Low Fat                    0.258527       -0.128862   \n",
              "Item_Fat_Content_Regular                   -0.258527        0.128862   \n",
              "Item_Type_Baking Goods                     -0.100628       -0.067262   \n",
              "Item_Type_Breads                           -0.060748       -0.040605   \n",
              "Item_Type_Breakfast                        -0.040286       -0.026928   \n",
              "Item_Type_Canned                           -0.100528       -0.067195   \n",
              "Item_Type_Dairy                            -0.103115       -0.068924   \n",
              "Item_Type_Frozen Foods                     -0.116833       -0.078094   \n",
              "Item_Type_Fruits and Vegetables            -0.142115       -0.094993   \n",
              "Item_Type_Hard Drinks                      -0.056558       -0.037804   \n",
              "Item_Type_Health and Hygiene               -0.088676       -0.059273   \n",
              "Item_Type_Household                         1.000000       -0.081757   \n",
              "Item_Type_Meat                             -0.081757        1.000000   \n",
              "Item_Type_Others                           -0.049595       -0.033150   \n",
              "Item_Type_Seafood                          -0.027771       -0.018563   \n",
              "Item_Type_Snack Foods                      -0.141126       -0.094332   \n",
              "Item_Type_Soft Drinks                      -0.081169       -0.054255   \n",
              "Item_Type_Starchy Foods                    -0.048591       -0.032480   \n",
              "\n",
              "                                 Item_Type_Others  Item_Type_Seafood  \\\n",
              "Item_Weight                              0.030623          -0.000501   \n",
              "Item_Visibility                         -0.024617           0.007884   \n",
              "Item_MRP                                -0.016582           0.000363   \n",
              "Outlet_Establishment_Year               -0.003545          -0.001272   \n",
              "Outlet_Location_Type                    -0.003489          -0.002244   \n",
              "Outlet_Type                             -0.004043           0.002337   \n",
              "Item_Outlet_Sales                       -0.014852           0.012828   \n",
              "Item_Fat_Content_Low Fat                 0.104825          -0.008496   \n",
              "Item_Fat_Content_Regular                -0.104825           0.008496   \n",
              "Item_Type_Baking Goods                  -0.040802          -0.022847   \n",
              "Item_Type_Breads                        -0.024632          -0.013793   \n",
              "Item_Type_Breakfast                     -0.016335          -0.009147   \n",
              "Item_Type_Canned                        -0.040761          -0.022825   \n",
              "Item_Type_Dairy                         -0.041810          -0.023412   \n",
              "Item_Type_Frozen Foods                  -0.047372          -0.026527   \n",
              "Item_Type_Fruits and Vegetables         -0.057623          -0.032267   \n",
              "Item_Type_Hard Drinks                   -0.022933          -0.012841   \n",
              "Item_Type_Health and Hygiene            -0.035955          -0.020134   \n",
              "Item_Type_Household                     -0.049595          -0.027771   \n",
              "Item_Type_Meat                          -0.033150          -0.018563   \n",
              "Item_Type_Others                         1.000000          -0.011260   \n",
              "Item_Type_Seafood                       -0.011260           1.000000   \n",
              "Item_Type_Snack Foods                   -0.057223          -0.032042   \n",
              "Item_Type_Soft Drinks                   -0.032912          -0.018429   \n",
              "Item_Type_Starchy Foods                 -0.019702          -0.011033   \n",
              "\n",
              "                                 Item_Type_Snack Foods  Item_Type_Soft Drinks  \\\n",
              "Item_Weight                                   0.005772              -0.045730   \n",
              "Item_Visibility                               0.010374              -0.003016   \n",
              "Item_MRP                                      0.035457              -0.020939   \n",
              "Outlet_Establishment_Year                     0.002854               0.001334   \n",
              "Outlet_Location_Type                          0.001630               0.000813   \n",
              "Outlet_Type                                   0.005005               0.001954   \n",
              "Item_Outlet_Sales                             0.022922              -0.014586   \n",
              "Item_Fat_Content_Low Fat                     -0.061620               0.098667   \n",
              "Item_Fat_Content_Regular                      0.061620              -0.098667   \n",
              "Item_Type_Baking Goods                       -0.116105              -0.066779   \n",
              "Item_Type_Breads                             -0.070092              -0.040314   \n",
              "Item_Type_Breakfast                          -0.046482              -0.026734   \n",
              "Item_Type_Canned                             -0.115989              -0.066712   \n",
              "Item_Type_Dairy                              -0.118975              -0.068429   \n",
              "Item_Type_Frozen Foods                       -0.134803              -0.077533   \n",
              "Item_Type_Fruits and Vegetables              -0.163973              -0.094310   \n",
              "Item_Type_Hard Drinks                        -0.065257              -0.037533   \n",
              "Item_Type_Health and Hygiene                 -0.102315              -0.058847   \n",
              "Item_Type_Household                          -0.141126              -0.081169   \n",
              "Item_Type_Meat                               -0.094332              -0.054255   \n",
              "Item_Type_Others                             -0.057223              -0.032912   \n",
              "Item_Type_Seafood                            -0.032042              -0.018429   \n",
              "Item_Type_Snack Foods                         1.000000              -0.093654   \n",
              "Item_Type_Soft Drinks                        -0.093654               1.000000   \n",
              "Item_Type_Starchy Foods                      -0.056065              -0.032246   \n",
              "\n",
              "                                 Item_Type_Starchy Foods  \n",
              "Item_Weight                                     0.024005  \n",
              "Item_Visibility                                 0.003616  \n",
              "Item_MRP                                        0.019575  \n",
              "Outlet_Establishment_Year                       0.004291  \n",
              "Outlet_Location_Type                            0.002950  \n",
              "Outlet_Type                                     0.004445  \n",
              "Item_Outlet_Sales                               0.015971  \n",
              "Item_Fat_Content_Low Fat                       -0.018313  \n",
              "Item_Fat_Content_Regular                        0.018313  \n",
              "Item_Type_Baking Goods                         -0.039976  \n",
              "Item_Type_Breads                               -0.024133  \n",
              "Item_Type_Breakfast                            -0.016004  \n",
              "Item_Type_Canned                               -0.039937  \n",
              "Item_Type_Dairy                                -0.040964  \n",
              "Item_Type_Frozen Foods                         -0.046414  \n",
              "Item_Type_Fruits and Vegetables                -0.056458  \n",
              "Item_Type_Hard Drinks                          -0.022469  \n",
              "Item_Type_Health and Hygiene                   -0.035228  \n",
              "Item_Type_Household                            -0.048591  \n",
              "Item_Type_Meat                                 -0.032480  \n",
              "Item_Type_Others                               -0.019702  \n",
              "Item_Type_Seafood                              -0.011033  \n",
              "Item_Type_Snack Foods                          -0.056065  \n",
              "Item_Type_Soft Drinks                          -0.032246  \n",
              "Item_Type_Starchy Foods                         1.000000  \n",
              "\n",
              "[25 rows x 25 columns]"
            ],
            "text/html": [
              "\n",
              "  <div id=\"df-e9187df3-39ac-472d-9e26-4336817d4833\">\n",
              "    <div class=\"colab-df-container\">\n",
              "      <div>\n",
              "<style scoped>\n",
              "    .dataframe tbody tr th:only-of-type {\n",
              "        vertical-align: middle;\n",
              "    }\n",
              "\n",
              "    .dataframe tbody tr th {\n",
              "        vertical-align: top;\n",
              "    }\n",
              "\n",
              "    .dataframe thead th {\n",
              "        text-align: right;\n",
              "    }\n",
              "</style>\n",
              "<table border=\"1\" class=\"dataframe\">\n",
              "  <thead>\n",
              "    <tr style=\"text-align: right;\">\n",
              "      <th></th>\n",
              "      <th>Item_Weight</th>\n",
              "      <th>Item_Visibility</th>\n",
              "      <th>Item_MRP</th>\n",
              "      <th>Outlet_Establishment_Year</th>\n",
              "      <th>Outlet_Location_Type</th>\n",
              "      <th>Outlet_Type</th>\n",
              "      <th>Item_Outlet_Sales</th>\n",
              "      <th>Item_Fat_Content_Low Fat</th>\n",
              "      <th>Item_Fat_Content_Regular</th>\n",
              "      <th>Item_Type_Baking Goods</th>\n",
              "      <th>...</th>\n",
              "      <th>Item_Type_Fruits and Vegetables</th>\n",
              "      <th>Item_Type_Hard Drinks</th>\n",
              "      <th>Item_Type_Health and Hygiene</th>\n",
              "      <th>Item_Type_Household</th>\n",
              "      <th>Item_Type_Meat</th>\n",
              "      <th>Item_Type_Others</th>\n",
              "      <th>Item_Type_Seafood</th>\n",
              "      <th>Item_Type_Snack Foods</th>\n",
              "      <th>Item_Type_Soft Drinks</th>\n",
              "      <th>Item_Type_Starchy Foods</th>\n",
              "    </tr>\n",
              "  </thead>\n",
              "  <tbody>\n",
              "    <tr>\n",
              "      <th>Item_Weight</th>\n",
              "      <td>1.000000</td>\n",
              "      <td>-0.013641</td>\n",
              "      <td>0.033002</td>\n",
              "      <td>0.000462</td>\n",
              "      <td>-0.002104</td>\n",
              "      <td>0.001699</td>\n",
              "      <td>0.021600</td>\n",
              "      <td>0.030101</td>\n",
              "      <td>-0.030101</td>\n",
              "      <td>-0.029152</td>\n",
              "      <td>...</td>\n",
              "      <td>0.031914</td>\n",
              "      <td>-0.038895</td>\n",
              "      <td>0.018775</td>\n",
              "      <td>0.037377</td>\n",
              "      <td>-0.001218</td>\n",
              "      <td>0.030623</td>\n",
              "      <td>-0.000501</td>\n",
              "      <td>0.005772</td>\n",
              "      <td>-0.045730</td>\n",
              "      <td>0.024005</td>\n",
              "    </tr>\n",
              "    <tr>\n",
              "      <th>Item_Visibility</th>\n",
              "      <td>-0.013641</td>\n",
              "      <td>1.000000</td>\n",
              "      <td>-0.006351</td>\n",
              "      <td>-0.083678</td>\n",
              "      <td>-0.017362</td>\n",
              "      <td>-0.165726</td>\n",
              "      <td>-0.134118</td>\n",
              "      <td>-0.044274</td>\n",
              "      <td>0.044274</td>\n",
              "      <td>0.010875</td>\n",
              "      <td>...</td>\n",
              "      <td>0.020672</td>\n",
              "      <td>-0.000757</td>\n",
              "      <td>-0.047416</td>\n",
              "      <td>-0.042387</td>\n",
              "      <td>-0.029327</td>\n",
              "      <td>-0.024617</td>\n",
              "      <td>0.007884</td>\n",
              "      <td>0.010374</td>\n",
              "      <td>-0.003016</td>\n",
              "      <td>0.003616</td>\n",
              "    </tr>\n",
              "    <tr>\n",
              "      <th>Item_MRP</th>\n",
              "      <td>0.033002</td>\n",
              "      <td>-0.006351</td>\n",
              "      <td>1.000000</td>\n",
              "      <td>0.000141</td>\n",
              "      <td>0.000838</td>\n",
              "      <td>0.000136</td>\n",
              "      <td>0.602297</td>\n",
              "      <td>0.004019</td>\n",
              "      <td>-0.004019</td>\n",
              "      <td>-0.062781</td>\n",
              "      <td>...</td>\n",
              "      <td>0.021594</td>\n",
              "      <td>-0.009664</td>\n",
              "      <td>-0.032251</td>\n",
              "      <td>0.043553</td>\n",
              "      <td>-0.002688</td>\n",
              "      <td>-0.016582</td>\n",
              "      <td>0.000363</td>\n",
              "      <td>0.035457</td>\n",
              "      <td>-0.020939</td>\n",
              "      <td>0.019575</td>\n",
              "    </tr>\n",
              "    <tr>\n",
              "      <th>Outlet_Establishment_Year</th>\n",
              "      <td>0.000462</td>\n",
              "      <td>-0.083678</td>\n",
              "      <td>0.000141</td>\n",
              "      <td>1.000000</td>\n",
              "      <td>-0.089328</td>\n",
              "      <td>-0.122519</td>\n",
              "      <td>-0.054176</td>\n",
              "      <td>-0.000137</td>\n",
              "      <td>0.000137</td>\n",
              "      <td>-0.000162</td>\n",
              "      <td>...</td>\n",
              "      <td>-0.001161</td>\n",
              "      <td>0.002364</td>\n",
              "      <td>-0.001367</td>\n",
              "      <td>0.001541</td>\n",
              "      <td>-0.002291</td>\n",
              "      <td>-0.003545</td>\n",
              "      <td>-0.001272</td>\n",
              "      <td>0.002854</td>\n",
              "      <td>0.001334</td>\n",
              "      <td>0.004291</td>\n",
              "    </tr>\n",
              "    <tr>\n",
              "      <th>Outlet_Location_Type</th>\n",
              "      <td>-0.002104</td>\n",
              "      <td>-0.017362</td>\n",
              "      <td>0.000838</td>\n",
              "      <td>-0.089328</td>\n",
              "      <td>1.000000</td>\n",
              "      <td>0.467251</td>\n",
              "      <td>0.100386</td>\n",
              "      <td>-0.001373</td>\n",
              "      <td>0.001373</td>\n",
              "      <td>0.000469</td>\n",
              "      <td>...</td>\n",
              "      <td>0.000949</td>\n",
              "      <td>0.002829</td>\n",
              "      <td>-0.001393</td>\n",
              "      <td>0.001473</td>\n",
              "      <td>-0.000024</td>\n",
              "      <td>-0.003489</td>\n",
              "      <td>-0.002244</td>\n",
              "      <td>0.001630</td>\n",
              "      <td>0.000813</td>\n",
              "      <td>0.002950</td>\n",
              "    </tr>\n",
              "    <tr>\n",
              "      <th>Outlet_Type</th>\n",
              "      <td>0.001699</td>\n",
              "      <td>-0.165726</td>\n",
              "      <td>0.000136</td>\n",
              "      <td>-0.122519</td>\n",
              "      <td>0.467251</td>\n",
              "      <td>1.000000</td>\n",
              "      <td>0.435849</td>\n",
              "      <td>0.000228</td>\n",
              "      <td>-0.000228</td>\n",
              "      <td>-0.000197</td>\n",
              "      <td>...</td>\n",
              "      <td>-0.002326</td>\n",
              "      <td>0.001198</td>\n",
              "      <td>0.000483</td>\n",
              "      <td>-0.000166</td>\n",
              "      <td>-0.004443</td>\n",
              "      <td>-0.004043</td>\n",
              "      <td>0.002337</td>\n",
              "      <td>0.005005</td>\n",
              "      <td>0.001954</td>\n",
              "      <td>0.004445</td>\n",
              "    </tr>\n",
              "    <tr>\n",
              "      <th>Item_Outlet_Sales</th>\n",
              "      <td>0.021600</td>\n",
              "      <td>-0.134118</td>\n",
              "      <td>0.602297</td>\n",
              "      <td>-0.054176</td>\n",
              "      <td>0.100386</td>\n",
              "      <td>0.435849</td>\n",
              "      <td>1.000000</td>\n",
              "      <td>-0.011056</td>\n",
              "      <td>0.011056</td>\n",
              "      <td>-0.037788</td>\n",
              "      <td>...</td>\n",
              "      <td>0.021320</td>\n",
              "      <td>-0.009703</td>\n",
              "      <td>-0.018764</td>\n",
              "      <td>0.018474</td>\n",
              "      <td>0.001423</td>\n",
              "      <td>-0.014852</td>\n",
              "      <td>0.012828</td>\n",
              "      <td>0.022922</td>\n",
              "      <td>-0.014586</td>\n",
              "      <td>0.015971</td>\n",
              "    </tr>\n",
              "    <tr>\n",
              "      <th>Item_Fat_Content_Low Fat</th>\n",
              "      <td>0.030101</td>\n",
              "      <td>-0.044274</td>\n",
              "      <td>0.004019</td>\n",
              "      <td>-0.000137</td>\n",
              "      <td>-0.001373</td>\n",
              "      <td>0.000228</td>\n",
              "      <td>-0.011056</td>\n",
              "      <td>1.000000</td>\n",
              "      <td>-1.000000</td>\n",
              "      <td>-0.088826</td>\n",
              "      <td>...</td>\n",
              "      <td>-0.091092</td>\n",
              "      <td>0.119543</td>\n",
              "      <td>0.187429</td>\n",
              "      <td>0.258527</td>\n",
              "      <td>-0.128862</td>\n",
              "      <td>0.104825</td>\n",
              "      <td>-0.008496</td>\n",
              "      <td>-0.061620</td>\n",
              "      <td>0.098667</td>\n",
              "      <td>-0.018313</td>\n",
              "    </tr>\n",
              "    <tr>\n",
              "      <th>Item_Fat_Content_Regular</th>\n",
              "      <td>-0.030101</td>\n",
              "      <td>0.044274</td>\n",
              "      <td>-0.004019</td>\n",
              "      <td>0.000137</td>\n",
              "      <td>0.001373</td>\n",
              "      <td>-0.000228</td>\n",
              "      <td>0.011056</td>\n",
              "      <td>-1.000000</td>\n",
              "      <td>1.000000</td>\n",
              "      <td>0.088826</td>\n",
              "      <td>...</td>\n",
              "      <td>0.091092</td>\n",
              "      <td>-0.119543</td>\n",
              "      <td>-0.187429</td>\n",
              "      <td>-0.258527</td>\n",
              "      <td>0.128862</td>\n",
              "      <td>-0.104825</td>\n",
              "      <td>0.008496</td>\n",
              "      <td>0.061620</td>\n",
              "      <td>-0.098667</td>\n",
              "      <td>0.018313</td>\n",
              "    </tr>\n",
              "    <tr>\n",
              "      <th>Item_Type_Baking Goods</th>\n",
              "      <td>-0.029152</td>\n",
              "      <td>0.010875</td>\n",
              "      <td>-0.062781</td>\n",
              "      <td>-0.000162</td>\n",
              "      <td>0.000469</td>\n",
              "      <td>-0.000197</td>\n",
              "      <td>-0.037788</td>\n",
              "      <td>-0.088826</td>\n",
              "      <td>0.088826</td>\n",
              "      <td>1.000000</td>\n",
              "      <td>...</td>\n",
              "      <td>-0.116919</td>\n",
              "      <td>-0.046530</td>\n",
              "      <td>-0.072954</td>\n",
              "      <td>-0.100628</td>\n",
              "      <td>-0.067262</td>\n",
              "      <td>-0.040802</td>\n",
              "      <td>-0.022847</td>\n",
              "      <td>-0.116105</td>\n",
              "      <td>-0.066779</td>\n",
              "      <td>-0.039976</td>\n",
              "    </tr>\n",
              "    <tr>\n",
              "      <th>Item_Type_Breads</th>\n",
              "      <td>-0.055490</td>\n",
              "      <td>0.012154</td>\n",
              "      <td>0.001077</td>\n",
              "      <td>-0.001574</td>\n",
              "      <td>0.000541</td>\n",
              "      <td>-0.003530</td>\n",
              "      <td>0.002283</td>\n",
              "      <td>-0.041060</td>\n",
              "      <td>0.041060</td>\n",
              "      <td>-0.049978</td>\n",
              "      <td>...</td>\n",
              "      <td>-0.070583</td>\n",
              "      <td>-0.028090</td>\n",
              "      <td>-0.044042</td>\n",
              "      <td>-0.060748</td>\n",
              "      <td>-0.040605</td>\n",
              "      <td>-0.024632</td>\n",
              "      <td>-0.013793</td>\n",
              "      <td>-0.070092</td>\n",
              "      <td>-0.040314</td>\n",
              "      <td>-0.024133</td>\n",
              "    </tr>\n",
              "    <tr>\n",
              "      <th>Item_Type_Breakfast</th>\n",
              "      <td>0.008587</td>\n",
              "      <td>0.036960</td>\n",
              "      <td>-0.005602</td>\n",
              "      <td>-0.002257</td>\n",
              "      <td>-0.002279</td>\n",
              "      <td>-0.002673</td>\n",
              "      <td>-0.005058</td>\n",
              "      <td>-0.070320</td>\n",
              "      <td>0.070320</td>\n",
              "      <td>-0.033143</td>\n",
              "      <td>...</td>\n",
              "      <td>-0.046808</td>\n",
              "      <td>-0.018628</td>\n",
              "      <td>-0.029207</td>\n",
              "      <td>-0.040286</td>\n",
              "      <td>-0.026928</td>\n",
              "      <td>-0.016335</td>\n",
              "      <td>-0.009147</td>\n",
              "      <td>-0.046482</td>\n",
              "      <td>-0.026734</td>\n",
              "      <td>-0.016004</td>\n",
              "    </tr>\n",
              "    <tr>\n",
              "      <th>Item_Type_Canned</th>\n",
              "      <td>-0.025421</td>\n",
              "      <td>0.010522</td>\n",
              "      <td>-0.011038</td>\n",
              "      <td>0.000809</td>\n",
              "      <td>-0.001414</td>\n",
              "      <td>0.002933</td>\n",
              "      <td>0.003014</td>\n",
              "      <td>-0.084301</td>\n",
              "      <td>0.084301</td>\n",
              "      <td>-0.082704</td>\n",
              "      <td>...</td>\n",
              "      <td>-0.116802</td>\n",
              "      <td>-0.046484</td>\n",
              "      <td>-0.072881</td>\n",
              "      <td>-0.100528</td>\n",
              "      <td>-0.067195</td>\n",
              "      <td>-0.040761</td>\n",
              "      <td>-0.022825</td>\n",
              "      <td>-0.115989</td>\n",
              "      <td>-0.066712</td>\n",
              "      <td>-0.039937</td>\n",
              "    </tr>\n",
              "    <tr>\n",
              "      <th>Item_Type_Dairy</th>\n",
              "      <td>0.025697</td>\n",
              "      <td>0.031959</td>\n",
              "      <td>0.029567</td>\n",
              "      <td>0.000817</td>\n",
              "      <td>-0.000704</td>\n",
              "      <td>0.001416</td>\n",
              "      <td>0.009006</td>\n",
              "      <td>-0.023669</td>\n",
              "      <td>0.023669</td>\n",
              "      <td>-0.084833</td>\n",
              "      <td>...</td>\n",
              "      <td>-0.119808</td>\n",
              "      <td>-0.047680</td>\n",
              "      <td>-0.074757</td>\n",
              "      <td>-0.103115</td>\n",
              "      <td>-0.068924</td>\n",
              "      <td>-0.041810</td>\n",
              "      <td>-0.023412</td>\n",
              "      <td>-0.118975</td>\n",
              "      <td>-0.068429</td>\n",
              "      <td>-0.040964</td>\n",
              "    </tr>\n",
              "    <tr>\n",
              "      <th>Item_Type_Frozen Foods</th>\n",
              "      <td>-0.014532</td>\n",
              "      <td>0.008926</td>\n",
              "      <td>-0.024416</td>\n",
              "      <td>-0.002534</td>\n",
              "      <td>-0.002575</td>\n",
              "      <td>-0.003537</td>\n",
              "      <td>-0.021253</td>\n",
              "      <td>-0.093666</td>\n",
              "      <td>0.093666</td>\n",
              "      <td>-0.096119</td>\n",
              "      <td>...</td>\n",
              "      <td>-0.135747</td>\n",
              "      <td>-0.054024</td>\n",
              "      <td>-0.084703</td>\n",
              "      <td>-0.116833</td>\n",
              "      <td>-0.078094</td>\n",
              "      <td>-0.047372</td>\n",
              "      <td>-0.026527</td>\n",
              "      <td>-0.134803</td>\n",
              "      <td>-0.077533</td>\n",
              "      <td>-0.046414</td>\n",
              "    </tr>\n",
              "    <tr>\n",
              "      <th>Item_Type_Fruits and Vegetables</th>\n",
              "      <td>0.031914</td>\n",
              "      <td>0.020672</td>\n",
              "      <td>0.021594</td>\n",
              "      <td>-0.001161</td>\n",
              "      <td>0.000949</td>\n",
              "      <td>-0.002326</td>\n",
              "      <td>0.021320</td>\n",
              "      <td>-0.091092</td>\n",
              "      <td>0.091092</td>\n",
              "      <td>-0.116919</td>\n",
              "      <td>...</td>\n",
              "      <td>1.000000</td>\n",
              "      <td>-0.065714</td>\n",
              "      <td>-0.103032</td>\n",
              "      <td>-0.142115</td>\n",
              "      <td>-0.094993</td>\n",
              "      <td>-0.057623</td>\n",
              "      <td>-0.032267</td>\n",
              "      <td>-0.163973</td>\n",
              "      <td>-0.094310</td>\n",
              "      <td>-0.056458</td>\n",
              "    </tr>\n",
              "    <tr>\n",
              "      <th>Item_Type_Hard Drinks</th>\n",
              "      <td>-0.038895</td>\n",
              "      <td>-0.000757</td>\n",
              "      <td>-0.009664</td>\n",
              "      <td>0.002364</td>\n",
              "      <td>0.002829</td>\n",
              "      <td>0.001198</td>\n",
              "      <td>-0.009703</td>\n",
              "      <td>0.119543</td>\n",
              "      <td>-0.119543</td>\n",
              "      <td>-0.046530</td>\n",
              "      <td>...</td>\n",
              "      <td>-0.065714</td>\n",
              "      <td>1.000000</td>\n",
              "      <td>-0.041004</td>\n",
              "      <td>-0.056558</td>\n",
              "      <td>-0.037804</td>\n",
              "      <td>-0.022933</td>\n",
              "      <td>-0.012841</td>\n",
              "      <td>-0.065257</td>\n",
              "      <td>-0.037533</td>\n",
              "      <td>-0.022469</td>\n",
              "    </tr>\n",
              "    <tr>\n",
              "      <th>Item_Type_Health and Hygiene</th>\n",
              "      <td>0.018775</td>\n",
              "      <td>-0.047416</td>\n",
              "      <td>-0.032251</td>\n",
              "      <td>-0.001367</td>\n",
              "      <td>-0.001393</td>\n",
              "      <td>0.000483</td>\n",
              "      <td>-0.018764</td>\n",
              "      <td>0.187429</td>\n",
              "      <td>-0.187429</td>\n",
              "      <td>-0.072954</td>\n",
              "      <td>...</td>\n",
              "      <td>-0.103032</td>\n",
              "      <td>-0.041004</td>\n",
              "      <td>1.000000</td>\n",
              "      <td>-0.088676</td>\n",
              "      <td>-0.059273</td>\n",
              "      <td>-0.035955</td>\n",
              "      <td>-0.020134</td>\n",
              "      <td>-0.102315</td>\n",
              "      <td>-0.058847</td>\n",
              "      <td>-0.035228</td>\n",
              "    </tr>\n",
              "    <tr>\n",
              "      <th>Item_Type_Household</th>\n",
              "      <td>0.037377</td>\n",
              "      <td>-0.042387</td>\n",
              "      <td>0.043553</td>\n",
              "      <td>0.001541</td>\n",
              "      <td>0.001473</td>\n",
              "      <td>-0.000166</td>\n",
              "      <td>0.018474</td>\n",
              "      <td>0.258527</td>\n",
              "      <td>-0.258527</td>\n",
              "      <td>-0.100628</td>\n",
              "      <td>...</td>\n",
              "      <td>-0.142115</td>\n",
              "      <td>-0.056558</td>\n",
              "      <td>-0.088676</td>\n",
              "      <td>1.000000</td>\n",
              "      <td>-0.081757</td>\n",
              "      <td>-0.049595</td>\n",
              "      <td>-0.027771</td>\n",
              "      <td>-0.141126</td>\n",
              "      <td>-0.081169</td>\n",
              "      <td>-0.048591</td>\n",
              "    </tr>\n",
              "    <tr>\n",
              "      <th>Item_Type_Meat</th>\n",
              "      <td>-0.001218</td>\n",
              "      <td>-0.029327</td>\n",
              "      <td>-0.002688</td>\n",
              "      <td>-0.002291</td>\n",
              "      <td>-0.000024</td>\n",
              "      <td>-0.004443</td>\n",
              "      <td>0.001423</td>\n",
              "      <td>-0.128862</td>\n",
              "      <td>0.128862</td>\n",
              "      <td>-0.067262</td>\n",
              "      <td>...</td>\n",
              "      <td>-0.094993</td>\n",
              "      <td>-0.037804</td>\n",
              "      <td>-0.059273</td>\n",
              "      <td>-0.081757</td>\n",
              "      <td>1.000000</td>\n",
              "      <td>-0.033150</td>\n",
              "      <td>-0.018563</td>\n",
              "      <td>-0.094332</td>\n",
              "      <td>-0.054255</td>\n",
              "      <td>-0.032480</td>\n",
              "    </tr>\n",
              "    <tr>\n",
              "      <th>Item_Type_Others</th>\n",
              "      <td>0.030623</td>\n",
              "      <td>-0.024617</td>\n",
              "      <td>-0.016582</td>\n",
              "      <td>-0.003545</td>\n",
              "      <td>-0.003489</td>\n",
              "      <td>-0.004043</td>\n",
              "      <td>-0.014852</td>\n",
              "      <td>0.104825</td>\n",
              "      <td>-0.104825</td>\n",
              "      <td>-0.040802</td>\n",
              "      <td>...</td>\n",
              "      <td>-0.057623</td>\n",
              "      <td>-0.022933</td>\n",
              "      <td>-0.035955</td>\n",
              "      <td>-0.049595</td>\n",
              "      <td>-0.033150</td>\n",
              "      <td>1.000000</td>\n",
              "      <td>-0.011260</td>\n",
              "      <td>-0.057223</td>\n",
              "      <td>-0.032912</td>\n",
              "      <td>-0.019702</td>\n",
              "    </tr>\n",
              "    <tr>\n",
              "      <th>Item_Type_Seafood</th>\n",
              "      <td>-0.000501</td>\n",
              "      <td>0.007884</td>\n",
              "      <td>0.000363</td>\n",
              "      <td>-0.001272</td>\n",
              "      <td>-0.002244</td>\n",
              "      <td>0.002337</td>\n",
              "      <td>0.012828</td>\n",
              "      <td>-0.008496</td>\n",
              "      <td>0.008496</td>\n",
              "      <td>-0.022847</td>\n",
              "      <td>...</td>\n",
              "      <td>-0.032267</td>\n",
              "      <td>-0.012841</td>\n",
              "      <td>-0.020134</td>\n",
              "      <td>-0.027771</td>\n",
              "      <td>-0.018563</td>\n",
              "      <td>-0.011260</td>\n",
              "      <td>1.000000</td>\n",
              "      <td>-0.032042</td>\n",
              "      <td>-0.018429</td>\n",
              "      <td>-0.011033</td>\n",
              "    </tr>\n",
              "    <tr>\n",
              "      <th>Item_Type_Snack Foods</th>\n",
              "      <td>0.005772</td>\n",
              "      <td>0.010374</td>\n",
              "      <td>0.035457</td>\n",
              "      <td>0.002854</td>\n",
              "      <td>0.001630</td>\n",
              "      <td>0.005005</td>\n",
              "      <td>0.022922</td>\n",
              "      <td>-0.061620</td>\n",
              "      <td>0.061620</td>\n",
              "      <td>-0.116105</td>\n",
              "      <td>...</td>\n",
              "      <td>-0.163973</td>\n",
              "      <td>-0.065257</td>\n",
              "      <td>-0.102315</td>\n",
              "      <td>-0.141126</td>\n",
              "      <td>-0.094332</td>\n",
              "      <td>-0.057223</td>\n",
              "      <td>-0.032042</td>\n",
              "      <td>1.000000</td>\n",
              "      <td>-0.093654</td>\n",
              "      <td>-0.056065</td>\n",
              "    </tr>\n",
              "    <tr>\n",
              "      <th>Item_Type_Soft Drinks</th>\n",
              "      <td>-0.045730</td>\n",
              "      <td>-0.003016</td>\n",
              "      <td>-0.020939</td>\n",
              "      <td>0.001334</td>\n",
              "      <td>0.000813</td>\n",
              "      <td>0.001954</td>\n",
              "      <td>-0.014586</td>\n",
              "      <td>0.098667</td>\n",
              "      <td>-0.098667</td>\n",
              "      <td>-0.066779</td>\n",
              "      <td>...</td>\n",
              "      <td>-0.094310</td>\n",
              "      <td>-0.037533</td>\n",
              "      <td>-0.058847</td>\n",
              "      <td>-0.081169</td>\n",
              "      <td>-0.054255</td>\n",
              "      <td>-0.032912</td>\n",
              "      <td>-0.018429</td>\n",
              "      <td>-0.093654</td>\n",
              "      <td>1.000000</td>\n",
              "      <td>-0.032246</td>\n",
              "    </tr>\n",
              "    <tr>\n",
              "      <th>Item_Type_Starchy Foods</th>\n",
              "      <td>0.024005</td>\n",
              "      <td>0.003616</td>\n",
              "      <td>0.019575</td>\n",
              "      <td>0.004291</td>\n",
              "      <td>0.002950</td>\n",
              "      <td>0.004445</td>\n",
              "      <td>0.015971</td>\n",
              "      <td>-0.018313</td>\n",
              "      <td>0.018313</td>\n",
              "      <td>-0.039976</td>\n",
              "      <td>...</td>\n",
              "      <td>-0.056458</td>\n",
              "      <td>-0.022469</td>\n",
              "      <td>-0.035228</td>\n",
              "      <td>-0.048591</td>\n",
              "      <td>-0.032480</td>\n",
              "      <td>-0.019702</td>\n",
              "      <td>-0.011033</td>\n",
              "      <td>-0.056065</td>\n",
              "      <td>-0.032246</td>\n",
              "      <td>1.000000</td>\n",
              "    </tr>\n",
              "  </tbody>\n",
              "</table>\n",
              "<p>25 rows × 25 columns</p>\n",
              "</div>\n",
              "      <button class=\"colab-df-convert\" onclick=\"convertToInteractive('df-e9187df3-39ac-472d-9e26-4336817d4833')\"\n",
              "              title=\"Convert this dataframe to an interactive table.\"\n",
              "              style=\"display:none;\">\n",
              "        \n",
              "  <svg xmlns=\"http://www.w3.org/2000/svg\" height=\"24px\"viewBox=\"0 0 24 24\"\n",
              "       width=\"24px\">\n",
              "    <path d=\"M0 0h24v24H0V0z\" fill=\"none\"/>\n",
              "    <path d=\"M18.56 5.44l.94 2.06.94-2.06 2.06-.94-2.06-.94-.94-2.06-.94 2.06-2.06.94zm-11 1L8.5 8.5l.94-2.06 2.06-.94-2.06-.94L8.5 2.5l-.94 2.06-2.06.94zm10 10l.94 2.06.94-2.06 2.06-.94-2.06-.94-.94-2.06-.94 2.06-2.06.94z\"/><path d=\"M17.41 7.96l-1.37-1.37c-.4-.4-.92-.59-1.43-.59-.52 0-1.04.2-1.43.59L10.3 9.45l-7.72 7.72c-.78.78-.78 2.05 0 2.83L4 21.41c.39.39.9.59 1.41.59.51 0 1.02-.2 1.41-.59l7.78-7.78 2.81-2.81c.8-.78.8-2.07 0-2.86zM5.41 20L4 18.59l7.72-7.72 1.47 1.35L5.41 20z\"/>\n",
              "  </svg>\n",
              "      </button>\n",
              "      \n",
              "  <style>\n",
              "    .colab-df-container {\n",
              "      display:flex;\n",
              "      flex-wrap:wrap;\n",
              "      gap: 12px;\n",
              "    }\n",
              "\n",
              "    .colab-df-convert {\n",
              "      background-color: #E8F0FE;\n",
              "      border: none;\n",
              "      border-radius: 50%;\n",
              "      cursor: pointer;\n",
              "      display: none;\n",
              "      fill: #1967D2;\n",
              "      height: 32px;\n",
              "      padding: 0 0 0 0;\n",
              "      width: 32px;\n",
              "    }\n",
              "\n",
              "    .colab-df-convert:hover {\n",
              "      background-color: #E2EBFA;\n",
              "      box-shadow: 0px 1px 2px rgba(60, 64, 67, 0.3), 0px 1px 3px 1px rgba(60, 64, 67, 0.15);\n",
              "      fill: #174EA6;\n",
              "    }\n",
              "\n",
              "    [theme=dark] .colab-df-convert {\n",
              "      background-color: #3B4455;\n",
              "      fill: #D2E3FC;\n",
              "    }\n",
              "\n",
              "    [theme=dark] .colab-df-convert:hover {\n",
              "      background-color: #434B5C;\n",
              "      box-shadow: 0px 1px 3px 1px rgba(0, 0, 0, 0.15);\n",
              "      filter: drop-shadow(0px 1px 2px rgba(0, 0, 0, 0.3));\n",
              "      fill: #FFFFFF;\n",
              "    }\n",
              "  </style>\n",
              "\n",
              "      <script>\n",
              "        const buttonEl =\n",
              "          document.querySelector('#df-e9187df3-39ac-472d-9e26-4336817d4833 button.colab-df-convert');\n",
              "        buttonEl.style.display =\n",
              "          google.colab.kernel.accessAllowed ? 'block' : 'none';\n",
              "\n",
              "        async function convertToInteractive(key) {\n",
              "          const element = document.querySelector('#df-e9187df3-39ac-472d-9e26-4336817d4833');\n",
              "          const dataTable =\n",
              "            await google.colab.kernel.invokeFunction('convertToInteractive',\n",
              "                                                     [key], {});\n",
              "          if (!dataTable) return;\n",
              "\n",
              "          const docLinkHtml = 'Like what you see? Visit the ' +\n",
              "            '<a target=\"_blank\" href=https://colab.research.google.com/notebooks/data_table.ipynb>data table notebook</a>'\n",
              "            + ' to learn more about interactive tables.';\n",
              "          element.innerHTML = '';\n",
              "          dataTable['output_type'] = 'display_data';\n",
              "          await google.colab.output.renderOutput(dataTable, element);\n",
              "          const docLink = document.createElement('div');\n",
              "          docLink.innerHTML = docLinkHtml;\n",
              "          element.appendChild(docLink);\n",
              "        }\n",
              "      </script>\n",
              "    </div>\n",
              "  </div>\n",
              "  "
            ]
          },
          "metadata": {},
          "execution_count": 71
        }
      ]
    },
    {
      "cell_type": "code",
      "source": [
        "data4.corr()[['Item_Outlet_Sales']].sort_values(by='Item_Outlet_Sales', ascending=False)"
      ],
      "metadata": {
        "id": "1616XAUun77Y",
        "colab": {
          "base_uri": "https://localhost:8080/",
          "height": 833
        },
        "outputId": "a84b8e2a-15dc-49fb-e49b-a1f350800e41"
      },
      "execution_count": 151,
      "outputs": [
        {
          "output_type": "execute_result",
          "data": {
            "text/plain": [
              "                                 Item_Outlet_Sales\n",
              "Item_Outlet_Sales                         1.000000\n",
              "Item_MRP                                  0.602297\n",
              "Outlet_Type                               0.435849\n",
              "Outlet_Location_Type                      0.100386\n",
              "Item_Type_Snack Foods                     0.022922\n",
              "Item_Weight                               0.021600\n",
              "Item_Type_Fruits and Vegetables           0.021320\n",
              "Item_Type_Household                       0.018474\n",
              "Item_Type_Starchy Foods                   0.015971\n",
              "Item_Type_Seafood                         0.012828\n",
              "Item_Fat_Content_Regular                  0.011056\n",
              "Item_Type_Dairy                           0.009006\n",
              "Item_Type_Canned                          0.003014\n",
              "Item_Type_Breads                          0.002283\n",
              "Item_Type_Meat                            0.001423\n",
              "Item_Type_Breakfast                      -0.005058\n",
              "Item_Type_Hard Drinks                    -0.009703\n",
              "Item_Fat_Content_Low Fat                 -0.011056\n",
              "Item_Type_Soft Drinks                    -0.014586\n",
              "Item_Type_Others                         -0.014852\n",
              "Item_Type_Health and Hygiene             -0.018764\n",
              "Item_Type_Frozen Foods                   -0.021253\n",
              "Item_Type_Baking Goods                   -0.037788\n",
              "Outlet_Establishment_Year                -0.054176\n",
              "Item_Visibility                          -0.134118"
            ],
            "text/html": [
              "\n",
              "  <div id=\"df-ad090cc6-567c-4c9b-b2b3-72b5d8727a0b\">\n",
              "    <div class=\"colab-df-container\">\n",
              "      <div>\n",
              "<style scoped>\n",
              "    .dataframe tbody tr th:only-of-type {\n",
              "        vertical-align: middle;\n",
              "    }\n",
              "\n",
              "    .dataframe tbody tr th {\n",
              "        vertical-align: top;\n",
              "    }\n",
              "\n",
              "    .dataframe thead th {\n",
              "        text-align: right;\n",
              "    }\n",
              "</style>\n",
              "<table border=\"1\" class=\"dataframe\">\n",
              "  <thead>\n",
              "    <tr style=\"text-align: right;\">\n",
              "      <th></th>\n",
              "      <th>Item_Outlet_Sales</th>\n",
              "    </tr>\n",
              "  </thead>\n",
              "  <tbody>\n",
              "    <tr>\n",
              "      <th>Item_Outlet_Sales</th>\n",
              "      <td>1.000000</td>\n",
              "    </tr>\n",
              "    <tr>\n",
              "      <th>Item_MRP</th>\n",
              "      <td>0.602297</td>\n",
              "    </tr>\n",
              "    <tr>\n",
              "      <th>Outlet_Type</th>\n",
              "      <td>0.435849</td>\n",
              "    </tr>\n",
              "    <tr>\n",
              "      <th>Outlet_Location_Type</th>\n",
              "      <td>0.100386</td>\n",
              "    </tr>\n",
              "    <tr>\n",
              "      <th>Item_Type_Snack Foods</th>\n",
              "      <td>0.022922</td>\n",
              "    </tr>\n",
              "    <tr>\n",
              "      <th>Item_Weight</th>\n",
              "      <td>0.021600</td>\n",
              "    </tr>\n",
              "    <tr>\n",
              "      <th>Item_Type_Fruits and Vegetables</th>\n",
              "      <td>0.021320</td>\n",
              "    </tr>\n",
              "    <tr>\n",
              "      <th>Item_Type_Household</th>\n",
              "      <td>0.018474</td>\n",
              "    </tr>\n",
              "    <tr>\n",
              "      <th>Item_Type_Starchy Foods</th>\n",
              "      <td>0.015971</td>\n",
              "    </tr>\n",
              "    <tr>\n",
              "      <th>Item_Type_Seafood</th>\n",
              "      <td>0.012828</td>\n",
              "    </tr>\n",
              "    <tr>\n",
              "      <th>Item_Fat_Content_Regular</th>\n",
              "      <td>0.011056</td>\n",
              "    </tr>\n",
              "    <tr>\n",
              "      <th>Item_Type_Dairy</th>\n",
              "      <td>0.009006</td>\n",
              "    </tr>\n",
              "    <tr>\n",
              "      <th>Item_Type_Canned</th>\n",
              "      <td>0.003014</td>\n",
              "    </tr>\n",
              "    <tr>\n",
              "      <th>Item_Type_Breads</th>\n",
              "      <td>0.002283</td>\n",
              "    </tr>\n",
              "    <tr>\n",
              "      <th>Item_Type_Meat</th>\n",
              "      <td>0.001423</td>\n",
              "    </tr>\n",
              "    <tr>\n",
              "      <th>Item_Type_Breakfast</th>\n",
              "      <td>-0.005058</td>\n",
              "    </tr>\n",
              "    <tr>\n",
              "      <th>Item_Type_Hard Drinks</th>\n",
              "      <td>-0.009703</td>\n",
              "    </tr>\n",
              "    <tr>\n",
              "      <th>Item_Fat_Content_Low Fat</th>\n",
              "      <td>-0.011056</td>\n",
              "    </tr>\n",
              "    <tr>\n",
              "      <th>Item_Type_Soft Drinks</th>\n",
              "      <td>-0.014586</td>\n",
              "    </tr>\n",
              "    <tr>\n",
              "      <th>Item_Type_Others</th>\n",
              "      <td>-0.014852</td>\n",
              "    </tr>\n",
              "    <tr>\n",
              "      <th>Item_Type_Health and Hygiene</th>\n",
              "      <td>-0.018764</td>\n",
              "    </tr>\n",
              "    <tr>\n",
              "      <th>Item_Type_Frozen Foods</th>\n",
              "      <td>-0.021253</td>\n",
              "    </tr>\n",
              "    <tr>\n",
              "      <th>Item_Type_Baking Goods</th>\n",
              "      <td>-0.037788</td>\n",
              "    </tr>\n",
              "    <tr>\n",
              "      <th>Outlet_Establishment_Year</th>\n",
              "      <td>-0.054176</td>\n",
              "    </tr>\n",
              "    <tr>\n",
              "      <th>Item_Visibility</th>\n",
              "      <td>-0.134118</td>\n",
              "    </tr>\n",
              "  </tbody>\n",
              "</table>\n",
              "</div>\n",
              "      <button class=\"colab-df-convert\" onclick=\"convertToInteractive('df-ad090cc6-567c-4c9b-b2b3-72b5d8727a0b')\"\n",
              "              title=\"Convert this dataframe to an interactive table.\"\n",
              "              style=\"display:none;\">\n",
              "        \n",
              "  <svg xmlns=\"http://www.w3.org/2000/svg\" height=\"24px\"viewBox=\"0 0 24 24\"\n",
              "       width=\"24px\">\n",
              "    <path d=\"M0 0h24v24H0V0z\" fill=\"none\"/>\n",
              "    <path d=\"M18.56 5.44l.94 2.06.94-2.06 2.06-.94-2.06-.94-.94-2.06-.94 2.06-2.06.94zm-11 1L8.5 8.5l.94-2.06 2.06-.94-2.06-.94L8.5 2.5l-.94 2.06-2.06.94zm10 10l.94 2.06.94-2.06 2.06-.94-2.06-.94-.94-2.06-.94 2.06-2.06.94z\"/><path d=\"M17.41 7.96l-1.37-1.37c-.4-.4-.92-.59-1.43-.59-.52 0-1.04.2-1.43.59L10.3 9.45l-7.72 7.72c-.78.78-.78 2.05 0 2.83L4 21.41c.39.39.9.59 1.41.59.51 0 1.02-.2 1.41-.59l7.78-7.78 2.81-2.81c.8-.78.8-2.07 0-2.86zM5.41 20L4 18.59l7.72-7.72 1.47 1.35L5.41 20z\"/>\n",
              "  </svg>\n",
              "      </button>\n",
              "      \n",
              "  <style>\n",
              "    .colab-df-container {\n",
              "      display:flex;\n",
              "      flex-wrap:wrap;\n",
              "      gap: 12px;\n",
              "    }\n",
              "\n",
              "    .colab-df-convert {\n",
              "      background-color: #E8F0FE;\n",
              "      border: none;\n",
              "      border-radius: 50%;\n",
              "      cursor: pointer;\n",
              "      display: none;\n",
              "      fill: #1967D2;\n",
              "      height: 32px;\n",
              "      padding: 0 0 0 0;\n",
              "      width: 32px;\n",
              "    }\n",
              "\n",
              "    .colab-df-convert:hover {\n",
              "      background-color: #E2EBFA;\n",
              "      box-shadow: 0px 1px 2px rgba(60, 64, 67, 0.3), 0px 1px 3px 1px rgba(60, 64, 67, 0.15);\n",
              "      fill: #174EA6;\n",
              "    }\n",
              "\n",
              "    [theme=dark] .colab-df-convert {\n",
              "      background-color: #3B4455;\n",
              "      fill: #D2E3FC;\n",
              "    }\n",
              "\n",
              "    [theme=dark] .colab-df-convert:hover {\n",
              "      background-color: #434B5C;\n",
              "      box-shadow: 0px 1px 3px 1px rgba(0, 0, 0, 0.15);\n",
              "      filter: drop-shadow(0px 1px 2px rgba(0, 0, 0, 0.3));\n",
              "      fill: #FFFFFF;\n",
              "    }\n",
              "  </style>\n",
              "\n",
              "      <script>\n",
              "        const buttonEl =\n",
              "          document.querySelector('#df-ad090cc6-567c-4c9b-b2b3-72b5d8727a0b button.colab-df-convert');\n",
              "        buttonEl.style.display =\n",
              "          google.colab.kernel.accessAllowed ? 'block' : 'none';\n",
              "\n",
              "        async function convertToInteractive(key) {\n",
              "          const element = document.querySelector('#df-ad090cc6-567c-4c9b-b2b3-72b5d8727a0b');\n",
              "          const dataTable =\n",
              "            await google.colab.kernel.invokeFunction('convertToInteractive',\n",
              "                                                     [key], {});\n",
              "          if (!dataTable) return;\n",
              "\n",
              "          const docLinkHtml = 'Like what you see? Visit the ' +\n",
              "            '<a target=\"_blank\" href=https://colab.research.google.com/notebooks/data_table.ipynb>data table notebook</a>'\n",
              "            + ' to learn more about interactive tables.';\n",
              "          element.innerHTML = '';\n",
              "          dataTable['output_type'] = 'display_data';\n",
              "          await google.colab.output.renderOutput(dataTable, element);\n",
              "          const docLink = document.createElement('div');\n",
              "          docLink.innerHTML = docLinkHtml;\n",
              "          element.appendChild(docLink);\n",
              "        }\n",
              "      </script>\n",
              "    </div>\n",
              "  </div>\n",
              "  "
            ]
          },
          "metadata": {},
          "execution_count": 151
        }
      ]
    },
    {
      "cell_type": "code",
      "source": [
        "mapa_calor = sns.heatmap(data4.corr()[['Item_Outlet_Sales']].sort_values(by='Item_Outlet_Sales', ascending=False),vmin=-1, vmax=1, annot=True, cmap='BrBG')\n",
        "mapa_calor.set_title('Features Correlating with Item_Outlet_Sales', fontdict={'fontsize':18}, pad=16)"
      ],
      "metadata": {
        "id": "F8wypJ3HmRjJ",
        "colab": {
          "base_uri": "https://localhost:8080/",
          "height": 313
        },
        "outputId": "7b9eaecc-77f3-4515-b4cc-30bd02e41fec"
      },
      "execution_count": 73,
      "outputs": [
        {
          "output_type": "execute_result",
          "data": {
            "text/plain": [
              "Text(0.5, 1.0, 'Features Correlating with Item_Outlet_Sales')"
            ]
          },
          "metadata": {},
          "execution_count": 73
        },
        {
          "output_type": "display_data",
          "data": {
            "text/plain": [
              "<Figure size 432x288 with 2 Axes>"
            ],
            "image/png": "[encoded data removed]"
          },
          "metadata": {
            "needs_background": "light"
          }
        }
      ]
    },
    {
      "cell_type": "markdown",
      "source": [
        "Variables with a certain correlation with Outlet Sales:\n",
        "- Item MRP\n",
        "- Outlet type\n"
      ],
      "metadata": {
        "id": "3KKTh06jnqNp"
      }
    },
    {
      "cell_type": "code",
      "source": [
        "data5.plot.scatter(x='Item_MRP', y='Item_Outlet_Sales', c='DarkBlue', title =\"Scatterplot Item Outlet Sales - Item MRP\")"
      ],
      "metadata": {
        "id": "E-jSiqvNoH2T",
        "colab": {
          "base_uri": "https://localhost:8080/",
          "height": 313
        },
        "outputId": "436dfa69-65b1-4d12-8225-4ed1fd53e29d"
      },
      "execution_count": 153,
      "outputs": [
        {
          "output_type": "execute_result",
          "data": {
            "text/plain": [
              "<AxesSubplot:title={'center':'Scatterplot Item Outlet Sales - Item MRP'}, xlabel='Item_MRP', ylabel='Item_Outlet_Sales'>"
            ]
          },
          "metadata": {},
          "execution_count": 153
        },
        {
          "output_type": "display_data",
          "data": {
            "text/plain": [
              "<Figure size 432x288 with 1 Axes>"
            ],
            "image/png": "[encoded data removed]"
          },
          "metadata": {
            "needs_background": "light"
          }
        }
      ]
    },
    {
      "cell_type": "code",
      "source": [
        "data.boxplot(column=['Item_Outlet_Sales'], by='Outlet_Type')"
      ],
      "metadata": {
        "id": "eGj0nwTIo8W7",
        "colab": {
          "base_uri": "https://localhost:8080/",
          "height": 319
        },
        "outputId": "8e3bf22f-480e-423c-dd3c-5c85252bf125"
      },
      "execution_count": 75,
      "outputs": [
        {
          "output_type": "execute_result",
          "data": {
            "text/plain": [
              "<AxesSubplot:title={'center':'Item_Outlet_Sales'}, xlabel='Outlet_Type'>"
            ]
          },
          "metadata": {},
          "execution_count": 75
        },
        {
          "output_type": "display_data",
          "data": {
            "text/plain": [
              "<Figure size 432x288 with 1 Axes>"
            ],
            "image/png": "[encoded data removed]"
          },
          "metadata": {
            "needs_background": "light"
          }
        }
      ]
    },
    {
      "cell_type": "code",
      "source": [
        "data.groupby('Outlet_Type')['Item_Outlet_Sales'].sum()"
      ],
      "metadata": {
        "id": "qdxeomT5r4eG",
        "colab": {
          "base_uri": "https://localhost:8080/"
        },
        "outputId": "374b5595-9bca-4ebd-d361-0b5123cbe22c"
      },
      "execution_count": 76,
      "outputs": [
        {
          "output_type": "execute_result",
          "data": {
            "text/plain": [
              "Outlet_Type\n",
              "Grocery Store        5.823266e+05\n",
              "Supermarket Type1    2.065187e+07\n",
              "Supermarket Type2    2.979587e+06\n",
              "Supermarket Type3    5.605150e+06\n",
              "Name: Item_Outlet_Sales, dtype: float64"
            ]
          },
          "metadata": {},
          "execution_count": 76
        }
      ]
    },
    {
      "cell_type": "code",
      "source": [
        "data.groupby('Outlet_Type')['Item_Outlet_Sales'].sum().plot(kind='bar', title = \"Sales by Outlet Type\")"
      ],
      "metadata": {
        "id": "seAAU4AYsdWS",
        "colab": {
          "base_uri": "https://localhost:8080/",
          "height": 400
        },
        "outputId": "d59098f1-570f-432e-d801-0033e476faf9"
      },
      "execution_count": 156,
      "outputs": [
        {
          "output_type": "execute_result",
          "data": {
            "text/plain": [
              "<AxesSubplot:title={'center':'Sales by Outlet Type'}, xlabel='Outlet_Type'>"
            ]
          },
          "metadata": {},
          "execution_count": 156
        },
        {
          "output_type": "display_data",
          "data": {
            "text/plain": [
              "<Figure size 432x288 with 1 Axes>"
            ],
            "image/png": "[encoded data removed]"
          },
          "metadata": {
            "needs_background": "light"
          }
        }
      ]
    },
    {
      "cell_type": "code",
      "source": [
        "data5.plot.scatter(x='Outlet_Type', y='Item_Outlet_Sales', c='DarkBlue')"
      ],
      "metadata": {
        "id": "X4k1smpyotC8",
        "colab": {
          "base_uri": "https://localhost:8080/",
          "height": 297
        },
        "outputId": "3c01ed64-b12a-4f29-d956-26c84298fbc4"
      },
      "execution_count": 78,
      "outputs": [
        {
          "output_type": "execute_result",
          "data": {
            "text/plain": [
              "<AxesSubplot:xlabel='Outlet_Type', ylabel='Item_Outlet_Sales'>"
            ]
          },
          "metadata": {},
          "execution_count": 78
        },
        {
          "output_type": "display_data",
          "data": {
            "text/plain": [
              "<Figure size 432x288 with 1 Axes>"
            ],
            "image/png": "[encoded data removed]"
          },
          "metadata": {
            "needs_background": "light"
          }
        }
      ]
    },
    {
      "cell_type": "code",
      "source": [
        "# Items type most selled in Supermarket Type 1\n",
        "\n",
        "tipo1 = data[data[\"Outlet_Type\"] == \"Supermarket Type1\"]\n",
        "tipo1.groupby('Item_Type')['Item_Outlet_Sales'].sum().sort_values(ascending=False)\n"
      ],
      "metadata": {
        "id": "wzUTS8ebo4p9",
        "colab": {
          "base_uri": "https://localhost:8080/"
        },
        "outputId": "1459a1e0-6ca5-4867-b81c-35528b0b99d7"
      },
      "execution_count": 79,
      "outputs": [
        {
          "output_type": "execute_result",
          "data": {
            "text/plain": [
              "Item_Type\n",
              "Snack Foods              3.020906e+06\n",
              "Fruits and Vegetables    3.003983e+06\n",
              "Household                2.332425e+06\n",
              "Frozen Foods             1.983297e+06\n",
              "Dairy                    1.683132e+06\n",
              "Canned                   1.598219e+06\n",
              "Baking Goods             1.439524e+06\n",
              "Health and Hygiene       1.176848e+06\n",
              "Meat                     1.062367e+06\n",
              "Soft Drinks              1.009075e+06\n",
              "Breads                   6.108937e+05\n",
              "Hard Drinks              5.151442e+05\n",
              "Starchy Foods            4.373593e+05\n",
              "Others                   3.792442e+05\n",
              "Breakfast                2.501660e+05\n",
              "Seafood                  1.492885e+05\n",
              "Name: Item_Outlet_Sales, dtype: float64"
            ]
          },
          "metadata": {},
          "execution_count": 79
        }
      ]
    },
    {
      "cell_type": "code",
      "source": [
        "tipo1.groupby('Item_Type')['Item_Outlet_Sales'].sum().sort_values(ascending=False).plot(kind='bar', title = \"Sales by Item Type in Supermarket Type 1\")"
      ],
      "metadata": {
        "id": "SXj_lKpCuEOc",
        "colab": {
          "base_uri": "https://localhost:8080/",
          "height": 411
        },
        "outputId": "d8b0fe93-e81d-43ad-c534-d925baefb481"
      },
      "execution_count": 161,
      "outputs": [
        {
          "output_type": "execute_result",
          "data": {
            "text/plain": [
              "<AxesSubplot:title={'center':'Sales by Item Type in Supermarket Type 1'}, xlabel='Item_Type'>"
            ]
          },
          "metadata": {},
          "execution_count": 161
        },
        {
          "output_type": "display_data",
          "data": {
            "text/plain": [
              "<Figure size 432x288 with 1 Axes>"
            ],
            "image/png": "[encoded data removed]"
          },
          "metadata": {
            "needs_background": "light"
          }
        }
      ]
    },
    {
      "cell_type": "code",
      "source": [
        "mrp = data[data[\"Item_MRP\"] > 150]\n",
        "mrp.groupby('Item_Type')['Item_Outlet_Sales'].sum().sort_values(ascending=False)\n"
      ],
      "metadata": {
        "id": "CD2EwzuPwgm3",
        "colab": {
          "base_uri": "https://localhost:8080/"
        },
        "outputId": "4993c3d9-f0b4-4621-d110-af3c3dcd3b4e"
      },
      "execution_count": 81,
      "outputs": [
        {
          "output_type": "execute_result",
          "data": {
            "text/plain": [
              "Item_Type\n",
              "Fruits and Vegetables    2.839887e+06\n",
              "Snack Foods              2.796349e+06\n",
              "Household                2.311128e+06\n",
              "Frozen Foods             1.744945e+06\n",
              "Dairy                    1.711249e+06\n",
              "Canned                   1.404195e+06\n",
              "Baking Goods             1.138649e+06\n",
              "Meat                     1.023527e+06\n",
              "Soft Drinks              9.801671e+05\n",
              "Health and Hygiene       9.363553e+05\n",
              "Breads                   5.590564e+05\n",
              "Hard Drinks              4.752281e+05\n",
              "Starchy Foods            4.694939e+05\n",
              "Others                   3.111547e+05\n",
              "Breakfast                2.725904e+05\n",
              "Seafood                  1.566545e+05\n",
              "Name: Item_Outlet_Sales, dtype: float64"
            ]
          },
          "metadata": {},
          "execution_count": 81
        }
      ]
    },
    {
      "cell_type": "code",
      "source": [
        "data.groupby('Outlet_Type')['Outlet_Type'].count()"
      ],
      "metadata": {
        "id": "rVvDKbzZx7aG",
        "colab": {
          "base_uri": "https://localhost:8080/"
        },
        "outputId": "aba044d5-6e29-4651-8bd5-4d867119f572"
      },
      "execution_count": 82,
      "outputs": [
        {
          "output_type": "execute_result",
          "data": {
            "text/plain": [
              "Outlet_Type\n",
              "Grocery Store        1805\n",
              "Supermarket Type1    9294\n",
              "Supermarket Type2    1546\n",
              "Supermarket Type3    1559\n",
              "Name: Outlet_Type, dtype: int64"
            ]
          },
          "metadata": {},
          "execution_count": 82
        }
      ]
    },
    {
      "cell_type": "markdown",
      "source": [
        "- While higher MRP more sales\n",
        "- Supermarket type 1 generates the most sales\n",
        "- Supermarket type 1 is the biggest with 9294 transactions\n",
        "- Items types most selled in supermarket type 1: snacks, F&V, Household"
      ],
      "metadata": {
        "id": "wVTbDTJqv76F"
      }
    },
    {
      "cell_type": "markdown",
      "source": [
        "### Outlet to be closed"
      ],
      "metadata": {
        "id": "XsW566ODy2fw"
      }
    },
    {
      "cell_type": "code",
      "source": [
        "data4['Item_Outlet_Sales'].sum()"
      ],
      "metadata": {
        "id": "DHGR5LvDz-BH",
        "colab": {
          "base_uri": "https://localhost:8080/"
        },
        "outputId": "490bd886-7264-4b60-871d-21a4f8ea4329"
      },
      "execution_count": 83,
      "outputs": [
        {
          "output_type": "execute_result",
          "data": {
            "text/plain": [
              "29818933.45222725"
            ]
          },
          "metadata": {},
          "execution_count": 83
        }
      ]
    },
    {
      "cell_type": "code",
      "source": [
        "data4.groupby('Outlet_Identifier')['Item_Outlet_Sales'].sum().sort_values(ascending=False).plot(kind='bar', title = \"Sales by Outlet\")\n"
      ],
      "metadata": {
        "id": "gMpGC1Lby14A",
        "colab": {
          "base_uri": "https://localhost:8080/",
          "height": 343
        },
        "outputId": "333d245d-af94-449b-8d87-ae4de8e7d6a9"
      },
      "execution_count": 160,
      "outputs": [
        {
          "output_type": "execute_result",
          "data": {
            "text/plain": [
              "<AxesSubplot:title={'center':'Sales by Outlet'}, xlabel='Outlet_Identifier'>"
            ]
          },
          "metadata": {},
          "execution_count": 160
        },
        {
          "output_type": "display_data",
          "data": {
            "text/plain": [
              "<Figure size 432x288 with 1 Axes>"
            ],
            "image/png": "[encoded data removed]"
          },
          "metadata": {
            "needs_background": "light"
          }
        }
      ]
    },
    {
      "cell_type": "code",
      "source": [
        "data4.groupby('Outlet_Identifier')['Item_Outlet_Sales'].sum().sort_values(ascending=True) / data4['Item_Outlet_Sales'].sum() * 100"
      ],
      "metadata": {
        "id": "0D7_2fho0FyO",
        "colab": {
          "base_uri": "https://localhost:8080/"
        },
        "outputId": "c52c7430-93a9-4cea-90e0-7ca9f3b36990"
      },
      "execution_count": 85,
      "outputs": [
        {
          "output_type": "execute_result",
          "data": {
            "text/plain": [
              "Outlet_Identifier\n",
              "OUT019     0.950077\n",
              "OUT010     1.002799\n",
              "OUT018     9.992267\n",
              "OUT045    10.872423\n",
              "OUT046    11.304258\n",
              "OUT013    11.464548\n",
              "OUT049    11.722847\n",
              "OUT017    11.796335\n",
              "OUT035    12.097162\n",
              "OUT027    18.797285\n",
              "Name: Item_Outlet_Sales, dtype: float64"
            ]
          },
          "metadata": {},
          "execution_count": 85
        }
      ]
    },
    {
      "cell_type": "markdown",
      "source": [
        "I will recommend outlet OUT019 and OUT010 because the sales of each one  represents only 1% of total sales"
      ],
      "metadata": {
        "id": "FwZEe7Qb01iw"
      }
    },
    {
      "cell_type": "markdown",
      "source": [
        "### Products Recommendations"
      ],
      "metadata": {
        "id": "09Vo35B52OO9"
      }
    },
    {
      "cell_type": "code",
      "source": [
        "data.groupby('Item_Type')['Item_Outlet_Sales'].sum().sort_values(ascending=False).plot(kind='bar', title = \"Sales by Item Type\")"
      ],
      "metadata": {
        "id": "cUiwTSX80041",
        "colab": {
          "base_uri": "https://localhost:8080/",
          "height": 411
        },
        "outputId": "d5651366-0195-4670-d636-73acc24cbbd1"
      },
      "execution_count": 163,
      "outputs": [
        {
          "output_type": "execute_result",
          "data": {
            "text/plain": [
              "<AxesSubplot:title={'center':'Sales by Item Type'}, xlabel='Item_Type'>"
            ]
          },
          "metadata": {},
          "execution_count": 163
        },
        {
          "output_type": "display_data",
          "data": {
            "text/plain": [
              "<Figure size 432x288 with 1 Axes>"
            ],
            "image/png": "[encoded data removed]"
          },
          "metadata": {
            "needs_background": "light"
          }
        }
      ]
    },
    {
      "cell_type": "code",
      "source": [
        "data6 = data.assign(Quantity=data[\"Item_Outlet_Sales\"] / data[\"Item_MRP\"])"
      ],
      "metadata": {
        "id": "nzIJ0L8R9O4d"
      },
      "execution_count": 87,
      "outputs": []
    },
    {
      "cell_type": "code",
      "source": [
        "fv = data6[data6['Item_Type'] == \"Fruits and Vegetables\"]"
      ],
      "metadata": {
        "id": "eePOrdJH2hLp"
      },
      "execution_count": 88,
      "outputs": []
    },
    {
      "cell_type": "code",
      "source": [
        "fv.groupby('Item_Identifier')['Item_Outlet_Sales'].sum().sort_values(ascending=False)"
      ],
      "metadata": {
        "id": "gFrNEeKW4Y7M",
        "colab": {
          "base_uri": "https://localhost:8080/"
        },
        "outputId": "77b60316-6961-4176-b244-050726f04bf0"
      },
      "execution_count": 89,
      "outputs": [
        {
          "output_type": "execute_result",
          "data": {
            "text/plain": [
              "Item_Identifier\n",
              "FDY55    46933.227805\n",
              "FDZ20    42978.848434\n",
              "FDU55    42937.813612\n",
              "FDD44    42339.080157\n",
              "FDS44    38237.297131\n",
              "             ...     \n",
              "FDD08     4831.067567\n",
              "FDV43     4767.246534\n",
              "FDR43     4747.304026\n",
              "FDE32     4104.479252\n",
              "FDF09     3834.628701\n",
              "Name: Item_Outlet_Sales, Length: 220, dtype: float64"
            ]
          },
          "metadata": {},
          "execution_count": 89
        }
      ]
    },
    {
      "cell_type": "code",
      "source": [
        "fv[fv[\"Item_Identifier\"] == \"FDU55\"]"
      ],
      "metadata": {
        "id": "g8i-pKfS5236",
        "colab": {
          "base_uri": "https://localhost:8080/",
          "height": 503
        },
        "outputId": "e43d2f34-5963-4307-8778-016157e32a08"
      },
      "execution_count": 165,
      "outputs": [
        {
          "output_type": "execute_result",
          "data": {
            "text/plain": [
              "      Item_Identifier  Item_Weight Item_Fat_Content  Item_Visibility  \\\n",
              "332             FDU55    16.200000          Low Fat         0.035984   \n",
              "1755            FDU55    16.200000          Low Fat         0.036058   \n",
              "2109            FDU55    12.792854          Low Fat         0.035737   \n",
              "8245            FDU55    16.200000          Low Fat         0.035967   \n",
              "10848           FDU55    16.200000          Low Fat         0.035881   \n",
              "11876           FDU55    16.200000          Low Fat         0.035904   \n",
              "13537           FDU55    16.200000          Low Fat         0.036114   \n",
              "14180           FDU55    16.200000          Low Fat         0.035911   \n",
              "\n",
              "                   Item_Type  Item_MRP Outlet_Identifier  \\\n",
              "332    Fruits and Vegetables  260.6278            OUT045   \n",
              "1755   Fruits and Vegetables  260.3278            OUT018   \n",
              "2109   Fruits and Vegetables  260.6278            OUT027   \n",
              "8245   Fruits and Vegetables  260.3278            OUT049   \n",
              "10848  Fruits and Vegetables  260.4278            OUT013   \n",
              "11876  Fruits and Vegetables  258.6278            OUT035   \n",
              "13537  Fruits and Vegetables  258.8278            OUT017   \n",
              "14180  Fruits and Vegetables  261.3278            OUT046   \n",
              "\n",
              "       Outlet_Establishment_Year Outlet_Size Outlet_Location_Type  \\\n",
              "332                         2002         NaN               Tier 2   \n",
              "1755                        2009      Medium               Tier 3   \n",
              "2109                        1985      Medium               Tier 3   \n",
              "8245                        1999      Medium               Tier 1   \n",
              "10848                       1987        High               Tier 3   \n",
              "11876                       2004       Small               Tier 2   \n",
              "13537                       2007         NaN               Tier 2   \n",
              "14180                       1997       Small               Tier 1   \n",
              "\n",
              "             Outlet_Type  Item_Outlet_Sales   Quantity  \n",
              "332    Supermarket Type1        4425.572600  16.980432  \n",
              "1755   Supermarket Type2        2342.950200   9.000000  \n",
              "2109   Supermarket Type3        9371.800800  35.958562  \n",
              "8245   Supermarket Type1        7549.506200  29.000000  \n",
              "10848  Supermarket Type1        5909.466515  22.691381  \n",
              "11876  Supermarket Type1        4829.605804  18.673962  \n",
              "13537  Supermarket Type1        4128.186407  15.949548  \n",
              "14180  Supermarket Type1        4380.725086  16.763334  "
            ],
            "text/html": [
              "\n",
              "  <div id=\"df-78566864-e736-4581-9276-795c26bcf944\">\n",
              "    <div class=\"colab-df-container\">\n",
              "      <div>\n",
              "<style scoped>\n",
              "    .dataframe tbody tr th:only-of-type {\n",
              "        vertical-align: middle;\n",
              "    }\n",
              "\n",
              "    .dataframe tbody tr th {\n",
              "        vertical-align: top;\n",
              "    }\n",
              "\n",
              "    .dataframe thead th {\n",
              "        text-align: right;\n",
              "    }\n",
              "</style>\n",
              "<table border=\"1\" class=\"dataframe\">\n",
              "  <thead>\n",
              "    <tr style=\"text-align: right;\">\n",
              "      <th></th>\n",
              "      <th>Item_Identifier</th>\n",
              "      <th>Item_Weight</th>\n",
              "      <th>Item_Fat_Content</th>\n",
              "      <th>Item_Visibility</th>\n",
              "      <th>Item_Type</th>\n",
              "      <th>Item_MRP</th>\n",
              "      <th>Outlet_Identifier</th>\n",
              "      <th>Outlet_Establishment_Year</th>\n",
              "      <th>Outlet_Size</th>\n",
              "      <th>Outlet_Location_Type</th>\n",
              "      <th>Outlet_Type</th>\n",
              "      <th>Item_Outlet_Sales</th>\n",
              "      <th>Quantity</th>\n",
              "    </tr>\n",
              "  </thead>\n",
              "  <tbody>\n",
              "    <tr>\n",
              "      <th>332</th>\n",
              "      <td>FDU55</td>\n",
              "      <td>16.200000</td>\n",
              "      <td>Low Fat</td>\n",
              "      <td>0.035984</td>\n",
              "      <td>Fruits and Vegetables</td>\n",
              "      <td>260.6278</td>\n",
              "      <td>OUT045</td>\n",
              "      <td>2002</td>\n",
              "      <td>NaN</td>\n",
              "      <td>Tier 2</td>\n",
              "      <td>Supermarket Type1</td>\n",
              "      <td>4425.572600</td>\n",
              "      <td>16.980432</td>\n",
              "    </tr>\n",
              "    <tr>\n",
              "      <th>1755</th>\n",
              "      <td>FDU55</td>\n",
              "      <td>16.200000</td>\n",
              "      <td>Low Fat</td>\n",
              "      <td>0.036058</td>\n",
              "      <td>Fruits and Vegetables</td>\n",
              "      <td>260.3278</td>\n",
              "      <td>OUT018</td>\n",
              "      <td>2009</td>\n",
              "      <td>Medium</td>\n",
              "      <td>Tier 3</td>\n",
              "      <td>Supermarket Type2</td>\n",
              "      <td>2342.950200</td>\n",
              "      <td>9.000000</td>\n",
              "    </tr>\n",
              "    <tr>\n",
              "      <th>2109</th>\n",
              "      <td>FDU55</td>\n",
              "      <td>12.792854</td>\n",
              "      <td>Low Fat</td>\n",
              "      <td>0.035737</td>\n",
              "      <td>Fruits and Vegetables</td>\n",
              "      <td>260.6278</td>\n",
              "      <td>OUT027</td>\n",
              "      <td>1985</td>\n",
              "      <td>Medium</td>\n",
              "      <td>Tier 3</td>\n",
              "      <td>Supermarket Type3</td>\n",
              "      <td>9371.800800</td>\n",
              "      <td>35.958562</td>\n",
              "    </tr>\n",
              "    <tr>\n",
              "      <th>8245</th>\n",
              "      <td>FDU55</td>\n",
              "      <td>16.200000</td>\n",
              "      <td>Low Fat</td>\n",
              "      <td>0.035967</td>\n",
              "      <td>Fruits and Vegetables</td>\n",
              "      <td>260.3278</td>\n",
              "      <td>OUT049</td>\n",
              "      <td>1999</td>\n",
              "      <td>Medium</td>\n",
              "      <td>Tier 1</td>\n",
              "      <td>Supermarket Type1</td>\n",
              "      <td>7549.506200</td>\n",
              "      <td>29.000000</td>\n",
              "    </tr>\n",
              "    <tr>\n",
              "      <th>10848</th>\n",
              "      <td>FDU55</td>\n",
              "      <td>16.200000</td>\n",
              "      <td>Low Fat</td>\n",
              "      <td>0.035881</td>\n",
              "      <td>Fruits and Vegetables</td>\n",
              "      <td>260.4278</td>\n",
              "      <td>OUT013</td>\n",
              "      <td>1987</td>\n",
              "      <td>High</td>\n",
              "      <td>Tier 3</td>\n",
              "      <td>Supermarket Type1</td>\n",
              "      <td>5909.466515</td>\n",
              "      <td>22.691381</td>\n",
              "    </tr>\n",
              "    <tr>\n",
              "      <th>11876</th>\n",
              "      <td>FDU55</td>\n",
              "      <td>16.200000</td>\n",
              "      <td>Low Fat</td>\n",
              "      <td>0.035904</td>\n",
              "      <td>Fruits and Vegetables</td>\n",
              "      <td>258.6278</td>\n",
              "      <td>OUT035</td>\n",
              "      <td>2004</td>\n",
              "      <td>Small</td>\n",
              "      <td>Tier 2</td>\n",
              "      <td>Supermarket Type1</td>\n",
              "      <td>4829.605804</td>\n",
              "      <td>18.673962</td>\n",
              "    </tr>\n",
              "    <tr>\n",
              "      <th>13537</th>\n",
              "      <td>FDU55</td>\n",
              "      <td>16.200000</td>\n",
              "      <td>Low Fat</td>\n",
              "      <td>0.036114</td>\n",
              "      <td>Fruits and Vegetables</td>\n",
              "      <td>258.8278</td>\n",
              "      <td>OUT017</td>\n",
              "      <td>2007</td>\n",
              "      <td>NaN</td>\n",
              "      <td>Tier 2</td>\n",
              "      <td>Supermarket Type1</td>\n",
              "      <td>4128.186407</td>\n",
              "      <td>15.949548</td>\n",
              "    </tr>\n",
              "    <tr>\n",
              "      <th>14180</th>\n",
              "      <td>FDU55</td>\n",
              "      <td>16.200000</td>\n",
              "      <td>Low Fat</td>\n",
              "      <td>0.035911</td>\n",
              "      <td>Fruits and Vegetables</td>\n",
              "      <td>261.3278</td>\n",
              "      <td>OUT046</td>\n",
              "      <td>1997</td>\n",
              "      <td>Small</td>\n",
              "      <td>Tier 1</td>\n",
              "      <td>Supermarket Type1</td>\n",
              "      <td>4380.725086</td>\n",
              "      <td>16.763334</td>\n",
              "    </tr>\n",
              "  </tbody>\n",
              "</table>\n",
              "</div>\n",
              "      <button class=\"colab-df-convert\" onclick=\"convertToInteractive('df-78566864-e736-4581-9276-795c26bcf944')\"\n",
              "              title=\"Convert this dataframe to an interactive table.\"\n",
              "              style=\"display:none;\">\n",
              "        \n",
              "  <svg xmlns=\"http://www.w3.org/2000/svg\" height=\"24px\"viewBox=\"0 0 24 24\"\n",
              "       width=\"24px\">\n",
              "    <path d=\"M0 0h24v24H0V0z\" fill=\"none\"/>\n",
              "    <path d=\"M18.56 5.44l.94 2.06.94-2.06 2.06-.94-2.06-.94-.94-2.06-.94 2.06-2.06.94zm-11 1L8.5 8.5l.94-2.06 2.06-.94-2.06-.94L8.5 2.5l-.94 2.06-2.06.94zm10 10l.94 2.06.94-2.06 2.06-.94-2.06-.94-.94-2.06-.94 2.06-2.06.94z\"/><path d=\"M17.41 7.96l-1.37-1.37c-.4-.4-.92-.59-1.43-.59-.52 0-1.04.2-1.43.59L10.3 9.45l-7.72 7.72c-.78.78-.78 2.05 0 2.83L4 21.41c.39.39.9.59 1.41.59.51 0 1.02-.2 1.41-.59l7.78-7.78 2.81-2.81c.8-.78.8-2.07 0-2.86zM5.41 20L4 18.59l7.72-7.72 1.47 1.35L5.41 20z\"/>\n",
              "  </svg>\n",
              "      </button>\n",
              "      \n",
              "  <style>\n",
              "    .colab-df-container {\n",
              "      display:flex;\n",
              "      flex-wrap:wrap;\n",
              "      gap: 12px;\n",
              "    }\n",
              "\n",
              "    .colab-df-convert {\n",
              "      background-color: #E8F0FE;\n",
              "      border: none;\n",
              "      border-radius: 50%;\n",
              "      cursor: pointer;\n",
              "      display: none;\n",
              "      fill: #1967D2;\n",
              "      height: 32px;\n",
              "      padding: 0 0 0 0;\n",
              "      width: 32px;\n",
              "    }\n",
              "\n",
              "    .colab-df-convert:hover {\n",
              "      background-color: #E2EBFA;\n",
              "      box-shadow: 0px 1px 2px rgba(60, 64, 67, 0.3), 0px 1px 3px 1px rgba(60, 64, 67, 0.15);\n",
              "      fill: #174EA6;\n",
              "    }\n",
              "\n",
              "    [theme=dark] .colab-df-convert {\n",
              "      background-color: #3B4455;\n",
              "      fill: #D2E3FC;\n",
              "    }\n",
              "\n",
              "    [theme=dark] .colab-df-convert:hover {\n",
              "      background-color: #434B5C;\n",
              "      box-shadow: 0px 1px 3px 1px rgba(0, 0, 0, 0.15);\n",
              "      filter: drop-shadow(0px 1px 2px rgba(0, 0, 0, 0.3));\n",
              "      fill: #FFFFFF;\n",
              "    }\n",
              "  </style>\n",
              "\n",
              "      <script>\n",
              "        const buttonEl =\n",
              "          document.querySelector('#df-78566864-e736-4581-9276-795c26bcf944 button.colab-df-convert');\n",
              "        buttonEl.style.display =\n",
              "          google.colab.kernel.accessAllowed ? 'block' : 'none';\n",
              "\n",
              "        async function convertToInteractive(key) {\n",
              "          const element = document.querySelector('#df-78566864-e736-4581-9276-795c26bcf944');\n",
              "          const dataTable =\n",
              "            await google.colab.kernel.invokeFunction('convertToInteractive',\n",
              "                                                     [key], {});\n",
              "          if (!dataTable) return;\n",
              "\n",
              "          const docLinkHtml = 'Like what you see? Visit the ' +\n",
              "            '<a target=\"_blank\" href=https://colab.research.google.com/notebooks/data_table.ipynb>data table notebook</a>'\n",
              "            + ' to learn more about interactive tables.';\n",
              "          element.innerHTML = '';\n",
              "          dataTable['output_type'] = 'display_data';\n",
              "          await google.colab.output.renderOutput(dataTable, element);\n",
              "          const docLink = document.createElement('div');\n",
              "          docLink.innerHTML = docLinkHtml;\n",
              "          element.appendChild(docLink);\n",
              "        }\n",
              "      </script>\n",
              "    </div>\n",
              "  </div>\n",
              "  "
            ]
          },
          "metadata": {},
          "execution_count": 165
        }
      ]
    },
    {
      "cell_type": "code",
      "source": [
        "snack = data6[data6['Item_Type'] == \"Snack Foods\"]"
      ],
      "metadata": {
        "id": "0oa9xqX-6dc3"
      },
      "execution_count": 91,
      "outputs": []
    },
    {
      "cell_type": "code",
      "source": [
        "snack.groupby('Item_Identifier')['Item_Outlet_Sales'].sum().sort_values(ascending=False)"
      ],
      "metadata": {
        "id": "PO0VfADN6w-v",
        "colab": {
          "base_uri": "https://localhost:8080/"
        },
        "outputId": "4679e7bf-8767-4d07-edd9-f279b3c0737d"
      },
      "execution_count": 92,
      "outputs": [
        {
          "output_type": "execute_result",
          "data": {
            "text/plain": [
              "Item_Identifier\n",
              "FDL57    40799.458294\n",
              "FDC47    39370.537413\n",
              "FDR34    39222.134477\n",
              "FDN58    38176.181195\n",
              "FDR45    37561.214155\n",
              "             ...     \n",
              "FDG22     4534.936554\n",
              "FDQ22     4132.079531\n",
              "FDS22     4060.090741\n",
              "FDU21     3992.819866\n",
              "FDX10     2733.134807\n",
              "Name: Item_Outlet_Sales, Length: 220, dtype: float64"
            ]
          },
          "metadata": {},
          "execution_count": 92
        }
      ]
    },
    {
      "cell_type": "code",
      "source": [
        "snack[snack[\"Item_Identifier\"] == \"FDR34\"]"
      ],
      "metadata": {
        "id": "tChyAMi27vCi",
        "colab": {
          "base_uri": "https://localhost:8080/",
          "height": 551
        },
        "outputId": "f91b8390-b1a6-404a-9125-1b1e69e21078"
      },
      "execution_count": 168,
      "outputs": [
        {
          "output_type": "execute_result",
          "data": {
            "text/plain": [
              "      Item_Identifier  Item_Weight Item_Fat_Content  Item_Visibility  \\\n",
              "1608            FDR34    17.000000          Regular         0.015965   \n",
              "3723            FDR34    17.000000          Regular         0.015998   \n",
              "5720            FDR34    17.000000          Regular         0.015990   \n",
              "7076            FDR34    17.000000          Regular         0.016056   \n",
              "8199            FDR34    17.000000          Regular         0.016030   \n",
              "9771            FDR34    17.000000          Regular         0.015952   \n",
              "9831            FDR34    17.000000          Regular         0.015962   \n",
              "10026           FDR34    12.792854          Regular         0.015888   \n",
              "10054           FDR34    12.792854          Regular         0.027953   \n",
              "\n",
              "         Item_Type  Item_MRP Outlet_Identifier  Outlet_Establishment_Year  \\\n",
              "1608   Snack Foods  229.4352            OUT046                       1997   \n",
              "3723   Snack Foods  229.1352            OUT045                       2002   \n",
              "5720   Snack Foods  228.8352            OUT049                       1999   \n",
              "7076   Snack Foods  228.4352            OUT017                       2007   \n",
              "8199   Snack Foods  228.0352            OUT018                       2009   \n",
              "9771   Snack Foods  227.3352            OUT013                       1987   \n",
              "9831   Snack Foods  230.8352            OUT035                       2004   \n",
              "10026  Snack Foods  228.6352            OUT027                       1985   \n",
              "10054  Snack Foods  229.4352            OUT019                       1985   \n",
              "\n",
              "      Outlet_Size Outlet_Location_Type        Outlet_Type  Item_Outlet_Sales  \\\n",
              "1608        Small               Tier 1  Supermarket Type1        4809.739200   \n",
              "3723          NaN               Tier 2  Supermarket Type1        4580.704000   \n",
              "5720       Medium               Tier 1  Supermarket Type1        4351.668800   \n",
              "7076          NaN               Tier 2  Supermarket Type1        8245.267200   \n",
              "8199       Medium               Tier 3  Supermarket Type2        2748.422400   \n",
              "9771         High               Tier 3  Supermarket Type1        4309.380352   \n",
              "9831        Small               Tier 2  Supermarket Type1        4371.961931   \n",
              "10026      Medium               Tier 3  Supermarket Type3        5313.174360   \n",
              "10054       Small               Tier 1      Grocery Store         491.816234   \n",
              "\n",
              "        Quantity  \n",
              "1608   20.963388  \n",
              "3723   19.991272  \n",
              "5720   19.016606  \n",
              "7076   36.094556  \n",
              "8199   12.052623  \n",
              "9771   18.956063  \n",
              "9831   18.939754  \n",
              "10026  23.238654  \n",
              "10054   2.143595  "
            ],
            "text/html": [
              "\n",
              "  <div id=\"df-c0685568-56e1-4c74-9f4f-bc2e1e3214b6\">\n",
              "    <div class=\"colab-df-container\">\n",
              "      <div>\n",
              "<style scoped>\n",
              "    .dataframe tbody tr th:only-of-type {\n",
              "        vertical-align: middle;\n",
              "    }\n",
              "\n",
              "    .dataframe tbody tr th {\n",
              "        vertical-align: top;\n",
              "    }\n",
              "\n",
              "    .dataframe thead th {\n",
              "        text-align: right;\n",
              "    }\n",
              "</style>\n",
              "<table border=\"1\" class=\"dataframe\">\n",
              "  <thead>\n",
              "    <tr style=\"text-align: right;\">\n",
              "      <th></th>\n",
              "      <th>Item_Identifier</th>\n",
              "      <th>Item_Weight</th>\n",
              "      <th>Item_Fat_Content</th>\n",
              "      <th>Item_Visibility</th>\n",
              "      <th>Item_Type</th>\n",
              "      <th>Item_MRP</th>\n",
              "      <th>Outlet_Identifier</th>\n",
              "      <th>Outlet_Establishment_Year</th>\n",
              "      <th>Outlet_Size</th>\n",
              "      <th>Outlet_Location_Type</th>\n",
              "      <th>Outlet_Type</th>\n",
              "      <th>Item_Outlet_Sales</th>\n",
              "      <th>Quantity</th>\n",
              "    </tr>\n",
              "  </thead>\n",
              "  <tbody>\n",
              "    <tr>\n",
              "      <th>1608</th>\n",
              "      <td>FDR34</td>\n",
              "      <td>17.000000</td>\n",
              "      <td>Regular</td>\n",
              "      <td>0.015965</td>\n",
              "      <td>Snack Foods</td>\n",
              "      <td>229.4352</td>\n",
              "      <td>OUT046</td>\n",
              "      <td>1997</td>\n",
              "      <td>Small</td>\n",
              "      <td>Tier 1</td>\n",
              "      <td>Supermarket Type1</td>\n",
              "      <td>4809.739200</td>\n",
              "      <td>20.963388</td>\n",
              "    </tr>\n",
              "    <tr>\n",
              "      <th>3723</th>\n",
              "      <td>FDR34</td>\n",
              "      <td>17.000000</td>\n",
              "      <td>Regular</td>\n",
              "      <td>0.015998</td>\n",
              "      <td>Snack Foods</td>\n",
              "      <td>229.1352</td>\n",
              "      <td>OUT045</td>\n",
              "      <td>2002</td>\n",
              "      <td>NaN</td>\n",
              "      <td>Tier 2</td>\n",
              "      <td>Supermarket Type1</td>\n",
              "      <td>4580.704000</td>\n",
              "      <td>19.991272</td>\n",
              "    </tr>\n",
              "    <tr>\n",
              "      <th>5720</th>\n",
              "      <td>FDR34</td>\n",
              "      <td>17.000000</td>\n",
              "      <td>Regular</td>\n",
              "      <td>0.015990</td>\n",
              "      <td>Snack Foods</td>\n",
              "      <td>228.8352</td>\n",
              "      <td>OUT049</td>\n",
              "      <td>1999</td>\n",
              "      <td>Medium</td>\n",
              "      <td>Tier 1</td>\n",
              "      <td>Supermarket Type1</td>\n",
              "      <td>4351.668800</td>\n",
              "      <td>19.016606</td>\n",
              "    </tr>\n",
              "    <tr>\n",
              "      <th>7076</th>\n",
              "      <td>FDR34</td>\n",
              "      <td>17.000000</td>\n",
              "      <td>Regular</td>\n",
              "      <td>0.016056</td>\n",
              "      <td>Snack Foods</td>\n",
              "      <td>228.4352</td>\n",
              "      <td>OUT017</td>\n",
              "      <td>2007</td>\n",
              "      <td>NaN</td>\n",
              "      <td>Tier 2</td>\n",
              "      <td>Supermarket Type1</td>\n",
              "      <td>8245.267200</td>\n",
              "      <td>36.094556</td>\n",
              "    </tr>\n",
              "    <tr>\n",
              "      <th>8199</th>\n",
              "      <td>FDR34</td>\n",
              "      <td>17.000000</td>\n",
              "      <td>Regular</td>\n",
              "      <td>0.016030</td>\n",
              "      <td>Snack Foods</td>\n",
              "      <td>228.0352</td>\n",
              "      <td>OUT018</td>\n",
              "      <td>2009</td>\n",
              "      <td>Medium</td>\n",
              "      <td>Tier 3</td>\n",
              "      <td>Supermarket Type2</td>\n",
              "      <td>2748.422400</td>\n",
              "      <td>12.052623</td>\n",
              "    </tr>\n",
              "    <tr>\n",
              "      <th>9771</th>\n",
              "      <td>FDR34</td>\n",
              "      <td>17.000000</td>\n",
              "      <td>Regular</td>\n",
              "      <td>0.015952</td>\n",
              "      <td>Snack Foods</td>\n",
              "      <td>227.3352</td>\n",
              "      <td>OUT013</td>\n",
              "      <td>1987</td>\n",
              "      <td>High</td>\n",
              "      <td>Tier 3</td>\n",
              "      <td>Supermarket Type1</td>\n",
              "      <td>4309.380352</td>\n",
              "      <td>18.956063</td>\n",
              "    </tr>\n",
              "    <tr>\n",
              "      <th>9831</th>\n",
              "      <td>FDR34</td>\n",
              "      <td>17.000000</td>\n",
              "      <td>Regular</td>\n",
              "      <td>0.015962</td>\n",
              "      <td>Snack Foods</td>\n",
              "      <td>230.8352</td>\n",
              "      <td>OUT035</td>\n",
              "      <td>2004</td>\n",
              "      <td>Small</td>\n",
              "      <td>Tier 2</td>\n",
              "      <td>Supermarket Type1</td>\n",
              "      <td>4371.961931</td>\n",
              "      <td>18.939754</td>\n",
              "    </tr>\n",
              "    <tr>\n",
              "      <th>10026</th>\n",
              "      <td>FDR34</td>\n",
              "      <td>12.792854</td>\n",
              "      <td>Regular</td>\n",
              "      <td>0.015888</td>\n",
              "      <td>Snack Foods</td>\n",
              "      <td>228.6352</td>\n",
              "      <td>OUT027</td>\n",
              "      <td>1985</td>\n",
              "      <td>Medium</td>\n",
              "      <td>Tier 3</td>\n",
              "      <td>Supermarket Type3</td>\n",
              "      <td>5313.174360</td>\n",
              "      <td>23.238654</td>\n",
              "    </tr>\n",
              "    <tr>\n",
              "      <th>10054</th>\n",
              "      <td>FDR34</td>\n",
              "      <td>12.792854</td>\n",
              "      <td>Regular</td>\n",
              "      <td>0.027953</td>\n",
              "      <td>Snack Foods</td>\n",
              "      <td>229.4352</td>\n",
              "      <td>OUT019</td>\n",
              "      <td>1985</td>\n",
              "      <td>Small</td>\n",
              "      <td>Tier 1</td>\n",
              "      <td>Grocery Store</td>\n",
              "      <td>491.816234</td>\n",
              "      <td>2.143595</td>\n",
              "    </tr>\n",
              "  </tbody>\n",
              "</table>\n",
              "</div>\n",
              "      <button class=\"colab-df-convert\" onclick=\"convertToInteractive('df-c0685568-56e1-4c74-9f4f-bc2e1e3214b6')\"\n",
              "              title=\"Convert this dataframe to an interactive table.\"\n",
              "              style=\"display:none;\">\n",
              "        \n",
              "  <svg xmlns=\"http://www.w3.org/2000/svg\" height=\"24px\"viewBox=\"0 0 24 24\"\n",
              "       width=\"24px\">\n",
              "    <path d=\"M0 0h24v24H0V0z\" fill=\"none\"/>\n",
              "    <path d=\"M18.56 5.44l.94 2.06.94-2.06 2.06-.94-2.06-.94-.94-2.06-.94 2.06-2.06.94zm-11 1L8.5 8.5l.94-2.06 2.06-.94-2.06-.94L8.5 2.5l-.94 2.06-2.06.94zm10 10l.94 2.06.94-2.06 2.06-.94-2.06-.94-.94-2.06-.94 2.06-2.06.94z\"/><path d=\"M17.41 7.96l-1.37-1.37c-.4-.4-.92-.59-1.43-.59-.52 0-1.04.2-1.43.59L10.3 9.45l-7.72 7.72c-.78.78-.78 2.05 0 2.83L4 21.41c.39.39.9.59 1.41.59.51 0 1.02-.2 1.41-.59l7.78-7.78 2.81-2.81c.8-.78.8-2.07 0-2.86zM5.41 20L4 18.59l7.72-7.72 1.47 1.35L5.41 20z\"/>\n",
              "  </svg>\n",
              "      </button>\n",
              "      \n",
              "  <style>\n",
              "    .colab-df-container {\n",
              "      display:flex;\n",
              "      flex-wrap:wrap;\n",
              "      gap: 12px;\n",
              "    }\n",
              "\n",
              "    .colab-df-convert {\n",
              "      background-color: #E8F0FE;\n",
              "      border: none;\n",
              "      border-radius: 50%;\n",
              "      cursor: pointer;\n",
              "      display: none;\n",
              "      fill: #1967D2;\n",
              "      height: 32px;\n",
              "      padding: 0 0 0 0;\n",
              "      width: 32px;\n",
              "    }\n",
              "\n",
              "    .colab-df-convert:hover {\n",
              "      background-color: #E2EBFA;\n",
              "      box-shadow: 0px 1px 2px rgba(60, 64, 67, 0.3), 0px 1px 3px 1px rgba(60, 64, 67, 0.15);\n",
              "      fill: #174EA6;\n",
              "    }\n",
              "\n",
              "    [theme=dark] .colab-df-convert {\n",
              "      background-color: #3B4455;\n",
              "      fill: #D2E3FC;\n",
              "    }\n",
              "\n",
              "    [theme=dark] .colab-df-convert:hover {\n",
              "      background-color: #434B5C;\n",
              "      box-shadow: 0px 1px 3px 1px rgba(0, 0, 0, 0.15);\n",
              "      filter: drop-shadow(0px 1px 2px rgba(0, 0, 0, 0.3));\n",
              "      fill: #FFFFFF;\n",
              "    }\n",
              "  </style>\n",
              "\n",
              "      <script>\n",
              "        const buttonEl =\n",
              "          document.querySelector('#df-c0685568-56e1-4c74-9f4f-bc2e1e3214b6 button.colab-df-convert');\n",
              "        buttonEl.style.display =\n",
              "          google.colab.kernel.accessAllowed ? 'block' : 'none';\n",
              "\n",
              "        async function convertToInteractive(key) {\n",
              "          const element = document.querySelector('#df-c0685568-56e1-4c74-9f4f-bc2e1e3214b6');\n",
              "          const dataTable =\n",
              "            await google.colab.kernel.invokeFunction('convertToInteractive',\n",
              "                                                     [key], {});\n",
              "          if (!dataTable) return;\n",
              "\n",
              "          const docLinkHtml = 'Like what you see? Visit the ' +\n",
              "            '<a target=\"_blank\" href=https://colab.research.google.com/notebooks/data_table.ipynb>data table notebook</a>'\n",
              "            + ' to learn more about interactive tables.';\n",
              "          element.innerHTML = '';\n",
              "          dataTable['output_type'] = 'display_data';\n",
              "          await google.colab.output.renderOutput(dataTable, element);\n",
              "          const docLink = document.createElement('div');\n",
              "          docLink.innerHTML = docLinkHtml;\n",
              "          element.appendChild(docLink);\n",
              "        }\n",
              "      </script>\n",
              "    </div>\n",
              "  </div>\n",
              "  "
            ]
          },
          "metadata": {},
          "execution_count": 168
        }
      ]
    },
    {
      "cell_type": "code",
      "source": [
        "data[\"Item_Outlet_Sales\"] / data[\"Item_MRP\"]"
      ],
      "metadata": {
        "id": "6ARjzfDi8PUn",
        "colab": {
          "base_uri": "https://localhost:8080/"
        },
        "outputId": "3ff72a63-a3e0-4aca-8f56-8974ccd22822"
      },
      "execution_count": 94,
      "outputs": [
        {
          "output_type": "execute_result",
          "data": {
            "text/plain": [
              "0        14.951963\n",
              "1         9.186454\n",
              "2        14.809346\n",
              "3         4.021967\n",
              "4        18.467868\n",
              "           ...    \n",
              "14199    15.663378\n",
              "14200    13.890744\n",
              "14201    15.941703\n",
              "14202    21.123506\n",
              "14203    16.319559\n",
              "Length: 14204, dtype: float64"
            ]
          },
          "metadata": {},
          "execution_count": 94
        }
      ]
    },
    {
      "cell_type": "markdown",
      "source": [
        "Products recommendations:\n",
        "- F&V and Snack Foods of high category\n"
      ],
      "metadata": {
        "id": "HA2e4n5F6T2-"
      }
    },
    {
      "cell_type": "markdown",
      "source": [
        "### Item Visibility"
      ],
      "metadata": {
        "id": "TU5vATTb9vTl"
      }
    },
    {
      "cell_type": "code",
      "source": [
        "data6.describe()"
      ],
      "metadata": {
        "id": "iB5LQpTl9z4H",
        "colab": {
          "base_uri": "https://localhost:8080/",
          "height": 300
        },
        "outputId": "93b6dd6d-7401-41ba-85e1-c75b13387879"
      },
      "execution_count": 95,
      "outputs": [
        {
          "output_type": "execute_result",
          "data": {
            "text/plain": [
              "        Item_Weight  Item_Visibility      Item_MRP  Outlet_Establishment_Year  \\\n",
              "count  14204.000000     14204.000000  14204.000000               14204.000000   \n",
              "mean      12.792854         0.065953    141.004977                1997.830681   \n",
              "std        4.234226         0.051459     62.086938                   8.371664   \n",
              "min        4.555000         0.000000     31.290000                1985.000000   \n",
              "25%        9.300000         0.027036     94.012000                1987.000000   \n",
              "50%       12.792854         0.054021    142.247000                1999.000000   \n",
              "75%       16.000000         0.094037    185.855600                2004.000000   \n",
              "max       21.350000         0.328391    266.888400                2009.000000   \n",
              "\n",
              "       Item_Outlet_Sales      Quantity  \n",
              "count       14204.000000  14204.000000  \n",
              "mean         2099.333529     14.845765  \n",
              "std          1542.432736      8.066233  \n",
              "min            33.290000      0.952322  \n",
              "25%           878.856000     10.699202  \n",
              "50%          1828.273367     14.638251  \n",
              "75%          2949.298043     18.877168  \n",
              "max         13086.964800     56.844890  "
            ],
            "text/html": [
              "\n",
              "  <div id=\"df-4c283d96-7100-44bf-ad90-d040ddbbea21\">\n",
              "    <div class=\"colab-df-container\">\n",
              "      <div>\n",
              "<style scoped>\n",
              "    .dataframe tbody tr th:only-of-type {\n",
              "        vertical-align: middle;\n",
              "    }\n",
              "\n",
              "    .dataframe tbody tr th {\n",
              "        vertical-align: top;\n",
              "    }\n",
              "\n",
              "    .dataframe thead th {\n",
              "        text-align: right;\n",
              "    }\n",
              "</style>\n",
              "<table border=\"1\" class=\"dataframe\">\n",
              "  <thead>\n",
              "    <tr style=\"text-align: right;\">\n",
              "      <th></th>\n",
              "      <th>Item_Weight</th>\n",
              "      <th>Item_Visibility</th>\n",
              "      <th>Item_MRP</th>\n",
              "      <th>Outlet_Establishment_Year</th>\n",
              "      <th>Item_Outlet_Sales</th>\n",
              "      <th>Quantity</th>\n",
              "    </tr>\n",
              "  </thead>\n",
              "  <tbody>\n",
              "    <tr>\n",
              "      <th>count</th>\n",
              "      <td>14204.000000</td>\n",
              "      <td>14204.000000</td>\n",
              "      <td>14204.000000</td>\n",
              "      <td>14204.000000</td>\n",
              "      <td>14204.000000</td>\n",
              "      <td>14204.000000</td>\n",
              "    </tr>\n",
              "    <tr>\n",
              "      <th>mean</th>\n",
              "      <td>12.792854</td>\n",
              "      <td>0.065953</td>\n",
              "      <td>141.004977</td>\n",
              "      <td>1997.830681</td>\n",
              "      <td>2099.333529</td>\n",
              "      <td>14.845765</td>\n",
              "    </tr>\n",
              "    <tr>\n",
              "      <th>std</th>\n",
              "      <td>4.234226</td>\n",
              "      <td>0.051459</td>\n",
              "      <td>62.086938</td>\n",
              "      <td>8.371664</td>\n",
              "      <td>1542.432736</td>\n",
              "      <td>8.066233</td>\n",
              "    </tr>\n",
              "    <tr>\n",
              "      <th>min</th>\n",
              "      <td>4.555000</td>\n",
              "      <td>0.000000</td>\n",
              "      <td>31.290000</td>\n",
              "      <td>1985.000000</td>\n",
              "      <td>33.290000</td>\n",
              "      <td>0.952322</td>\n",
              "    </tr>\n",
              "    <tr>\n",
              "      <th>25%</th>\n",
              "      <td>9.300000</td>\n",
              "      <td>0.027036</td>\n",
              "      <td>94.012000</td>\n",
              "      <td>1987.000000</td>\n",
              "      <td>878.856000</td>\n",
              "      <td>10.699202</td>\n",
              "    </tr>\n",
              "    <tr>\n",
              "      <th>50%</th>\n",
              "      <td>12.792854</td>\n",
              "      <td>0.054021</td>\n",
              "      <td>142.247000</td>\n",
              "      <td>1999.000000</td>\n",
              "      <td>1828.273367</td>\n",
              "      <td>14.638251</td>\n",
              "    </tr>\n",
              "    <tr>\n",
              "      <th>75%</th>\n",
              "      <td>16.000000</td>\n",
              "      <td>0.094037</td>\n",
              "      <td>185.855600</td>\n",
              "      <td>2004.000000</td>\n",
              "      <td>2949.298043</td>\n",
              "      <td>18.877168</td>\n",
              "    </tr>\n",
              "    <tr>\n",
              "      <th>max</th>\n",
              "      <td>21.350000</td>\n",
              "      <td>0.328391</td>\n",
              "      <td>266.888400</td>\n",
              "      <td>2009.000000</td>\n",
              "      <td>13086.964800</td>\n",
              "      <td>56.844890</td>\n",
              "    </tr>\n",
              "  </tbody>\n",
              "</table>\n",
              "</div>\n",
              "      <button class=\"colab-df-convert\" onclick=\"convertToInteractive('df-4c283d96-7100-44bf-ad90-d040ddbbea21')\"\n",
              "              title=\"Convert this dataframe to an interactive table.\"\n",
              "              style=\"display:none;\">\n",
              "        \n",
              "  <svg xmlns=\"http://www.w3.org/2000/svg\" height=\"24px\"viewBox=\"0 0 24 24\"\n",
              "       width=\"24px\">\n",
              "    <path d=\"M0 0h24v24H0V0z\" fill=\"none\"/>\n",
              "    <path d=\"M18.56 5.44l.94 2.06.94-2.06 2.06-.94-2.06-.94-.94-2.06-.94 2.06-2.06.94zm-11 1L8.5 8.5l.94-2.06 2.06-.94-2.06-.94L8.5 2.5l-.94 2.06-2.06.94zm10 10l.94 2.06.94-2.06 2.06-.94-2.06-.94-.94-2.06-.94 2.06-2.06.94z\"/><path d=\"M17.41 7.96l-1.37-1.37c-.4-.4-.92-.59-1.43-.59-.52 0-1.04.2-1.43.59L10.3 9.45l-7.72 7.72c-.78.78-.78 2.05 0 2.83L4 21.41c.39.39.9.59 1.41.59.51 0 1.02-.2 1.41-.59l7.78-7.78 2.81-2.81c.8-.78.8-2.07 0-2.86zM5.41 20L4 18.59l7.72-7.72 1.47 1.35L5.41 20z\"/>\n",
              "  </svg>\n",
              "      </button>\n",
              "      \n",
              "  <style>\n",
              "    .colab-df-container {\n",
              "      display:flex;\n",
              "      flex-wrap:wrap;\n",
              "      gap: 12px;\n",
              "    }\n",
              "\n",
              "    .colab-df-convert {\n",
              "      background-color: #E8F0FE;\n",
              "      border: none;\n",
              "      border-radius: 50%;\n",
              "      cursor: pointer;\n",
              "      display: none;\n",
              "      fill: #1967D2;\n",
              "      height: 32px;\n",
              "      padding: 0 0 0 0;\n",
              "      width: 32px;\n",
              "    }\n",
              "\n",
              "    .colab-df-convert:hover {\n",
              "      background-color: #E2EBFA;\n",
              "      box-shadow: 0px 1px 2px rgba(60, 64, 67, 0.3), 0px 1px 3px 1px rgba(60, 64, 67, 0.15);\n",
              "      fill: #174EA6;\n",
              "    }\n",
              "\n",
              "    [theme=dark] .colab-df-convert {\n",
              "      background-color: #3B4455;\n",
              "      fill: #D2E3FC;\n",
              "    }\n",
              "\n",
              "    [theme=dark] .colab-df-convert:hover {\n",
              "      background-color: #434B5C;\n",
              "      box-shadow: 0px 1px 3px 1px rgba(0, 0, 0, 0.15);\n",
              "      filter: drop-shadow(0px 1px 2px rgba(0, 0, 0, 0.3));\n",
              "      fill: #FFFFFF;\n",
              "    }\n",
              "  </style>\n",
              "\n",
              "      <script>\n",
              "        const buttonEl =\n",
              "          document.querySelector('#df-4c283d96-7100-44bf-ad90-d040ddbbea21 button.colab-df-convert');\n",
              "        buttonEl.style.display =\n",
              "          google.colab.kernel.accessAllowed ? 'block' : 'none';\n",
              "\n",
              "        async function convertToInteractive(key) {\n",
              "          const element = document.querySelector('#df-4c283d96-7100-44bf-ad90-d040ddbbea21');\n",
              "          const dataTable =\n",
              "            await google.colab.kernel.invokeFunction('convertToInteractive',\n",
              "                                                     [key], {});\n",
              "          if (!dataTable) return;\n",
              "\n",
              "          const docLinkHtml = 'Like what you see? Visit the ' +\n",
              "            '<a target=\"_blank\" href=https://colab.research.google.com/notebooks/data_table.ipynb>data table notebook</a>'\n",
              "            + ' to learn more about interactive tables.';\n",
              "          element.innerHTML = '';\n",
              "          dataTable['output_type'] = 'display_data';\n",
              "          await google.colab.output.renderOutput(dataTable, element);\n",
              "          const docLink = document.createElement('div');\n",
              "          docLink.innerHTML = docLinkHtml;\n",
              "          element.appendChild(docLink);\n",
              "        }\n",
              "      </script>\n",
              "    </div>\n",
              "  </div>\n",
              "  "
            ]
          },
          "metadata": {},
          "execution_count": 95
        }
      ]
    },
    {
      "cell_type": "code",
      "source": [
        "data6.groupby('Item_Identifier')['Item_Outlet_Sales'].sum().sort_values(ascending=False)"
      ],
      "metadata": {
        "id": "ue4jNEZD-L67",
        "colab": {
          "base_uri": "https://localhost:8080/"
        },
        "outputId": "2284c0c2-3d62-4b26-bcc9-f082f9f55881"
      },
      "execution_count": 96,
      "outputs": [
        {
          "output_type": "execute_result",
          "data": {
            "text/plain": [
              "Item_Identifier\n",
              "FDY55    46933.227805\n",
              "FDA15    45388.181511\n",
              "FDK03    43306.382408\n",
              "FDZ20    42978.848434\n",
              "FDU55    42937.813612\n",
              "             ...     \n",
              "FDG29     3861.519492\n",
              "FDF09     3834.628701\n",
              "NCO06     3493.481502\n",
              "NCR42     3228.434278\n",
              "FDX10     2733.134807\n",
              "Name: Item_Outlet_Sales, Length: 1559, dtype: float64"
            ]
          },
          "metadata": {},
          "execution_count": 96
        }
      ]
    },
    {
      "cell_type": "code",
      "source": [
        "data6.groupby('Item_Identifier')['Item_Visibility'].sum().sort_values(ascending=False)"
      ],
      "metadata": {
        "id": "xMh5wRpXAK7k",
        "colab": {
          "base_uri": "https://localhost:8080/"
        },
        "outputId": "e83622e0-68b2-45f5-8cb1-c596b6ad6d48"
      },
      "execution_count": 97,
      "outputs": [
        {
          "output_type": "execute_result",
          "data": {
            "text/plain": [
              "Item_Identifier\n",
              "NCE31    2.113153\n",
              "FDS12    1.990543\n",
              "FDR14    1.989749\n",
              "FDU13    1.956789\n",
              "FDY08    1.955752\n",
              "           ...   \n",
              "FDK51    0.045437\n",
              "FDG12    0.044317\n",
              "FDE20    0.044285\n",
              "FDU04    0.043024\n",
              "DRM59    0.035053\n",
              "Name: Item_Visibility, Length: 1559, dtype: float64"
            ]
          },
          "metadata": {},
          "execution_count": 97
        }
      ]
    },
    {
      "cell_type": "code",
      "source": [
        "data6[data6['Item_Identifier'] == \"FDY08\"]"
      ],
      "metadata": {
        "id": "kDAxzFVU-0nF",
        "colab": {
          "base_uri": "https://localhost:8080/",
          "height": 600
        },
        "outputId": "1d4af932-006b-4fdf-8700-60f81b5ad594"
      },
      "execution_count": 98,
      "outputs": [
        {
          "output_type": "execute_result",
          "data": {
            "text/plain": [
              "      Item_Identifier  Item_Weight Item_Fat_Content  Item_Visibility  \\\n",
              "1137            FDY08     9.395000          Regular         0.172043   \n",
              "1870            FDY08     9.395000          Regular         0.171422   \n",
              "2808            FDY08    12.792854          Regular         0.170247   \n",
              "5734            FDY08     9.395000          Regular         0.286345   \n",
              "8884            FDY08     9.395000          Regular         0.171043   \n",
              "9667            FDY08     9.395000          Regular         0.170933   \n",
              "9704            FDY08     9.395000          Regular         0.171075   \n",
              "12349           FDY08     9.395000          Regular         0.171341   \n",
              "12826           FDY08     9.395000          Regular         0.171772   \n",
              "13369           FDY08    12.792854          Regular         0.299531   \n",
              "\n",
              "                   Item_Type  Item_MRP Outlet_Identifier  \\\n",
              "1137   Fruits and Vegetables  139.9838            OUT017   \n",
              "1870   Fruits and Vegetables  139.1838            OUT045   \n",
              "2808   Fruits and Vegetables  141.5838            OUT027   \n",
              "5734   Fruits and Vegetables  139.1838            OUT010   \n",
              "8884   Fruits and Vegetables  139.9838            OUT035   \n",
              "9667   Fruits and Vegetables  140.5838            OUT013   \n",
              "9704   Fruits and Vegetables  138.9838            OUT046   \n",
              "12349  Fruits and Vegetables  141.3838            OUT049   \n",
              "12826  Fruits and Vegetables  140.4838            OUT018   \n",
              "13369  Fruits and Vegetables  139.9838            OUT019   \n",
              "\n",
              "       Outlet_Establishment_Year Outlet_Size Outlet_Location_Type  \\\n",
              "1137                        2007         NaN               Tier 2   \n",
              "1870                        2002         NaN               Tier 2   \n",
              "2808                        1985      Medium               Tier 3   \n",
              "5734                        1998         NaN               Tier 3   \n",
              "8884                        2004       Small               Tier 2   \n",
              "9667                        1987        High               Tier 3   \n",
              "9704                        1997       Small               Tier 1   \n",
              "12349                       1999      Medium               Tier 1   \n",
              "12826                       2009      Medium               Tier 3   \n",
              "13369                       1985       Small               Tier 1   \n",
              "\n",
              "             Outlet_Type  Item_Outlet_Sales   Quantity  \n",
              "1137   Supermarket Type1        1966.773200  14.050006  \n",
              "1870   Supermarket Type1        1685.805600  12.112082  \n",
              "2808   Supermarket Type3        3231.127400  22.821307  \n",
              "5734       Grocery Store         280.967600   2.018680  \n",
              "8884   Supermarket Type1        2531.051598  18.081032  \n",
              "9667   Supermarket Type1        1778.463841  12.650560  \n",
              "9704   Supermarket Type1        2356.615694  16.956046  \n",
              "12349  Supermarket Type1        2402.206597  16.990678  \n",
              "12826  Supermarket Type2        2167.971393  15.432181  \n",
              "13369      Grocery Store         319.630281   2.283338  "
            ],
            "text/html": [
              "\n",
              "  <div id=\"df-e8e4504c-c125-4b45-9e72-636fa1fb60e4\">\n",
              "    <div class=\"colab-df-container\">\n",
              "      <div>\n",
              "<style scoped>\n",
              "    .dataframe tbody tr th:only-of-type {\n",
              "        vertical-align: middle;\n",
              "    }\n",
              "\n",
              "    .dataframe tbody tr th {\n",
              "        vertical-align: top;\n",
              "    }\n",
              "\n",
              "    .dataframe thead th {\n",
              "        text-align: right;\n",
              "    }\n",
              "</style>\n",
              "<table border=\"1\" class=\"dataframe\">\n",
              "  <thead>\n",
              "    <tr style=\"text-align: right;\">\n",
              "      <th></th>\n",
              "      <th>Item_Identifier</th>\n",
              "      <th>Item_Weight</th>\n",
              "      <th>Item_Fat_Content</th>\n",
              "      <th>Item_Visibility</th>\n",
              "      <th>Item_Type</th>\n",
              "      <th>Item_MRP</th>\n",
              "      <th>Outlet_Identifier</th>\n",
              "      <th>Outlet_Establishment_Year</th>\n",
              "      <th>Outlet_Size</th>\n",
              "      <th>Outlet_Location_Type</th>\n",
              "      <th>Outlet_Type</th>\n",
              "      <th>Item_Outlet_Sales</th>\n",
              "      <th>Quantity</th>\n",
              "    </tr>\n",
              "  </thead>\n",
              "  <tbody>\n",
              "    <tr>\n",
              "      <th>1137</th>\n",
              "      <td>FDY08</td>\n",
              "      <td>9.395000</td>\n",
              "      <td>Regular</td>\n",
              "      <td>0.172043</td>\n",
              "      <td>Fruits and Vegetables</td>\n",
              "      <td>139.9838</td>\n",
              "      <td>OUT017</td>\n",
              "      <td>2007</td>\n",
              "      <td>NaN</td>\n",
              "      <td>Tier 2</td>\n",
              "      <td>Supermarket Type1</td>\n",
              "      <td>1966.773200</td>\n",
              "      <td>14.050006</td>\n",
              "    </tr>\n",
              "    <tr>\n",
              "      <th>1870</th>\n",
              "      <td>FDY08</td>\n",
              "      <td>9.395000</td>\n",
              "      <td>Regular</td>\n",
              "      <td>0.171422</td>\n",
              "      <td>Fruits and Vegetables</td>\n",
              "      <td>139.1838</td>\n",
              "      <td>OUT045</td>\n",
              "      <td>2002</td>\n",
              "      <td>NaN</td>\n",
              "      <td>Tier 2</td>\n",
              "      <td>Supermarket Type1</td>\n",
              "      <td>1685.805600</td>\n",
              "      <td>12.112082</td>\n",
              "    </tr>\n",
              "    <tr>\n",
              "      <th>2808</th>\n",
              "      <td>FDY08</td>\n",
              "      <td>12.792854</td>\n",
              "      <td>Regular</td>\n",
              "      <td>0.170247</td>\n",
              "      <td>Fruits and Vegetables</td>\n",
              "      <td>141.5838</td>\n",
              "      <td>OUT027</td>\n",
              "      <td>1985</td>\n",
              "      <td>Medium</td>\n",
              "      <td>Tier 3</td>\n",
              "      <td>Supermarket Type3</td>\n",
              "      <td>3231.127400</td>\n",
              "      <td>22.821307</td>\n",
              "    </tr>\n",
              "    <tr>\n",
              "      <th>5734</th>\n",
              "      <td>FDY08</td>\n",
              "      <td>9.395000</td>\n",
              "      <td>Regular</td>\n",
              "      <td>0.286345</td>\n",
              "      <td>Fruits and Vegetables</td>\n",
              "      <td>139.1838</td>\n",
              "      <td>OUT010</td>\n",
              "      <td>1998</td>\n",
              "      <td>NaN</td>\n",
              "      <td>Tier 3</td>\n",
              "      <td>Grocery Store</td>\n",
              "      <td>280.967600</td>\n",
              "      <td>2.018680</td>\n",
              "    </tr>\n",
              "    <tr>\n",
              "      <th>8884</th>\n",
              "      <td>FDY08</td>\n",
              "      <td>9.395000</td>\n",
              "      <td>Regular</td>\n",
              "      <td>0.171043</td>\n",
              "      <td>Fruits and Vegetables</td>\n",
              "      <td>139.9838</td>\n",
              "      <td>OUT035</td>\n",
              "      <td>2004</td>\n",
              "      <td>Small</td>\n",
              "      <td>Tier 2</td>\n",
              "      <td>Supermarket Type1</td>\n",
              "      <td>2531.051598</td>\n",
              "      <td>18.081032</td>\n",
              "    </tr>\n",
              "    <tr>\n",
              "      <th>9667</th>\n",
              "      <td>FDY08</td>\n",
              "      <td>9.395000</td>\n",
              "      <td>Regular</td>\n",
              "      <td>0.170933</td>\n",
              "      <td>Fruits and Vegetables</td>\n",
              "      <td>140.5838</td>\n",
              "      <td>OUT013</td>\n",
              "      <td>1987</td>\n",
              "      <td>High</td>\n",
              "      <td>Tier 3</td>\n",
              "      <td>Supermarket Type1</td>\n",
              "      <td>1778.463841</td>\n",
              "      <td>12.650560</td>\n",
              "    </tr>\n",
              "    <tr>\n",
              "      <th>9704</th>\n",
              "      <td>FDY08</td>\n",
              "      <td>9.395000</td>\n",
              "      <td>Regular</td>\n",
              "      <td>0.171075</td>\n",
              "      <td>Fruits and Vegetables</td>\n",
              "      <td>138.9838</td>\n",
              "      <td>OUT046</td>\n",
              "      <td>1997</td>\n",
              "      <td>Small</td>\n",
              "      <td>Tier 1</td>\n",
              "      <td>Supermarket Type1</td>\n",
              "      <td>2356.615694</td>\n",
              "      <td>16.956046</td>\n",
              "    </tr>\n",
              "    <tr>\n",
              "      <th>12349</th>\n",
              "      <td>FDY08</td>\n",
              "      <td>9.395000</td>\n",
              "      <td>Regular</td>\n",
              "      <td>0.171341</td>\n",
              "      <td>Fruits and Vegetables</td>\n",
              "      <td>141.3838</td>\n",
              "      <td>OUT049</td>\n",
              "      <td>1999</td>\n",
              "      <td>Medium</td>\n",
              "      <td>Tier 1</td>\n",
              "      <td>Supermarket Type1</td>\n",
              "      <td>2402.206597</td>\n",
              "      <td>16.990678</td>\n",
              "    </tr>\n",
              "    <tr>\n",
              "      <th>12826</th>\n",
              "      <td>FDY08</td>\n",
              "      <td>9.395000</td>\n",
              "      <td>Regular</td>\n",
              "      <td>0.171772</td>\n",
              "      <td>Fruits and Vegetables</td>\n",
              "      <td>140.4838</td>\n",
              "      <td>OUT018</td>\n",
              "      <td>2009</td>\n",
              "      <td>Medium</td>\n",
              "      <td>Tier 3</td>\n",
              "      <td>Supermarket Type2</td>\n",
              "      <td>2167.971393</td>\n",
              "      <td>15.432181</td>\n",
              "    </tr>\n",
              "    <tr>\n",
              "      <th>13369</th>\n",
              "      <td>FDY08</td>\n",
              "      <td>12.792854</td>\n",
              "      <td>Regular</td>\n",
              "      <td>0.299531</td>\n",
              "      <td>Fruits and Vegetables</td>\n",
              "      <td>139.9838</td>\n",
              "      <td>OUT019</td>\n",
              "      <td>1985</td>\n",
              "      <td>Small</td>\n",
              "      <td>Tier 1</td>\n",
              "      <td>Grocery Store</td>\n",
              "      <td>319.630281</td>\n",
              "      <td>2.283338</td>\n",
              "    </tr>\n",
              "  </tbody>\n",
              "</table>\n",
              "</div>\n",
              "      <button class=\"colab-df-convert\" onclick=\"convertToInteractive('df-e8e4504c-c125-4b45-9e72-636fa1fb60e4')\"\n",
              "              title=\"Convert this dataframe to an interactive table.\"\n",
              "              style=\"display:none;\">\n",
              "        \n",
              "  <svg xmlns=\"http://www.w3.org/2000/svg\" height=\"24px\"viewBox=\"0 0 24 24\"\n",
              "       width=\"24px\">\n",
              "    <path d=\"M0 0h24v24H0V0z\" fill=\"none\"/>\n",
              "    <path d=\"M18.56 5.44l.94 2.06.94-2.06 2.06-.94-2.06-.94-.94-2.06-.94 2.06-2.06.94zm-11 1L8.5 8.5l.94-2.06 2.06-.94-2.06-.94L8.5 2.5l-.94 2.06-2.06.94zm10 10l.94 2.06.94-2.06 2.06-.94-2.06-.94-.94-2.06-.94 2.06-2.06.94z\"/><path d=\"M17.41 7.96l-1.37-1.37c-.4-.4-.92-.59-1.43-.59-.52 0-1.04.2-1.43.59L10.3 9.45l-7.72 7.72c-.78.78-.78 2.05 0 2.83L4 21.41c.39.39.9.59 1.41.59.51 0 1.02-.2 1.41-.59l7.78-7.78 2.81-2.81c.8-.78.8-2.07 0-2.86zM5.41 20L4 18.59l7.72-7.72 1.47 1.35L5.41 20z\"/>\n",
              "  </svg>\n",
              "      </button>\n",
              "      \n",
              "  <style>\n",
              "    .colab-df-container {\n",
              "      display:flex;\n",
              "      flex-wrap:wrap;\n",
              "      gap: 12px;\n",
              "    }\n",
              "\n",
              "    .colab-df-convert {\n",
              "      background-color: #E8F0FE;\n",
              "      border: none;\n",
              "      border-radius: 50%;\n",
              "      cursor: pointer;\n",
              "      display: none;\n",
              "      fill: #1967D2;\n",
              "      height: 32px;\n",
              "      padding: 0 0 0 0;\n",
              "      width: 32px;\n",
              "    }\n",
              "\n",
              "    .colab-df-convert:hover {\n",
              "      background-color: #E2EBFA;\n",
              "      box-shadow: 0px 1px 2px rgba(60, 64, 67, 0.3), 0px 1px 3px 1px rgba(60, 64, 67, 0.15);\n",
              "      fill: #174EA6;\n",
              "    }\n",
              "\n",
              "    [theme=dark] .colab-df-convert {\n",
              "      background-color: #3B4455;\n",
              "      fill: #D2E3FC;\n",
              "    }\n",
              "\n",
              "    [theme=dark] .colab-df-convert:hover {\n",
              "      background-color: #434B5C;\n",
              "      box-shadow: 0px 1px 3px 1px rgba(0, 0, 0, 0.15);\n",
              "      filter: drop-shadow(0px 1px 2px rgba(0, 0, 0, 0.3));\n",
              "      fill: #FFFFFF;\n",
              "    }\n",
              "  </style>\n",
              "\n",
              "      <script>\n",
              "        const buttonEl =\n",
              "          document.querySelector('#df-e8e4504c-c125-4b45-9e72-636fa1fb60e4 button.colab-df-convert');\n",
              "        buttonEl.style.display =\n",
              "          google.colab.kernel.accessAllowed ? 'block' : 'none';\n",
              "\n",
              "        async function convertToInteractive(key) {\n",
              "          const element = document.querySelector('#df-e8e4504c-c125-4b45-9e72-636fa1fb60e4');\n",
              "          const dataTable =\n",
              "            await google.colab.kernel.invokeFunction('convertToInteractive',\n",
              "                                                     [key], {});\n",
              "          if (!dataTable) return;\n",
              "\n",
              "          const docLinkHtml = 'Like what you see? Visit the ' +\n",
              "            '<a target=\"_blank\" href=https://colab.research.google.com/notebooks/data_table.ipynb>data table notebook</a>'\n",
              "            + ' to learn more about interactive tables.';\n",
              "          element.innerHTML = '';\n",
              "          dataTable['output_type'] = 'display_data';\n",
              "          await google.colab.output.renderOutput(dataTable, element);\n",
              "          const docLink = document.createElement('div');\n",
              "          docLink.innerHTML = docLinkHtml;\n",
              "          element.appendChild(docLink);\n",
              "        }\n",
              "      </script>\n",
              "    </div>\n",
              "  </div>\n",
              "  "
            ]
          },
          "metadata": {},
          "execution_count": 98
        }
      ]
    },
    {
      "cell_type": "code",
      "source": [
        "data5.plot.scatter(x='Item_Visibility', y='Item_MRP', c='DarkBlue', title =\"Scatterplot Item Outlet Sales - Item MRP\")"
      ],
      "metadata": {
        "colab": {
          "base_uri": "https://localhost:8080/",
          "height": 313
        },
        "id": "nwlJLb9dksxX",
        "outputId": "cec7790f-7b41-481c-ccea-fc7158c16696"
      },
      "execution_count": 171,
      "outputs": [
        {
          "output_type": "execute_result",
          "data": {
            "text/plain": [
              "<AxesSubplot:title={'center':'Scatterplot Item Outlet Sales - Item MRP'}, xlabel='Item_Visibility', ylabel='Item_MRP'>"
            ]
          },
          "metadata": {},
          "execution_count": 171
        },
        {
          "output_type": "display_data",
          "data": {
            "text/plain": [
              "<Figure size 432x288 with 1 Axes>"
            ],
            "image/png": "[encoded data removed]"
          },
          "metadata": {
            "needs_background": "light"
          }
        }
      ]
    },
    {
      "cell_type": "code",
      "source": [
        "mapa_calor2 = sns.heatmap(data4.corr()[['Item_Visibility']].sort_values(by='Item_Visibility', ascending=False),vmin=-1, vmax=1, annot=True, cmap='BrBG')\n",
        "mapa_calor2.set_title('Features Correlating with Item_Visibility', fontdict={'fontsize':18}, pad=16)"
      ],
      "metadata": {
        "colab": {
          "base_uri": "https://localhost:8080/",
          "height": 313
        },
        "id": "bsZ0t-_xmvx7",
        "outputId": "9db9b5c5-e24d-4769-f089-93d62ea00b97"
      },
      "execution_count": 172,
      "outputs": [
        {
          "output_type": "execute_result",
          "data": {
            "text/plain": [
              "Text(0.5, 1.0, 'Features Correlating with Item_Visibility')"
            ]
          },
          "metadata": {},
          "execution_count": 172
        },
        {
          "output_type": "display_data",
          "data": {
            "text/plain": [
              "<Figure size 432x288 with 2 Axes>"
            ],
            "image/png": "[encoded data removed]"
          },
          "metadata": {
            "needs_background": "light"
          }
        }
      ]
    }
  ]
}